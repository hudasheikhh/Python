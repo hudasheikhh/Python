{
 "cells": [
  {
   "cell_type": "code",
   "execution_count": 1,
   "id": "053bcc40",
   "metadata": {},
   "outputs": [
    {
     "data": {
      "text/plain": [
       "' import numpy as np \\n\"\"\"\\n\\none dimention array is called as vector and\\n dimention are called as axes\\n\"\"\"\\n\\n#a=array()\\n\\na.ndim\\na.itemsize\\na.nbytes\\n\\na.dtype #a = np.array([1, 2, 3], dtype=np.float64)\\n\\n\\t#arr = np.array([1, 2, 3, 4], dtype=\\'S\\')\\n\"\"\"\\n\\ni - integer\\nb - boolean\\nu - unsigned integer\\nf - float\\nc - complex float\\nm - timedelta\\nM - datetime\\nO - object\\nS - string\\nU - unicode string\\nV - fixed chunk of memory for other type ( void )\\n\\n\"\"\"\\n\\n\\n\\n\\n# numpy zeros\\n\\na = np.zeros((2, 3),dtype=np.int32) # by default the dtype is float64\\nprint(a)\\n \\n# numpy ones\\n\\na = np.ones((2, 3, 2))\\n\\n\"\"\"\\n\\nc - complex float\\nm - timedelta\\nM - datetime\\nO - object\\nS - string\\nU - unicode string\\nV - fixed chunk of memory for other type ( void )\\n\\n\"\"\"\\n\\n\\n#two dimention Array we pass a list of a list of integers to the array() function.\\n\\t#A two-dimensional array is also called a matrix.\\nb = np.array(\\n    [\\n        [1, 2, 3],\\n        [4, 5, 6]\\n    ]\\n)\\n\\n\\n\\n\\n#three dimention #Note that a 3-D array is also called a tensor.\\n\\n\\nc = np.array(\\n    [\\n        [\\n            [1, 2, 3],\\n            [4, 5, 6]\\n        ],\\n        [\\n            [7, 8, 9],\\n            [10, 11, 12]\\n        ],\\n    ]\\n)\\n\\n\\n\\n\\n\"\"\"\\nTo find the number of axes and the number of elements\\n on each axis of an array, you use the shape property. For example:\\na.ndim\\na.shape\\n\\nThe shape property returns a tuple\\n\\nThe numpy arange() function creates a new numpy array with\\n evenly spaced numbers between start (inclusive) and stop (exclusive)\\n with a given step:\\n\"\"\"\\n \\na = np.arange(1, 10, 2, dtype=np.float64)\\n#c[1,3]\\nc[1:2:3,:]'"
      ]
     },
     "execution_count": 1,
     "metadata": {},
     "output_type": "execute_result"
    }
   ],
   "source": [
    "''' import numpy as np \n",
    "\"\"\"\n",
    "\n",
    "one dimention array is called as vector and\n",
    " dimention are called as axes\n",
    "\"\"\"\n",
    "\n",
    "#a=array()\n",
    "\n",
    "a.ndim\n",
    "a.itemsize\n",
    "a.nbytes\n",
    "\n",
    "a.dtype #a = np.array([1, 2, 3], dtype=np.float64)\n",
    "\n",
    "\t#arr = np.array([1, 2, 3, 4], dtype='S')\n",
    "\"\"\"\n",
    "\n",
    "i - integer\n",
    "b - boolean\n",
    "u - unsigned integer\n",
    "f - float\n",
    "c - complex float\n",
    "m - timedelta\n",
    "M - datetime\n",
    "O - object\n",
    "S - string\n",
    "U - unicode string\n",
    "V - fixed chunk of memory for other type ( void )\n",
    "\n",
    "\"\"\"\n",
    "\n",
    "\n",
    "\n",
    "\n",
    "# numpy zeros\n",
    "\n",
    "a = np.zeros((2, 3),dtype=np.int32) # by default the dtype is float64\n",
    "print(a)\n",
    " \n",
    "# numpy ones\n",
    "\n",
    "a = np.ones((2, 3, 2))\n",
    "\n",
    "\"\"\"\n",
    "\n",
    "c - complex float\n",
    "m - timedelta\n",
    "M - datetime\n",
    "O - object\n",
    "S - string\n",
    "U - unicode string\n",
    "V - fixed chunk of memory for other type ( void )\n",
    "\n",
    "\"\"\"\n",
    "\n",
    "\n",
    "#two dimention Array we pass a list of a list of integers to the array() function.\n",
    "\t#A two-dimensional array is also called a matrix.\n",
    "b = np.array(\n",
    "    [\n",
    "        [1, 2, 3],\n",
    "        [4, 5, 6]\n",
    "    ]\n",
    ")\n",
    "\n",
    "\n",
    "\n",
    "\n",
    "#three dimention #Note that a 3-D array is also called a tensor.\n",
    "\n",
    "\n",
    "c = np.array(\n",
    "    [\n",
    "        [\n",
    "            [1, 2, 3],\n",
    "            [4, 5, 6]\n",
    "        ],\n",
    "        [\n",
    "            [7, 8, 9],\n",
    "            [10, 11, 12]\n",
    "        ],\n",
    "    ]\n",
    ")\n",
    "\n",
    "\n",
    "\n",
    "\n",
    "\"\"\"\n",
    "To find the number of axes and the number of elements\n",
    " on each axis of an array, you use the shape property. For example:\n",
    "a.ndim\n",
    "a.shape\n",
    "\n",
    "The shape property returns a tuple\n",
    "\n",
    "The numpy arange() function creates a new numpy array with\n",
    " evenly spaced numbers between start (inclusive) and stop (exclusive)\n",
    " with a given step:\n",
    "\"\"\"\n",
    " \n",
    "a = np.arange(1, 10, 2, dtype=np.float64)\n",
    "#c[1,3]\n",
    "c[1:2:3,:]'''\n"
   ]
  },
  {
   "cell_type": "code",
   "execution_count": 2,
   "id": "06f88db5-eb3e-4b1f-ba4a-412ebc6c4c74",
   "metadata": {},
   "outputs": [],
   "source": [
    "import numpy as np"
   ]
  },
  {
   "cell_type": "code",
   "execution_count": 3,
   "id": "127b9daf-3131-45b9-9b1b-464e0e9cafce",
   "metadata": {},
   "outputs": [],
   "source": [
    "a=np.arange(1,10,0.1)#start stop step"
   ]
  },
  {
   "cell_type": "code",
   "execution_count": 4,
   "id": "956ad34e",
   "metadata": {},
   "outputs": [
    {
     "data": {
      "text/plain": [
       "array([1. , 1.1, 1.2, 1.3, 1.4, 1.5, 1.6, 1.7, 1.8, 1.9, 2. , 2.1, 2.2,\n",
       "       2.3, 2.4, 2.5, 2.6, 2.7, 2.8, 2.9, 3. , 3.1, 3.2, 3.3, 3.4, 3.5,\n",
       "       3.6, 3.7, 3.8, 3.9, 4. , 4.1, 4.2, 4.3, 4.4, 4.5, 4.6, 4.7, 4.8,\n",
       "       4.9, 5. , 5.1, 5.2, 5.3, 5.4, 5.5, 5.6, 5.7, 5.8, 5.9, 6. , 6.1,\n",
       "       6.2, 6.3, 6.4, 6.5, 6.6, 6.7, 6.8, 6.9, 7. , 7.1, 7.2, 7.3, 7.4,\n",
       "       7.5, 7.6, 7.7, 7.8, 7.9, 8. , 8.1, 8.2, 8.3, 8.4, 8.5, 8.6, 8.7,\n",
       "       8.8, 8.9, 9. , 9.1, 9.2, 9.3, 9.4, 9.5, 9.6, 9.7, 9.8, 9.9])"
      ]
     },
     "execution_count": 4,
     "metadata": {},
     "output_type": "execute_result"
    }
   ],
   "source": [
    "a"
   ]
  },
  {
   "cell_type": "code",
   "execution_count": 5,
   "id": "4c821b81",
   "metadata": {},
   "outputs": [],
   "source": [
    "a = np.linspace(1, 2, 8)#start stop n-number of element"
   ]
  },
  {
   "cell_type": "code",
   "execution_count": 6,
   "id": "a866d76b",
   "metadata": {},
   "outputs": [
    {
     "data": {
      "text/plain": [
       "array([1.        , 1.14285714, 1.28571429, 1.42857143, 1.57142857,\n",
       "       1.71428571, 1.85714286, 2.        ])"
      ]
     },
     "execution_count": 6,
     "metadata": {},
     "output_type": "execute_result"
    }
   ],
   "source": [
    "a"
   ]
  },
  {
   "cell_type": "code",
   "execution_count": 7,
   "id": "afeb5c9c",
   "metadata": {},
   "outputs": [
    {
     "data": {
      "text/plain": [
       "8"
      ]
     },
     "execution_count": 7,
     "metadata": {},
     "output_type": "execute_result"
    }
   ],
   "source": [
    "a.ndim;a.shape;a.nbytes;a.size"
   ]
  },
  {
   "cell_type": "code",
   "execution_count": 8,
   "id": "181dac47",
   "metadata": {},
   "outputs": [
    {
     "name": "stdout",
     "output_type": "stream",
     "text": [
      "[[False False False False]\n",
      " [False  True  True  True]\n",
      " [ True  True  True  True]]\n"
     ]
    }
   ],
   "source": [
    "a = np.array([[1 , 2, 3, 4], [5, 6, 7, 8], [9, 10, 11, 12]])\n",
    "five_up = (a > 5)\n",
    "print(five_up)"
   ]
  },
  {
   "cell_type": "code",
   "execution_count": 9,
   "id": "ae39df12",
   "metadata": {},
   "outputs": [
    {
     "name": "stdout",
     "output_type": "stream",
     "text": [
      "[ 2  4  6  8 10 12]\n"
     ]
    }
   ],
   "source": [
    "divisible_by_2 = a[a%2==0]\n",
    "print(divisible_by_2)"
   ]
  },
  {
   "cell_type": "code",
   "execution_count": 10,
   "id": "3c564016",
   "metadata": {},
   "outputs": [
    {
     "name": "stdout",
     "output_type": "stream",
     "text": [
      "[ 3  4  5  6  7  8  9 10]\n"
     ]
    }
   ],
   "source": [
    "c = a[(a > 2) & (a < 11)]\n",
    "print(c)"
   ]
  },
  {
   "cell_type": "code",
   "execution_count": 11,
   "id": "6cddc2c6",
   "metadata": {},
   "outputs": [
    {
     "name": "stdout",
     "output_type": "stream",
     "text": [
      "[[False False False False]\n",
      " [ True  True  True  True]\n",
      " [ True  True  True  True]]\n"
     ]
    }
   ],
   "source": [
    "five_up = (a > 5) | (a == 5)\n",
    "print(five_up)"
   ]
  },
  {
   "cell_type": "code",
   "execution_count": 12,
   "id": "adb61238",
   "metadata": {},
   "outputs": [
    {
     "name": "stdout",
     "output_type": "stream",
     "text": [
      "(array([1, 2, 3], dtype=int64),)\n"
     ]
    }
   ],
   "source": [
    "b = np.nonzero(a[1] > 5) ##search element with some condition\n",
    "print(b) "
   ]
  },
  {
   "cell_type": "code",
   "execution_count": 13,
   "id": "9cb2f401",
   "metadata": {},
   "outputs": [
    {
     "name": "stdout",
     "output_type": "stream",
     "text": [
      "(array([0, 1, 2, 3, 4], dtype=int64), array([0, 1, 2, 3, 4], dtype=int64))\n"
     ]
    }
   ],
   "source": [
    "e=np.eye(5)\n",
    "f = np.nonzero(e == 1)\n",
    "print(f)"
   ]
  },
  {
   "cell_type": "code",
   "execution_count": 14,
   "id": "d3acc403",
   "metadata": {},
   "outputs": [
    {
     "name": "stdout",
     "output_type": "stream",
     "text": [
      "(array([1, 1, 1, 2, 2, 2, 2], dtype=int64), array([1, 2, 3, 0, 1, 2, 3], dtype=int64))\n",
      "(0, 1, 1)\n",
      "(1, 1, 2)\n",
      "(2, 1, 3)\n",
      "(3, 2, 0)\n",
      "(4, 2, 1)\n"
     ]
    }
   ],
   "source": [
    "b = np.nonzero(a > 5) ##search element with some condition\n",
    "print(b) \n",
    "list_of_coordinates= zip(f[0],b[0], b[1])\n",
    "for coord in list_of_coordinates:\n",
    "    print(coord)"
   ]
  },
  {
   "cell_type": "markdown",
   "id": "ffa5a512",
   "metadata": {},
   "source": [
    "<img src=\"numpy-array-indexing-2d-array.svg\">"
   ]
  },
  {
   "cell_type": "code",
   "execution_count": 15,
   "id": "fab0921f",
   "metadata": {},
   "outputs": [
    {
     "name": "stdout",
     "output_type": "stream",
     "text": [
      "[[ 1  2  3  4]\n",
      " [ 5  6  7  8]\n",
      " [ 9 10 11 12]]\n",
      "[ 9 10 11 12]\n"
     ]
    }
   ],
   "source": [
    "print(a)\n",
    "print(np.max(a, axis=0))"
   ]
  },
  {
   "cell_type": "markdown",
   "id": "b05c8359",
   "metadata": {},
   "source": [
    "<img src=\"numpy-array-indexing-3d-array.svg\">"
   ]
  },
  {
   "cell_type": "markdown",
   "id": "383b441d",
   "metadata": {},
   "source": [
    "RAVEL & FLATTEN"
   ]
  },
  {
   "cell_type": "code",
   "execution_count": 16,
   "id": "9ac9b1b9",
   "metadata": {},
   "outputs": [
    {
     "name": "stdout",
     "output_type": "stream",
     "text": [
      "[[0 2]\n",
      " [3 4]]\n",
      "[0 2 3 4]\n",
      "[[1 2]\n",
      " [3 4]]\n",
      "[1 2 3 4]\n"
     ]
    }
   ],
   "source": [
    "import numpy as np\n",
    "a=np.array([[1,2],[3,4]])\n",
    "b=np.ravel(a)\n",
    "b[0]=0\n",
    "print(a)\n",
    "print(b)\n",
    "a=np.array([[1,2],[3,4]])\n",
    "b=a.flatten()\n",
    "b[0]\n",
    "print(a)\n",
    "print(b)"
   ]
  },
  {
   "cell_type": "code",
   "execution_count": 34,
   "id": "70edb4ca",
   "metadata": {},
   "outputs": [
    {
     "name": "stdout",
     "output_type": "stream",
     "text": [
      "[[  1   2   3   4   5]\n",
      " [  6   7   8   9  10]\n",
      " [ 11  12  13  14  15]\n",
      " [ 16  17  18  19  20]\n",
      " [ 21  22  23  24  25]\n",
      " [ 26  27  28  29  30]\n",
      " [ 31  32  33  34  35]\n",
      " [ 36  37  38  39  40]\n",
      " [ 41  42  43  44  45]\n",
      " [ 46  47  48  49  50]\n",
      " [ 51  52  53  54  55]\n",
      " [ 56  57  58  59  60]\n",
      " [ 61  62  63  64  65]\n",
      " [ 66  67  68  69  70]\n",
      " [ 71  72  73  74  75]\n",
      " [ 76  77  78  79  80]\n",
      " [ 81  82  83  84  85]\n",
      " [ 86  87  88  89  90]\n",
      " [ 91  92  93  94  95]\n",
      " [ 96  97  98  99 100]]\n"
     ]
    }
   ],
   "source": [
    "a1=np.arange(1,101).reshape(20,5)\n",
    "print(a1)\n",
    "# a[0:16,:] =a[19,4] =a[16,1:] =a[17,2:] =a[18,3:] = 0\n",
    "\n",
    "a1[0:16]=0"
   ]
  },
  {
   "cell_type": "code",
   "execution_count": 1,
   "id": "ca77ef4d",
   "metadata": {},
   "outputs": [
    {
     "name": "stderr",
     "output_type": "stream",
     "text": [
      "C:\\Users\\HUDA\\AppData\\Local\\Temp\\ipykernel_21660\\1391450101.py:3: DeprecationWarning: \n",
      "Pyarrow will become a required dependency of pandas in the next major release of pandas (pandas 3.0),\n",
      "(to allow more performant data types, such as the Arrow string type, and better interoperability with other libraries)\n",
      "but was not found to be installed on your system.\n",
      "If this would cause problems for you,\n",
      "please provide us feedback at https://github.com/pandas-dev/pandas/issues/54466\n",
      "        \n",
      "  import pandas as pd\n"
     ]
    }
   ],
   "source": [
    "#Unable to scrape data from Amazon, so using wikipedia\n",
    "import requests\n",
    "import pandas as pd\n",
    "from bs4 import BeautifulSoup\n",
    "\n",
    "url = 'https://en.wikipedia.org/wiki/List_of_countries_and_dependencies_and_their_capitals_in_native_languages'\n",
    "response = requests.get(url)\n",
    "\n",
    "if response.status_code == 200:\n",
    "    soup = BeautifulSoup(response.content, 'lxml')\n",
    "    #scraped_text = soup.prettify()\n",
    "    table = soup.find('table', class_='wikitable') #here, soup.find() will get data for just A character, soup.find_all() will give a list of all the characters.\n",
    "\n",
    "    if table:\n",
    "        data_rows = []\n",
    "        for row in table.find_all('tr')[1:]:\n",
    "            cells = row.find_all('td')\n",
    "            data_row = [cell.get_text(strip=True) for cell in cells]\n",
    "            data_rows.append(data_row)\n",
    "    \n",
    "        header = table.find('tr')\n",
    "        cells = header.find_all('th')\n",
    "        header_row = [cell.get_text(strip=True) for cell in cells]\n",
    "        df = pd.DataFrame(data_rows, columns=header_row)"
   ]
  },
  {
   "cell_type": "code",
   "execution_count": null,
   "id": "3806ccaa",
   "metadata": {},
   "outputs": [],
   "source": []
  }
 ],
 "metadata": {
  "kernelspec": {
   "display_name": "Python 3 (ipykernel)",
   "language": "python",
   "name": "python3"
  },
  "language_info": {
   "codemirror_mode": {
    "name": "ipython",
    "version": 3
   },
   "file_extension": ".py",
   "mimetype": "text/x-python",
   "name": "python",
   "nbconvert_exporter": "python",
   "pygments_lexer": "ipython3",
   "version": "3.11.8"
  }
 },
 "nbformat": 4,
 "nbformat_minor": 5
}
