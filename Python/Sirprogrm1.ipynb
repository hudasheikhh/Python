{
 "cells": [
  {
   "cell_type": "markdown",
   "metadata": {},
   "source": [
    "\n",
    "## Intro to Python & Python Basic Syntax What is python\n",
    "\n",
    "__What are the feature of Python__  \n",
    "\n",
    "__What are the Applications of Python__  \n",
    "\n",
    "__Python Installation__\n",
    "\n",
    "__What is Variable__\n",
    "\n",
    "__Rules of Defining the variables__ \n",
    "When you name a variable, you need to adhere to some rules. If you don’t, you’ll get an error.\n",
    "\n",
    "The following are the variable rules that you should keep in mind:\n",
    "\n",
    "Variable names can contain only letters, numbers, and underscores (_). They can start with a letter or an underscore (_), not with a number.\n",
    "Variable names cannot contain spaces. To separate words in variables, you use underscores for example sorted_list.\n",
    "Variable names cannot be the same as keywords, reserved words, and built-in functions in Python.\n",
    "\n",
    "__Multiple Variable Assignments__\n",
    "<pre>\n",
    "> a, b = 3, 5 \n",
    "> print(a)\n",
    "3\n",
    "> print(b)\n",
    "5\n",
    "> l = ['first', 'second']\n",
    "a,b=l\n",
    "> print(a)\n",
    "'first'\n",
    "> print(b)\n",
    "'second'\n",
    "</pre>\n",
    "\n",
    "__Variable swapping__\n",
    "<pre>\n",
    "a,b = b,a\n",
    "> print(a)\n",
    "'second'\n",
    "> print(b)\n",
    "'first'\n",
    "</pre>\n"
   ]
  },
  {
   "cell_type": "markdown",
   "metadata": {},
   "source": [
    "# Python Variable and String\n",
    "### Printing Hello World Program "
   ]
  },
  {
   "cell_type": "markdown",
   "metadata": {},
   "source": [
    "# *This is First Python Code*\n",
    "## print Is function and It Takes The 3 arrguments \n",
    "* >First: Srting or Variable name to be Printed\n",
    "* >Second: The end which<br> describes that what should be there after end this print Statement by Default it is set to \\n which means new line <br>\n",
    "* >Thired: The sep witch tell the print statement that how to seperate the two or more variable value if entered in print statement."
   ]
  },
  {
   "cell_type": "code",
   "execution_count": 2,
   "metadata": {},
   "outputs": [
    {
     "name": "stdout",
     "output_type": "stream",
     "text": [
      "hello World\thello/world\n"
     ]
    }
   ],
   "source": [
    "print('hello World',end='\\t')\n",
    "a='hello'\n",
    "b='world'\n",
    "print(a,b,sep='/')"
   ]
  },
  {
   "cell_type": "markdown",
   "metadata": {},
   "source": [
    "###  print function and perameters of print()\n",
    "* >printing some text with row string and with \\ operator and showing output with help of sinle and double quotes"
   ]
  },
  {
   "cell_type": "markdown",
   "metadata": {},
   "source": [
    "Using Different quotes "
   ]
  },
  {
   "cell_type": "code",
   "execution_count": 2,
   "metadata": {},
   "outputs": [
    {
     "name": "stdout",
     "output_type": "stream",
     "text": [
      "it's the use of quotes \n",
      "it's the use of quotes \n",
      "'it's the use of quotes '\n"
     ]
    }
   ],
   "source": [
    "print('it\\'s the use of quotes ')\n",
    "print(\"it\\'s the use of quotes \")\n",
    "print(\"'it\\'s the use of quotes '\")"
   ]
  },
  {
   "cell_type": "markdown",
   "metadata": {},
   "source": [
    "Using The row string with help of ' r '"
   ]
  },
  {
   "cell_type": "code",
   "execution_count": 3,
   "metadata": {},
   "outputs": [
    {
     "name": "stdout",
     "output_type": "stream",
     "text": [
      "this is for printing path c\\this\\is\\path\n"
     ]
    }
   ],
   "source": [
    "print(r\"this is for printing path c\\this\\is\\path\")#r prefix fro raw string"
   ]
  },
  {
   "cell_type": "markdown",
   "metadata": {},
   "source": [
    "Using the Sep peramertor in print function "
   ]
  },
  {
   "cell_type": "code",
   "execution_count": 4,
   "metadata": {},
   "outputs": [
    {
     "name": "stdout",
     "output_type": "stream",
     "text": [
      "Hello,     10    20\n",
      "World!\n"
     ]
    }
   ],
   "source": [
    "a = 10\n",
    "b = 20\n",
    "print(\"Hello, \",a,b,sep = \"    \")\n",
    "print(\"World!\")"
   ]
  },
  {
   "cell_type": "markdown",
   "metadata": {},
   "source": [
    "using the end perametor with print function"
   ]
  },
  {
   "cell_type": "code",
   "execution_count": 1,
   "metadata": {},
   "outputs": [
    {
     "name": "stdout",
     "output_type": "stream",
     "text": [
      "Hello,  10 20 World!\n"
     ]
    }
   ],
   "source": [
    "a=10\n",
    "b=20\n",
    "print(\"Hello, \",a,b,end = ' ')\n",
    "print(\"World!\")\n"
   ]
  },
  {
   "cell_type": "code",
   "execution_count": 4,
   "metadata": {},
   "outputs": [
    {
     "name": "stdout",
     "output_type": "stream",
     "text": [
      "My name is John and I am 30 years old.\n"
     ]
    }
   ],
   "source": [
    "# Using f prefix for a formatted string\n",
    "name = \"John\"\n",
    "age = 30\n",
    "formatted_string = f\"My name is {name} and I am {age} years old.\"\n",
    "print(formatted_string)\n"
   ]
  },
  {
   "cell_type": "markdown",
   "metadata": {},
   "source": [
    "* >String Concatination"
   ]
  },
  {
   "cell_type": "code",
   "execution_count": 7,
   "metadata": {},
   "outputs": [
    {
     "name": "stdout",
     "output_type": "stream",
     "text": [
      "hello world\n",
      "hello world\n",
      "helloworld\n",
      "<class 'float'>\n",
      "hello\n",
      "helloworld!  helloworld\n",
      "helloworld helloworld!  \n",
      "helloworld  helloworld!  helloworld!  helloworld!  \n"
     ]
    }
   ],
   "source": [
    "print('hello'+' world')\n",
    "print('hello','world')\n",
    "var='hello' \"world\"\n",
    "print(var)\n",
    "print(type(1.3))\n",
    "print('hello')\n",
    "var2=var + '!  '\n",
    "print(var2+var)\n",
    "print(var, var2)\n",
    "print(var, var2*3,sep='  ')\n"
   ]
  },
  {
   "cell_type": "markdown",
   "metadata": {},
   "source": [
    "\n",
    "### Index of String and Use of ' len() '\n",
    "<pre>\n",
    "+---+---+---+---+---+---+---+---+---+---+---+\n",
    "| h | e | l | l | o |   | w | o | r | l | d |  \n",
    "+---+---+---+---+---+---+---+---+---+---+---+\n",
    "  0   1   2   3   4   5   6   7   8   9   10 \n",
    " -11 -10 -9  -8  -7  -6  -5  -4  -3  -2  -1\n",
    " </pre> "
   ]
  },
  {
   "cell_type": "code",
   "execution_count": 10,
   "metadata": {},
   "outputs": [
    {
     "name": "stdout",
     "output_type": "stream",
     "text": [
      "e\n",
      "\n",
      "helloworld\n",
      "\n",
      " 10\n",
      "\n",
      "helloworld\n",
      "\n",
      " d\n"
     ]
    }
   ],
   "source": [
    "\n",
    "var = \"helloworld\"\n",
    "\n",
    "print(var[1])\n",
    "\n",
    "print()\n",
    "\n",
    "for i in var:\n",
    "    print(i,end='')\n",
    "\n",
    "print()\n",
    "\n",
    "print('\\n',len(var))\n",
    "\n",
    "print()\n",
    "\n",
    "for i in range(0,len(var),1):\n",
    "    print(var[i],end='')\n",
    "\n",
    "print()\n",
    "\n",
    "print('\\n',var[-1])\n",
    "\n"
   ]
  },
  {
   "cell_type": "markdown",
   "metadata": {},
   "source": [
    "* __Python Slice Operator__"
   ]
  },
  {
   "cell_type": "markdown",
   "metadata": {},
   "source": [
    "[0:2] returns a substring that includes the character from the index 0 (included) to 2 (excluded).\n",
    "the start and the end are optional if we don't specify this it take autometically start as 0 and end as length of string"
   ]
  },
  {
   "cell_type": "code",
   "execution_count": 24,
   "metadata": {},
   "outputs": [
    {
     "name": "stdout",
     "output_type": "stream",
     "text": [
      "he\n",
      "[8, 6, 4, 2]\n",
      "[0]\n",
      "[0, 2, 4, 6, 8]\n"
     ]
    }
   ],
   "source": [
    "print(var[0:2])\n",
    "numbers = [0, 1, 2, 3, 4, 5, 6, 7, 8, 9]\n",
    "\n",
    "# Get a slice with a step of 2\n",
    "sliced_numbers = numbers[1:7:2]\n",
    "sliced_numbers = numbers[0:3:5]\n",
    "\n",
    "# Get a slice with a step of 2 in reverse order\n",
    "sliced_numbers_in_reverse = numbers[8:1:-2]#\n",
    "\n",
    "print(sliced_numbers_in_reverse)\n",
    "print(sliced_numbers)  # Output: [1, 3, 5, 7]\n",
    "print(numbers[::2]) # without difining the start and end and with step of 2 "
   ]
  },
  {
   "cell_type": "code",
   "execution_count": 25,
   "metadata": {},
   "outputs": [
    {
     "name": "stdout",
     "output_type": "stream",
     "text": [
      "[1, 2, 999, 4, 5, 999]\n",
      "[2, 3, 4]\n"
     ]
    }
   ],
   "source": [
    "original_list = [1, 2, 3, 4, 5]\n",
    "original_tuple = (1, 2, 3, 4, 5)\n",
    "# Slicing creates a new list\n",
    "sliced_list = original_list[1:4]\n",
    "sliced_tuple = original_tuple[1:4]\n",
    "# Modify the original list\n",
    "original_list += [999]  # Output: [1, 2, 4, 5, 999]\n",
    "original_list[2] = 999\n",
    "\n",
    "print(original_list)  # Output: [1, 2, 999, 4, 5]\n",
    "print(sliced_list)    # Output: [2, 3, 4]"
   ]
  },
  {
   "cell_type": "markdown",
   "metadata": {},
   "source": [
    "* Strings are immutable in python same as Java \n",
    "\n",
    "* to update string we have to reassign new value to string variable"
   ]
  },
  {
   "cell_type": "code",
   "execution_count": 11,
   "metadata": {},
   "outputs": [
    {
     "name": "stdout",
     "output_type": "stream",
     "text": [
      "Hi World\n"
     ]
    }
   ],
   "source": [
    "str = \"Hello World\"\n",
    "new_str = 'Hi' + str[5:]\n",
    "print(new_str)"
   ]
  },
  {
   "cell_type": "markdown",
   "metadata": {},
   "source": [
    "* >To Check the id of string we have ' id() ' and cpython basically returns the memory location of the object when the string is passed to the <b>id</b> function "
   ]
  },
  {
   "cell_type": "code",
   "execution_count": 12,
   "metadata": {},
   "outputs": [
    {
     "name": "stdout",
     "output_type": "stream",
     "text": [
      "True\n",
      "True\n",
      "id 1983486606064\n",
      "id 1983486606064\n",
      "id 1983486606064\n",
      "id 140711657595976\n",
      "id 140711657595976\n"
     ]
    }
   ],
   "source": [
    "# Example of string interning\n",
    "a = \"hello\"\n",
    "b = \"hello\"\n",
    "c = \"h\" + \"ello\"\n",
    "\n",
    "print(a is b)  # True (same object)\n",
    "print(a is c)  # True (interning)\n",
    "id(a)\n",
    "print('id',id(a))\n",
    "id(b)\n",
    "print('id',id(b))\n",
    "print('id',id(c))\n",
    "\n",
    "int_a = 10\n",
    "int_b = 11\n",
    "\n",
    "print('id',id(int_a))\n",
    "int_b = 10\n",
    "print('id',id(int_b))\n",
    "\n"
   ]
  },
  {
   "cell_type": "markdown",
   "metadata": {},
   "source": [
    "\n",
    "### <b>String Functions</b>\n"
   ]
  },
  {
   "cell_type": "markdown",
   "metadata": {},
   "source": [
    "*String Methods upper(), lower(), capitalize(), rstrip(), lstrip(), strip(), replace(), find(), split(), len(), title(), swapcase(), count()\n",
    "we can also use ' in ' and  ' not in '  operator with String*\n",
    "\n",
    "\n",
    "isalnum()-Python string isalnum() function returns True if it’s made of alphanumeric characters only.\n",
    "\n",
    "isalpha()-Python String isalpha() function returns True if all the characters in the string are alphabets, otherwise False.\n",
    "\n",
    "isdecimal()-Python String isdecimal() function returns True if all the characters in the string are decimal characters, otherwise False.\n",
    "\n",
    "isdigit()\t-Python String isdigit() function returns True if all the characters in the string are digits, otherwise False.\n",
    "\n",
    "isidentifier()-Python String isidentifier() function returns True if the string is a valid identifier according to the Python language definition.\n",
    "\n",
    "islower()-Python String islower() returns True if all cased characters in the string are lowercase and there is at least one cased character, otherwise it returns False.\n",
    "\n",
    "isnumeric()-Python String isnumeric() function returns True if all the characters in the string are numeric, otherwise False. If the string is empty, then this function returns False.\n",
    "\n",
    "isprintable()- Python String isprintable() function returns True if all characters in the string are printable or the string is empty, False otherwise.\n",
    "\n",
    "isspace()-Python String isspace() function returns True if there are only whitespace characters in the string, otherwise it returns False.\n",
    "\n",
    "istitle()-Python String istitle() returns True if the string is title cased and not empty, otherwise it returns False.\n",
    "\n",
    "isupper()-Python String isupper() function returns True if all the cased characters are in Uppercase\n",
    "\n"
   ]
  },
  {
   "cell_type": "code",
   "execution_count": 13,
   "metadata": {},
   "outputs": [
    {
     "name": "stdout",
     "output_type": "stream",
     "text": [
      "helloworldhelloworldhelloworld\n",
      "True\n",
      "True\n"
     ]
    }
   ],
   "source": [
    "print(var*3)\n",
    "sentence = \"Python is fun!\"\n",
    "\n",
    "print('Python' in sentence)   # True\n",
    "print('Java' not in sentence)  # True\n"
   ]
  },
  {
   "cell_type": "markdown",
   "metadata": {},
   "source": [
    "\n",
    "# Python Numbers\n",
    "\n",
    "Python supports integers, floats, and complex numbers.\n",
    "\n",
    "## Simple python program which check the input is it positive negative or zero "
   ]
  },
  {
   "cell_type": "code",
   "execution_count": 14,
   "metadata": {},
   "outputs": [
    {
     "name": "stdout",
     "output_type": "stream",
     "text": [
      "Entered Number is Positive\n",
      "<class 'complex'> (2+3j)\n"
     ]
    }
   ],
   "source": [
    "#num = int(input('Enter a Number'))\n",
    "num =14\n",
    "if num<0:\n",
    "    print('Entered Number is Negative')\n",
    "else:\n",
    "    if num>0:\n",
    "        print('Entered Number is Positive')\n",
    "    else:\n",
    "        print('Entered Number is Zero')\n",
    "a=2+3j\n",
    "print(type(a),a)\n"
   ]
  },
  {
   "cell_type": "markdown",
   "metadata": {},
   "source": [
    "## leap year code\n",
    "Python Program checks the input given by user which is a yaar and give us output that is it a leap year"
   ]
  },
  {
   "cell_type": "code",
   "execution_count": 15,
   "metadata": {},
   "outputs": [
    {
     "name": "stdout",
     "output_type": "stream",
     "text": [
      "This year is Leap year\n"
     ]
    }
   ],
   "source": [
    "#year = int(input('Enter Year'))\n",
    "year = 2024\n",
    "if (year%400 ==0) or (year%4 == 0 and year%100 != 0):\n",
    "    print(\"This year is Leap year\")\n",
    "else:\n",
    "    print(\"Not a Leap Year\")"
   ]
  },
  {
   "cell_type": "markdown",
   "metadata": {},
   "source": [
    "Now same program with tarnery operator but this will be in consice manner"
   ]
  },
  {
   "cell_type": "code",
   "execution_count": 16,
   "metadata": {},
   "outputs": [
    {
     "name": "stdout",
     "output_type": "stream",
     "text": [
      "2024 is a leap year\n"
     ]
    }
   ],
   "source": [
    "#year = int(input('Enter Year'))\n",
    "year = 2024\n",
    "result = \"is a leap year\" if ((year%400 ==0) or (year%4 == 0 and year%100 != 0)) else \"is not a leap year\"\n",
    "print(year,result)"
   ]
  },
  {
   "cell_type": "markdown",
   "metadata": {},
   "source": [
    "## Bitwise Operator\n",
    "<img src=\"https://techvidvan.com/tutorials/wp-content/uploads/sites/2/2019/12/types-of-bitwise-operators.jpg\" alt='bitwise operator'><br>\n",
    "<img src=\"https://techvidvan.com/tutorials/wp-content/uploads/sites/2/2019/12/implementation-of-and-operation-on-binary-digits.jpg\" alt='and table'>\n",
    "<img src=\"https://techvidvan.com/tutorials/wp-content/uploads/sites/2/2019/12/example-of-bitwise-and-operation.jpg\">\n",
    "<img src=\"https://techvidvan.com/tutorials/wp-content/uploads/sites/2/2019/12/bitwise-or-operations.jpg\">\n",
    "<img src=\"https://techvidvan.com/tutorials/wp-content/uploads/sites/2/2019/12/example-of-bitwise-or-operation.jpg\">\n",
    "<img src=\"https://techvidvan.com/tutorials/wp-content/uploads/sites/2/2019/12/bitwise-Xor-operations.jpg\">\n",
    "<img src=\"https://techvidvan.com/tutorials/wp-content/uploads/sites/2/2019/12/example-of-bitwise-Xor-operation.jpg\">\n",
    "<br><pre>\n",
    "### Bitwise 1’s complement (~)\n",
    "The bitwise 1’s complement only works on one operand.\n",
    " It is used to get the 1’s complement of a number.\n",
    " It flips all the bits until it reaches first zero from the right, so ~x is the same as -(x+1)\n",
    "\n",
    "### Left And Right Swift operator\n",
    "we have left swift <b>' << '</b>\n",
    "    and right swift <b>' >> '</b> operator\n",
    "\n",
    " #### Right Swift Operator   \n",
    "if i have value <b>7</b> after converting to binary it will be <b>111</b> \n",
    "and we apply the right swift one time \n",
    "eg \n",
    "    <b> 7>>1 </b>\n",
    " it will be \n",
    "     <b>11</b> \n",
    "which is binary value of <b> 3</b>\n",
    "\n",
    "\n",
    "if i have value <b>7</b> after converting to binary it will be <b>111</b> \n",
    "and we apply the right swift one time \n",
    "eg \n",
    "    <b> 7>>1 </b>\n",
    " it will be \n",
    "     <b>11</b> \n",
    "which is binary value of <b> 3</b>\n",
    "\n",
    " </pre>    \n"
   ]
  },
  {
   "cell_type": "code",
   "execution_count": 33,
   "metadata": {},
   "outputs": [
    {
     "data": {
      "text/plain": [
       "56"
      ]
     },
     "execution_count": 33,
     "metadata": {},
     "output_type": "execute_result"
    }
   ],
   "source": [
    "7<<3\n"
   ]
  },
  {
   "cell_type": "code",
   "execution_count": 36,
   "metadata": {},
   "outputs": [
    {
     "name": "stdout",
     "output_type": "stream",
     "text": [
      "2\n",
      "4\n",
      "6\n",
      "8\n",
      "10\n"
     ]
    }
   ],
   "source": [
    "for i in range(2,11,2):\n",
    "    print(i)"
   ]
  },
  {
   "cell_type": "code",
   "execution_count": 19,
   "metadata": {},
   "outputs": [
    {
     "name": "stdout",
     "output_type": "stream",
     "text": [
      "0\n",
      "1\n",
      "2\n",
      "3\n",
      "4\n"
     ]
    }
   ],
   "source": [
    "max = 5\n",
    "counter = 0\n",
    "\n",
    "while counter < max:\n",
    "    print(counter)\n",
    "    counter += 1"
   ]
  },
  {
   "cell_type": "code",
   "execution_count": 20,
   "metadata": {},
   "outputs": [
    {
     "name": "stdout",
     "output_type": "stream",
     "text": [
      "Echo: quite\n",
      "Echo: quit\n"
     ]
    }
   ],
   "source": [
    "command = ''\n",
    "\n",
    "while command.lower() != 'quit':\n",
    "    command = input('>')\n",
    "    print(f\"Echo: {command}\")"
   ]
  },
  {
   "cell_type": "code",
   "execution_count": 9,
   "metadata": {},
   "outputs": [
    {
     "name": "stdout",
     "output_type": "stream",
     "text": [
      "Unsorted list: [64, 34, 25, 12, 22, 11, 90]\n",
      "Sorted list: [11, 12, 22, 25, 34, 64, 90]\n"
     ]
    }
   ],
   "source": [
    "def bubble_sort(arr):\n",
    "    n = len(arr)\n",
    "\n",
    "    # Traverse through all elements in the array\n",
    "    for i in range(n):\n",
    "        # Last i elements are already in place, so no need to check them\n",
    "        for j in range(0, n-i-1):\n",
    "            # Swap if the element found is greater than the next element\n",
    "            if arr[j] > arr[j+1]:\n",
    "                arr[j], arr[j+1] = arr[j+1], arr[j]\n",
    "\n",
    "# Example usage\n",
    "my_list = [64, 34, 25, 12, 22, 11, 90]\n",
    "print(\"Unsorted list:\", my_list)\n",
    "\n",
    "bubble_sort(my_list)\n",
    "\n",
    "print(\"Sorted list:\", my_list)\n"
   ]
  },
  {
   "cell_type": "code",
   "execution_count": 37,
   "metadata": {},
   "outputs": [],
   "source": [
    "i_counter=0\n",
    "j_counter=0\n",
    "for i in range(20):\n",
    "    i_counter +=1\n",
    "    for j in range(5):\n",
    "        j_counter +=1\n"
   ]
  },
  {
   "cell_type": "code",
   "execution_count": 38,
   "metadata": {},
   "outputs": [
    {
     "name": "stdout",
     "output_type": "stream",
     "text": [
      "20 100\n"
     ]
    }
   ],
   "source": [
    "print(i_counter,j_counter)"
   ]
  },
  {
   "cell_type": "markdown",
   "metadata": {},
   "source": [
    "## What is Datatype\n",
    "\n",
    "__What is Mutable & Immutable__\n",
    "<pre>\n",
    "* Immutable Datatype\n",
    "\n",
    "If the values has been assigned to that datatype and it cannot be changed then it is called Immutable datatype.\n",
    "The best example is tuple , if a value is present in the tuple then you cannot update them.\n",
    "This is some what similar to a fixed list where where you cannot modify the existing values.\n",
    "\n",
    "Types of Immutable Datatypes\n",
    "\n",
    "Numeric\n",
    "String \n",
    "Tuple\n",
    "\n",
    "\n",
    "* Mutable Datatype\n",
    "\n",
    "If the vales has been assign to that datatype and it can be change then it is called mutable datatype.\n",
    "Types of mutable Datatypes\n",
    "\n",
    "List\n",
    "Dictionary\n",
    "Set\n",
    "</pre>\n",
    "\n",
    "\n",
    "__List Operations & Methods__\n",
    "\n",
    "A list refers to a collection of elements\n",
    "\n",
    "The elements of a list do not all have to be of the same data type.\n",
    "\n",
    "A list is an ordered sequence of data.\n",
    "\n",
    "* we can create list <br>\n",
    "    Using square brackets ' [ ] '  <br>\n",
    "    Using list Function ' list() ' <br>\n",
    "* We can iterate over list using in operator <br>\n",
    "\n",
    "\n",
    "__Tuple Operations & Methods__ \n",
    "\n",
    "A tuple is a frozen list i.e tuple cannot be modified once it is created.\n",
    "\n",
    "A tuple is declared with round parentheses ()\n",
    "\n",
    "As tuple are immutable, iterating through tuple is faster than with list\n",
    "\n",
    "functions: len()\n",
    "we can iterate over tuple \n",
    "we can use slice operator\n",
    "\n",
    "*Modifying Tuple\n",
    "\n",
    "Since Tuple is immutable we cannot add an element,update an element and delete a particular element from the tuple.\n",
    "> del tuple_name\n",
    "\n",
    "\n",
    "\n",
    "__Dictionary Operations & Methods__\n",
    "\n",
    "__Set Operations & Methods__"
   ]
  },
  {
   "cell_type": "markdown",
   "metadata": {},
   "source": [
    "# While Loop\n",
    "### Syntax\n",
    "<pre>\n",
    "while (condition):\n",
    "    Code block\n",
    "    Code block\n",
    "    Code block\n",
    "    Code block\n",
    "else:\n",
    "    Code block\n",
    "    Code block\n",
    "    Code block\n",
    "    Code block\n",
    "    Code block\n",
    "</pre>"
   ]
  },
  {
   "cell_type": "code",
   "execution_count": 5,
   "metadata": {},
   "outputs": [
    {
     "name": "stdout",
     "output_type": "stream",
     "text": [
      "start\n",
      "1\n",
      "2\n",
      "3\n",
      "4\n",
      "5\n",
      "finish\n"
     ]
    }
   ],
   "source": [
    "print('start')\n",
    "num = 1 # assignment \n",
    "while (num < 6 ):\n",
    "    print(num)\n",
    "    num = num + 1 \n",
    "else:\n",
    "   print('finish')"
   ]
  },
  {
   "cell_type": "code",
   "execution_count": 6,
   "metadata": {},
   "outputs": [
    {
     "name": "stdout",
     "output_type": "stream",
     "text": [
      "hi\n",
      "hello\n",
      "hr\n"
     ]
    }
   ],
   "source": [
    "a = input('>')\n",
    "while a != 'quit':\n",
    "    print(a)\n",
    "    a=input('>')"
   ]
  },
  {
   "cell_type": "code",
   "execution_count": 9,
   "metadata": {},
   "outputs": [
    {
     "name": "stdout",
     "output_type": "stream",
     "text": [
      "1\n",
      "2\n",
      "3\n",
      "4\n"
     ]
    }
   ],
   "source": [
    "num= 1\n",
    "while (num<11):\n",
    "    if num>4:\n",
    "        break\n",
    "    else:\n",
    "        print(num)\n",
    "        num += 1"
   ]
  },
  {
   "cell_type": "code",
   "execution_count": 3,
   "metadata": {},
   "outputs": [
    {
     "name": "stdout",
     "output_type": "stream",
     "text": [
      "inner loop with num value 1,1\n",
      "inner loop with num value 1,2\n",
      "inner loop with num value 1,3\n",
      "inner loop with num value 1,4\n",
      "inner loop with num value 1,5\n",
      "inner loop with num value 2,1\n",
      "inner loop with num value 2,2\n",
      "inner loop with num value 2,3\n",
      "inner loop with num value 2,4\n",
      "inner loop with num value 2,5\n",
      "inner loop with num value 3,1\n",
      "inner loop with num value 3,2\n",
      "inner loop with num value 3,3\n",
      "inner loop with num value 3,4\n",
      "inner loop with num value 3,5\n",
      "inner loop with num value 4,1\n",
      "inner loop with num value 4,2\n",
      "inner loop with num value 4,3\n",
      "inner loop with num value 4,4\n",
      "inner loop with num value 4,5\n",
      "inner loop with num value 5,1\n",
      "inner loop with num value 5,2\n",
      "inner loop with num value 5,3\n",
      "inner loop with num value 5,4\n",
      "inner loop with num value 5,5\n",
      "inner loop with num value 6,1\n",
      "inner loop with num value 6,2\n",
      "inner loop with num value 6,3\n",
      "inner loop with num value 6,4\n",
      "inner loop with num value 6,5\n",
      "inner loop with num value 7,1\n",
      "inner loop with num value 7,2\n",
      "inner loop with num value 7,3\n",
      "inner loop with num value 7,4\n",
      "inner loop with num value 7,5\n",
      "inner loop with num value 8,1\n",
      "inner loop with num value 8,2\n",
      "inner loop with num value 8,3\n",
      "inner loop with num value 8,4\n",
      "inner loop with num value 8,5\n",
      "inner loop with num value 9,1\n",
      "inner loop with num value 9,2\n",
      "inner loop with num value 9,3\n",
      "inner loop with num value 9,4\n",
      "inner loop with num value 9,5\n",
      "inner loop with num value 10,1\n",
      "inner loop with num value 10,2\n",
      "inner loop with num value 10,3\n",
      "inner loop with num value 10,4\n",
      "inner loop with num value 10,5\n",
      "10\n"
     ]
    }
   ],
   "source": [
    "num = 1\n",
    "counter = 0\n",
    "while (num < 11):\n",
    "    #print('outer loop with num value', num)\n",
    "    num1 = 1\n",
    "    while( num1 < 11):\n",
    "        if num1 > 5 : \n",
    "            break\n",
    "        print(f'inner loop with num value {num},{num1}')\n",
    "        num1 = num1 + 1\n",
    "        counter = counter + 1\n",
    "    num = num + 1\n",
    "print(counter)"
   ]
  },
  {
   "cell_type": "code",
   "execution_count": 7,
   "metadata": {},
   "outputs": [
    {
     "name": "stdout",
     "output_type": "stream",
     "text": [
      "1\n",
      "3\n",
      "5\n",
      "7\n",
      "9\n"
     ]
    }
   ],
   "source": [
    "num = 0\n",
    "while num < 10:\n",
    "    num = num + 1\n",
    "    if num % 2 == 0:\n",
    "        continue\n",
    "    print(num)\n",
    "    \n"
   ]
  },
  {
   "cell_type": "markdown",
   "metadata": {},
   "source": [
    "# for loop\n"
   ]
  },
  {
   "cell_type": "code",
   "execution_count": 4,
   "metadata": {},
   "outputs": [
    {
     "name": "stdout",
     "output_type": "stream",
     "text": [
      "0\n",
      "1\n",
      "2\n",
      "3\n",
      "4\n",
      "5\n",
      "6\n",
      "7\n",
      "8\n",
      "9\n",
      "10\n",
      "hello world"
     ]
    }
   ],
   "source": [
    "for i in range(11):\n",
    "    print(i)\n",
    "st=\"hello world\"\n",
    "for i in st:\n",
    "    print(i,end='')"
   ]
  },
  {
   "cell_type": "markdown",
   "metadata": {},
   "source": [
    "# Functions"
   ]
  },
  {
   "cell_type": "code",
   "execution_count": 2,
   "metadata": {},
   "outputs": [],
   "source": [
    "def greet():\n",
    "    print('hello world')"
   ]
  },
  {
   "cell_type": "code",
   "execution_count": 3,
   "metadata": {},
   "outputs": [
    {
     "name": "stdout",
     "output_type": "stream",
     "text": [
      "hello world\n"
     ]
    }
   ],
   "source": [
    "greet()"
   ]
  },
  {
   "cell_type": "code",
   "execution_count": 15,
   "metadata": {},
   "outputs": [],
   "source": [
    "def greetWithArr(name:int):\n",
    "    print(f\"hello {name}\")"
   ]
  },
  {
   "cell_type": "code",
   "execution_count": 17,
   "metadata": {},
   "outputs": [
    {
     "name": "stdout",
     "output_type": "stream",
     "text": [
      "hello Rahul\n",
      "hello True\n",
      "hello 45\n"
     ]
    }
   ],
   "source": [
    "greetWithArr('Rahul')\n",
    "a=True\n",
    "greetWithArr(a)\n",
    "greetWithArr(45)"
   ]
  },
  {
   "cell_type": "code",
   "execution_count": 8,
   "metadata": {},
   "outputs": [],
   "source": [
    "def table(num:int=1):\n",
    "    \"\"\"this is table function\"\"\"\n",
    "    for i in range(1,4,1):\n",
    "        print(f'{num} X {i} = {num*i}')"
   ]
  },
  {
   "cell_type": "code",
   "execution_count": 48,
   "metadata": {},
   "outputs": [
    {
     "name": "stdout",
     "output_type": "stream",
     "text": [
      "1 X 1 = 1\n",
      "1 X 2 = 2\n",
      "1 X 3 = 3\n",
      "3 X 1 = 3\n",
      "3 X 2 = 6\n",
      "3 X 3 = 9\n"
     ]
    }
   ],
   "source": [
    "table()\n",
    "table()"
   ]
  },
  {
   "cell_type": "code",
   "execution_count": 5,
   "metadata": {},
   "outputs": [],
   "source": [
    "def showDetails(name,age,salary):\n",
    "    print(f'your name is {name}')\n",
    "    print(f'your age is {age}')\n",
    "    print(f'your salary is {salary}')"
   ]
  },
  {
   "cell_type": "code",
   "execution_count": 9,
   "metadata": {},
   "outputs": [
    {
     "name": "stdout",
     "output_type": "stream",
     "text": [
      "your name is 54\n",
      "your age is rahul\n",
      "your salary is 45356\n",
      "\n",
      "your name is Raj\n",
      "your age is 23\n",
      "your salary is 45555\n"
     ]
    }
   ],
   "source": [
    "showDetails(54,'rahul',45356)\n",
    "print()\n",
    "showDetails('Raj',salary=45555,age=23)\n",
    "\n"
   ]
  },
  {
   "cell_type": "code",
   "execution_count": 10,
   "metadata": {},
   "outputs": [],
   "source": [
    "def my_decorator(func):\n",
    "    def wrapper1(name):\n",
    "        print(\"Something is happening before the function is called.\")\n",
    "        func(name)\n",
    "        print(\"Something is happening after the function is called.\")\n",
    "    return wrapper1\n",
    "\n",
    "@my_decorator\n",
    "def say_hello(name):\n",
    "    print(\"Hello!\")"
   ]
  },
  {
   "cell_type": "code",
   "execution_count": 12,
   "metadata": {},
   "outputs": [
    {
     "name": "stdout",
     "output_type": "stream",
     "text": [
      "Something is happening before the function is called.\n",
      "Hello!\n",
      "Something is happening after the function is called.\n"
     ]
    }
   ],
   "source": [
    "say_hello('hi')\n"
   ]
  },
  {
   "cell_type": "code",
   "execution_count": 30,
   "metadata": {},
   "outputs": [],
   "source": [
    "def isLeap(year):\n",
    "    if year % 400 == 0:\n",
    "        print('first')\n",
    "        #return True\n",
    "    else:\n",
    "        if (year%4 == 0 and year%100 != 0):\n",
    "            print('second')\n",
    "            #return True\n",
    "        else:\n",
    "            pass\n",
    "            #return False\n",
    "    print('end of the function')\n",
    "def withoutReturn(num):\n",
    "    print(num*2)\n",
    "    "
   ]
  },
  {
   "cell_type": "code",
   "execution_count": null,
   "metadata": {},
   "outputs": [],
   "source": [
    "print(isLeap(400))\n",
    "print('something')\n",
    "withoutReturn(4)"
   ]
  },
  {
   "cell_type": "markdown",
   "metadata": {},
   "source": [
    "### lambda function\n",
    "\n",
    "<pre>\n",
    "Python lambda expressions allow you to define anonymous functions.\n",
    "\n",
    "Anonymous functions are functions without names. The anonymous functions are useful when you need to use them once.\n",
    "\n",
    "A lambda expression typically contains one or more arguments, but it can have only one expression.\n",
    "\n",
    "The following shows the lambda expression syntax:\n",
    "\n",
    "lambda parameters: expression\n",
    "</pre>"
   ]
  },
  {
   "cell_type": "code",
   "execution_count": null,
   "metadata": {},
   "outputs": [],
   "source": [
    "def times(n):\n",
    "    return lambda x: x * n\n",
    "\n",
    "double = times(2)\n",
    "result = double(2)\n",
    "print(result)\n",
    "\n",
    "result = double(3)\n",
    "print(result)"
   ]
  },
  {
   "cell_type": "code",
   "execution_count": 14,
   "metadata": {},
   "outputs": [
    {
     "name": "stdout",
     "output_type": "stream",
     "text": [
      "{1000, 1500, 500}\n"
     ]
    }
   ],
   "source": [
    "\n",
    "bonuses = [100, 200, 300]\n",
    "iterator = map(lambda bonus: bonus*5, bonuses)\n",
    "print(set(iterator))\n"
   ]
  },
  {
   "cell_type": "code",
   "execution_count": 15,
   "metadata": {},
   "outputs": [
    {
     "name": "stdout",
     "output_type": "stream",
     "text": [
      "[['China', 1394015977], ['United States', 329877505], ['India', 1326093247]]\n"
     ]
    }
   ],
   "source": [
    "countries = [\n",
    "    ['China', 1394015977],\n",
    "    ['United States', 329877505],\n",
    "    ['India', 1326093247],\n",
    "    ['Indonesia', 267026366],\n",
    "    ['Bangladesh', 162650853],\n",
    "    ['Pakistan', 233500636],\n",
    "    ['Nigeria', 214028302],\n",
    "    ['Brazil', 21171597],\n",
    "    ['Russia', 141722205],\n",
    "    ['Mexico', 128649565]\n",
    "]\n",
    "\n",
    "populated = filter(lambda c: c[1] > 300000000, countries)\n",
    "\n",
    "print(list(populated))"
   ]
  },
  {
   "cell_type": "code",
   "execution_count": 32,
   "metadata": {},
   "outputs": [
    {
     "name": "stdout",
     "output_type": "stream",
     "text": [
      "hi\n",
      "None\n"
     ]
    }
   ],
   "source": [
    "print(print('hi'))"
   ]
  },
  {
   "cell_type": "markdown",
   "metadata": {},
   "source": [
    "### Recursive Function"
   ]
  },
  {
   "cell_type": "markdown",
   "metadata": {},
   "source": [
    "<img src=\"https://cdn.programiz.com/sites/tutorial2program/files/python-factorial-function.png\" style=\"background-color:white\" height=\"1200px\">"
   ]
  },
  {
   "cell_type": "code",
   "execution_count": 3,
   "metadata": {},
   "outputs": [],
   "source": [
    "def factorial(n):\n",
    "    if n==1:\n",
    "        return 1\n",
    "    else:\n",
    "        return n * factorial(n-1)"
   ]
  },
  {
   "cell_type": "code",
   "execution_count": 4,
   "metadata": {},
   "outputs": [
    {
     "data": {
      "text/plain": [
       "6"
      ]
     },
     "execution_count": 4,
     "metadata": {},
     "output_type": "execute_result"
    }
   ],
   "source": [
    "factorial(3)"
   ]
  },
  {
   "cell_type": "code",
   "execution_count": 48,
   "metadata": {},
   "outputs": [
    {
     "name": "stdout",
     "output_type": "stream",
     "text": [
      "5\n",
      "4\n",
      "3\n",
      "2\n",
      "1\n",
      "0\n",
      "the return value 0 the value of count1\n",
      "the return value 1 the value of count2\n",
      "the return value 2 the value of count3\n",
      "the return value 3 the value of count4\n",
      "the return value 4 the value of count5\n",
      "the value of count 6 the value of a 5\n"
     ]
    }
   ],
   "source": [
    "count = 0 \n",
    "def countDown(start):\n",
    "    print(start)\n",
    "    if start > 0:# call countdown\n",
    "        print(f\"the return value {countDown(start-1)} the value of count{count}\")\n",
    "    count = count+1\n",
    "    return start\n",
    "\n",
    "a=countDown(5)\n",
    "print(f'the value of count {count} the value of a {a}')"
   ]
  },
  {
   "cell_type": "markdown",
   "metadata": {},
   "source": [
    "# Non Premitive Data Type"
   ]
  },
  {
   "cell_type": "markdown",
   "metadata": {},
   "source": [
    "### List\n",
    "\n",
    "<pre>\n",
    "l=[]\n",
    "l=[[],[]]\n",
    "l[index]=value\n",
    "\n",
    "l.append(value)\n",
    "l.pop()\n",
    "l.pop(index)\n",
    "l.remove(value) #first occurence\n",
    "l.sort(reverse=True)#changes the actual list\n",
    "\n",
    "\n",
    "l.insert(position,value)\n",
    "\n",
    "del l[index]\n",
    "\n",
    "\n",
    ".extend()\n",
    "\n",
    "list1 = [1, 2, 3]\n",
    "list2 = [4, 5, 6]\n",
    "list1.extend(list2)\n",
    "print(list1)  # Output: [1, 2, 3, 4, 5, 6]\n",
    "\n",
    ".count()\n",
    "my_list = [1, 2, 2, 3, 4, 2, 5]\n",
    "count_of_2 = my_list.count(2)\n",
    "print(count_of_2)  # Output: 3\n",
    "\n",
    "\n",
    "len()\n",
    "my_list = [1, 2, 3, 4, 5]\n",
    "length = len(my_list)\n",
    "print(length)  # Output: 5\n",
    "\n",
    "max()\n",
    "my_list = [10, 5, 8, 20, 3]\n",
    "maximum = max(my_list)\n",
    "print(maximum)  # Output: 20\n",
    "\n",
    "min()\n",
    "my_list = [10, 5, 8, 20, 3]\n",
    "minimum = min(my_list)\n",
    "print(minimum)  # Output: 3\n",
    "\n",
    "sum()\n",
    "my_list = [1, 2, 3, 4, 5]\n",
    "total = sum(my_list)\n",
    "print(total)  # Output: 15\n",
    "\n",
    "sorted()\n",
    "my_list = [3, 1, 4, 1, 5, 9, 2, 6, 5]\n",
    "sorted_list = sorted(my_list)\n",
    "print(sorted_list)  # Output: [1, 1, 2, 3, 4, 5, 5, 6, 9]\n",
    "\n",
    "\n",
    "reverse()\n",
    "my_list = [1, 2, 3, 4, 5]\n",
    "reversed_list = list(reversed(my_list))\n",
    "print(reversed_list)  # Output: [5, 4, 3, 2, 1]\n",
    "\n",
    "\n",
    "\n",
    "\n",
    "unpack list\n",
    "\n",
    "colors = ['red', 'blue', 'green']\n",
    "\n",
    "red = colors[0]\n",
    "blue = colors[1]\n",
    "green = colors[2]\n",
    "red, blue, green = colors\n",
    "\n",
    "colors = ['red', 'blue', 'green']\n",
    "red, blue, *other = colors\n",
    "</pre>"
   ]
  },
  {
   "cell_type": "code",
   "execution_count": 19,
   "metadata": {},
   "outputs": [
    {
     "name": "stdout",
     "output_type": "stream",
     "text": [
      "2\n",
      "[9, 9, 8, 8, 7, 7, 6, 6, 5, 5, 4, 4, 3, 3, 2, 2, 2, 2, 1, 1, 0, 0]\n"
     ]
    }
   ],
   "source": [
    "l = [1,2,3,4,5,6,7,8,9]\n",
    "l.append(2)\n",
    "print(l)\n",
    "l.insert(3,0)\n",
    "l.copy()\n",
    "l.count(2)\n",
    "l.extend(l)\n",
    "print(l.index(3))\n",
    "l.sort()\n",
    "l.reverse()\n",
    "print(l)\n",
    "t=(1,2)\n",
    "t=([1,2],3)\n"
   ]
  },
  {
   "cell_type": "code",
   "execution_count": 19,
   "metadata": {},
   "outputs": [
    {
     "name": "stdout",
     "output_type": "stream",
     "text": [
      "[2, 4, 6, 8]\n"
     ]
    }
   ],
   "source": [
    "num_list = [1,2,3,4,5,6,7,8,9]\n",
    "num_list2=[i for i in num_list if i%2==0]\n",
    "print(num_list2)\n"
   ]
  },
  {
   "cell_type": "code",
   "execution_count": 34,
   "metadata": {},
   "outputs": [
    {
     "name": "stdout",
     "output_type": "stream",
     "text": [
      "[1, 2, 3, 4, 5, 6, 7, 8, 9]\n"
     ]
    }
   ],
   "source": [
    "print(l2)"
   ]
  },
  {
   "cell_type": "markdown",
   "metadata": {},
   "source": [
    "### Tuple\n",
    " tuple is a list that cannot change. Python refers to a value that cannot change as immutable. So by definition, a tuple is an immutable list.\n"
   ]
  },
  {
   "cell_type": "markdown",
   "metadata": {},
   "source": [
    "### Set\n",
    "A Set is a type of data container in Python which is used to store multiple data in one variable. It can contain elements of different data types. Elements in a set are unordered and hence it is not possible to access set's element using index number. Additionally, it does not allow multiple elements with same values (no duplicate elements).\n",
    "###### Create set\n",
    "<pre>\n",
    "#Set with multiple datatypes\n",
    "Info = {'John', 25, 'London'}  \n",
    "print(Info)\n",
    "\n",
    "#Creating set using constructor\n",
    "colors = set(('Red', 'Blue', 'Green')) \n",
    "print(colors)\n",
    "</pre>\n",
    "###### Modify \n",
    "###### add Elements\n",
    "<pre>\n",
    "Add element of a set:\n",
    "Two methods can be used to add elements in a Set:\n",
    "\n",
    "add() - add an element to the Set.\n",
    "update() - add element(s) to the Set. Please note that, Set does not support duplicate elements.\n",
    "</pre>\n",
    "###### Delete element of a set\n",
    "Four methods and a keyword can be used to delete elements from a Set:\n",
    "<pre>\n",
    "remove() - deletes specified element from the Set. Returns an error if the element is not present in the set.\n",
    "discard() - deletes specified element from the Set. Returns no error if the element is not present in the set.\n",
    "pop() - deletes last element from the Set. Please note that, Set is an unordered data container therefore last element is not predefined.\n",
    "clear() - deletes all elements of the set.\n",
    "del - deletes the set itself.\n",
    "</pre>"
   ]
  },
  {
   "cell_type": "code",
   "execution_count": 21,
   "metadata": {},
   "outputs": [
    {
     "name": "stdout",
     "output_type": "stream",
     "text": [
      "{'MON', 'WED', 'TUE', 'SUN'}\n",
      "{'FEB', 'JAN', 'DEC', 'NOV', 'MAY', 'MAR'}\n"
     ]
    }
   ],
   "source": [
    "week = {'MON', 'TUE', 'WED'}\n",
    "week.add('SUN')   # add this element in the set\n",
    "print(week)\n",
    "month = {'JAN', 'FEB', 'MAR', 'MAY'}\n",
    "# multiple elements are updated in the set (with no duplication).\n",
    "month.update(['JAN', 'NOV', 'DEC']) \n",
    "#Set is an unordered data container.\n",
    "print(month)"
   ]
  },
  {
   "cell_type": "markdown",
   "metadata": {},
   "source": [
    "### Dictionary\n",
    "A Dictionary is a type of data container in Python which is used to store multiple data in one variable. It contains data in key-value pair and can contain elements of different data types. Elements in a dictionary are unordered and hence it is not possible to access dictionary's element using index number. Dictionary's keys are immutable and hence not changeable. Additionally, it does not allow multiple elements with same key (no duplicate keys).\n",
    "#### Create Dictionary\n",
    "<pre>\n",
    "A dictionary can be created by separating it's elements by comma , and enclosing with curly bracket { }. Additionally, it can also be created using dict() function.\n",
    " Dictionary with multiple datatypes\n",
    "Info = {\n",
    "   \"name\": \"John\",\n",
    "   \"age\": 25,\n",
    "   \"city\": \"London\"\n",
    "}\n",
    "print(Info)\n",
    "\n",
    " Creating dictionary with constructor\n",
    "Info = dict(name=\"Marry\", age=20, city=\"Newyork\")\n",
    "print(Info)\n",
    "</pre>\n",
    "#### access Element \n",
    "<pre>\n",
    "Access element of a Dictionary\n",
    "An element of a dictionary can be accessed using key enclosed by square brackets [ ]. The same can also be achieved using get() method.\n",
    "Info = {\n",
    "   \"name\": \"John\",\n",
    "   \"age\": 25,\n",
    "   \"city\": \"London\"\n",
    "}\n",
    "print(Info[\"city\"])\n",
    "print(Info.get(\"name\"))\n",
    "</pre>\n",
    "#### modify \n",
    "To modify value, assign new value using key.\n",
    "\n",
    "<pre>Info = {\n",
    "   \"name\": \"John\",\n",
    "   \"age\": 25,\n",
    "   \"city\": \"London\"\n",
    "}\n",
    "Info[\"city\"] = \"Paris\"\n",
    "print(Info)</pre>\n",
    "\n",
    "#### loop over dictionary values\n",
    "Info = {\n",
    "   \"name\": \"John\",\n",
    "   \"age\": 25,\n",
    "   \"city\": \"London\"\n",
    "}\n",
    "#first method\n",
    "for x in Info:\n",
    "  print(Info[x])\n",
    "\n",
    "print()\n",
    "#second method\n",
    "for x in Info.values():\n",
    "  print(x)\n",
    "\n",
    "#### Add elements in Dictionary\n",
    "<pre>\n",
    "Info = {\n",
    "   \"name\": \"John\",\n",
    "   \"age\": 25,\n",
    "   \"city\": \"London\"\n",
    "}\n",
    "Info[\"gender\"] = \"Male\"\n",
    "print(Info)\n",
    "</pre>\n",
    "\n",
    "##### Iterate over dictionary\n",
    "<pre>\n",
    "person = {\n",
    "    'first_name': 'John',\n",
    "    'last_name': 'Doe',\n",
    "    'age': 25,\n",
    "    'favorite_colors': ['blue', 'green'],\n",
    "    'active': True\n",
    "}\n",
    "\n",
    "for key, value in person.items():\n",
    "    print(f\"{key}: {value}\")\n",
    "    </pre>\n",
    "#### Delete elements of a Dictionary\n",
    "<pre>\n",
    "There are number of ways to delete elements from a dictionary:\n",
    "\n",
    "pop() - deletes specified key and it's value of the dictionary.\n",
    "popitem() - deletes last key-value pair of the dictionary. Please note that dictionary is an unordered data container, hence last key-value pair is not defined.\n",
    "clear() - deletes all key-value pairs of the dictionary.\n",
    "del - deletes a key-value pair of a dictionary. can be used to delete the dictionary itself.\n",
    "The example below describes how to use pop() and popitem() methods of a dictionary.\n",
    "\n",
    "Info = {\n",
    "   \"name\": \"John\",\n",
    "   \"age\": 25,\n",
    "   \"city\": \"London\"\n",
    "}\n",
    "Info.pop(\"city\")\n",
    "print(Info)\n",
    "\n",
    "Info = {\n",
    "   \"name\": \"John\",\n",
    "   \"age\": 25,\n",
    "   \"city\": \"London\"\n",
    "}\n",
    "Info.popitem()\n",
    "print(Info)\n",
    "\n",
    "Methods\t   Description\n",
    "clear()\t   Deletes all elements of the dictionary\n",
    "copy()\t   Returns a copy of the dictionary\n",
    "fromkeys()\tCreates a dictionary with specified keys and values\n",
    "get()\t      Returns value of the specified key\n",
    "items()\t   Returns a list of tuples with each key-value pair in tuple\n",
    "keys()\t   Returns a list of all keys of the dictionary\n",
    "pop()\t      Removes specified key-value pair of the dictionary\n",
    "popitem()\tRemoves the last key-value pair of the dictionary\n",
    "setdefault()Checks specified key in the dictionary. If the key does not exist, it inserts the specified key with specified value\n",
    "update()\t   Updates the dictionary with the specified key-value pair(s)\n",
    "values()\t   Returns a list of all values of the dictionary\n",
    "</pre>\n",
    "#### Dictionary comprehension\n",
    "stocks = {\n",
    "    'AAPL': 121,\n",
    "    'AMZN': 3380,\n",
    "    'MSFT': 219,\n",
    "    'BIIB': 280,\n",
    "    'QDEL': 266,\n",
    "    'LVGO': 144\n",
    "}\n",
    "\n",
    "new_stocks = {symbol: price * 1.02 for (symbol, price) in stocks.items()}\n",
    "\n",
    "print(new_stocks)\n",
    "\n",
    "\n",
    "stocks = {\n",
    "    'AAPL': 121,\n",
    "    'AMZN': 3380,\n",
    "    'MSFT': 219,\n",
    "    'BIIB': 280,\n",
    "    'QDEL': 266,\n",
    "    'LVGO': 144\n",
    "}\n",
    "\n",
    "selected_stocks = {s: p for (s, p) in stocks.items() if p > 200}\n",
    "\n",
    "print(selected_stocks)"
   ]
  },
  {
   "cell_type": "markdown",
   "metadata": {},
   "source": [
    "### Iterator \n",
    "<pre>\n",
    "* An iterable is an object that can be iterated over. An iterable has the ability to return one of its elements at a time.\n",
    "* An iterator is an agent that performs iteration. It’s stateful. And an iterator is also an iterable object.\n",
    "* Use the iter() function to get an iterator from an iterable object and the next() function to get the next element from the iterable object.\n",
    "</pre>"
   ]
  },
  {
   "cell_type": "code",
   "execution_count": 16,
   "metadata": {},
   "outputs": [
    {
     "data": {
      "text/plain": [
       "dict_items([(1, 2), (2, 3), (3, 4)])"
      ]
     },
     "execution_count": 16,
     "metadata": {},
     "output_type": "execute_result"
    }
   ],
   "source": [
    "di={1:2,2:3,3:4}\n",
    "di.items()"
   ]
  },
  {
   "cell_type": "code",
   "execution_count": null,
   "metadata": {},
   "outputs": [],
   "source": [
    "def first():#overloading example\n",
    "    print('first function with no pera')\n",
    "def first(*a):\n",
    "    print(a)\n",
    "first()\n",
    "first(4)"
   ]
  },
  {
   "cell_type": "markdown",
   "metadata": {},
   "source": [
    "## File Operation\n",
    "#### Read File"
   ]
  },
  {
   "cell_type": "markdown",
   "metadata": {},
   "source": [
    "##### Reading text methods\n",
    "The file object provides you with three methods for reading text from a text file:\n",
    "<br>\n",
    "read(size) – read some contents of a file based on the optional size and return the contents as a string. If you omit the size, the read() method reads from where it left off till the end of the file. If the end of a file has been reached, the read() method returns an empty string.<br>\n",
    "readline() – read a single line from a text file and return the line as a string. If the end of a file has been reached, the readline() returns an empty string.\n",
    "<br>\n",
    "readlines() – read all the lines of the text file into a list of strings. This method is useful if you have a small file and you want to manipulate the whole text of that file.\n"
   ]
  },
  {
   "cell_type": "code",
   "execution_count": 8,
   "metadata": {},
   "outputs": [
    {
     "name": "stdout",
     "output_type": "stream",
     "text": [
      "hello World\n",
      "\n",
      "this is the first file the second line \n",
      "\n"
     ]
    }
   ],
   "source": [
    "r=open('hello.txt','r')\n",
    "print(r.read())"
   ]
  },
  {
   "cell_type": "code",
   "execution_count": 9,
   "metadata": {},
   "outputs": [
    {
     "name": "stdout",
     "output_type": "stream",
     "text": [
      "\n"
     ]
    }
   ],
   "source": [
    "print(r.read())"
   ]
  },
  {
   "cell_type": "code",
   "execution_count": 19,
   "metadata": {},
   "outputs": [
    {
     "name": "stdout",
     "output_type": "stream",
     "text": [
      "\n",
      " \n",
      " \n",
      "hello World     hello\n",
      "\n",
      "this is the first file the second line\n",
      "ä½ å¥½ä¸–ç•Œè¿™æ˜¯ä¸­æ–‡\n",
      "\n",
      " \n",
      " \n",
      "hello World     hello\n",
      "\n",
      "this is the first file the second line\n",
      "ä½ å¥½ä¸–ç•Œè¿™æ˜¯ä¸­æ–‡\n",
      "\n",
      " \n",
      " \n",
      "hello World     hello\n",
      "\n",
      "this is the first file the second line\n",
      "你好世界这是中文\n"
     ]
    }
   ],
   "source": [
    "f = open('hello.txt','r')\n",
    "f.close()\n",
    "\n",
    "with open('hello.txt') as f:\n",
    "    lines = f.readlines()\n",
    "\n",
    "print(end=\"\\n \\n \\n\")\n",
    "\n",
    "with open('C:/Users/admin/Project/Jupyter Projects/hello.txt') as f:\n",
    "    [print(line.strip()) for line in f.readlines()]\n",
    "\n",
    "print(end=\"\\n \\n \\n\")\n",
    "\n",
    "with open('hello.txt') as f:\n",
    "    while True:\n",
    "        line = f.readline()\n",
    "        if not line:\n",
    "            break\n",
    "        print(line.strip())\n",
    "\n",
    "    #UTF-8 encoding\n",
    "        \n",
    "print(end=\"\\n \\n \\n\")\n",
    "\n",
    "\n"
   ]
  },
  {
   "cell_type": "markdown",
   "metadata": {},
   "source": [
    "#### File Write\n",
    "'w':  Open a text file for writing. If the file exists, the function will truncate all the contents as soon as you open it. If the file doesn’t exist, the function creates a new file.\n",
    "<br>\n",
    "'a' : Open a text file for appending text. If the file exists, the function append contents at the end of the file.\n",
    "<br>\n",
    "'+' : Open a text file for updating (both reading & writing).\n",
    "<br><br>\n",
    "Use write() and writelines() methods to write to a text file.<br>\n",
    "The writelines() method accepts an iterable object, not just a list, so you can pass a tuple of strings, a set of strings, etc., to the writelines() method.\n",
    "<br>\n",
    "To write a line to a text file, you need to manually add a new line character:"
   ]
  },
  {
   "cell_type": "code",
   "execution_count": 28,
   "metadata": {},
   "outputs": [
    {
     "name": "stdout",
     "output_type": "stream",
     "text": [
      "hello World     hello\n",
      "\n",
      "this is the first file the second line\n",
      "你好世界这是中文\n"
     ]
    }
   ],
   "source": [
    "with open('hello.txt',encoding='utf8') as f:\n",
    "    for line in f:\n",
    "        print(line.strip())"
   ]
  },
  {
   "cell_type": "code",
   "execution_count": 23,
   "metadata": {},
   "outputs": [],
   "source": [
    "with open('readme.txt', 'a') as f:\n",
    "    f.write('readme')\n"
   ]
  },
  {
   "cell_type": "code",
   "execution_count": 27,
   "metadata": {},
   "outputs": [],
   "source": [
    "lines = ['Readme', 'How to write text files in Python']\n",
    "with open('readme.txt', 'a') as f:\n",
    "    for line in lines:\n",
    "        f.write(line)\n",
    "        f.write('\\n') \n"
   ]
  },
  {
   "cell_type": "code",
   "execution_count": 26,
   "metadata": {},
   "outputs": [],
   "source": [
    "lines = ['Readme', 'How to write text files in Python']\n",
    "with open('readme.txt', 'w') as f:\n",
    "    f.writelines(lines)"
   ]
  },
  {
   "cell_type": "markdown",
   "metadata": {},
   "source": [
    "#### Create File\n",
    "'x' – open a file for exclusive creation. If the file exists, the open() function raises an error (FileExistsError). Otherwise, it’ll create the text file."
   ]
  },
  {
   "cell_type": "code",
   "execution_count": null,
   "metadata": {},
   "outputs": [],
   "source": [
    "with open('readme.txt', 'x') as f:\n",
    "    f.write('Create a new text file!')"
   ]
  },
  {
   "cell_type": "code",
   "execution_count": 31,
   "metadata": {},
   "outputs": [
    {
     "name": "stdout",
     "output_type": "stream",
     "text": [
      "False\n",
      "True\n"
     ]
    }
   ],
   "source": [
    "import os.path\n",
    "print(os.path.exists('hello1.txt'))\n",
    "from pathlib import Path\n",
    "path = Path('hello.txt')\n",
    "print(path.is_file())"
   ]
  },
  {
   "cell_type": "markdown",
   "metadata": {},
   "source": [
    "#### CSV File\n"
   ]
  },
  {
   "cell_type": "code",
   "execution_count": 32,
   "metadata": {},
   "outputs": [
    {
     "name": "stdout",
     "output_type": "stream",
     "text": [
      "['name', 'area', 'country_code2', 'country_code3']\n",
      "['Afghanistan', '652090.00', 'AF', 'AFG']\n",
      "['Albania', '28748.00', 'AL', 'ALB']\n",
      "['Algeria', '2381741.00', 'DZ', 'DZA']\n",
      "['American Samoa', '199.00', 'AS', 'ASM']\n",
      "['Andorra', '468.00', 'AD', 'AND']\n",
      "['Angola', '1246700.00', 'AO', 'AGO']\n",
      "['Anguilla', '96.00', 'AI', 'AIA']\n",
      "['Antarctica', '13120000.00', 'AQ', 'ATA']\n",
      "['Antigua and Barbuda', '442.00', 'AG', 'ATG']\n",
      "['Argentina', '2780400.00', 'AR', 'ARG']\n",
      "['Armenia', '29800.00', 'AM', 'ARM']\n",
      "['Aruba', '193.00', 'AW', 'ABW']\n",
      "['Australia', '7741220.00', 'AU', 'AUS']\n",
      "['Austria', '83859.00', 'AT', 'AUT']\n",
      "['Azerbaijan', '86600.00', 'AZ', 'AZE']\n",
      "['Bahamas', '13878.00', 'BS', 'BHS']\n",
      "['Bahrain', '694.00', 'BH', 'BHR']\n",
      "['Bangladesh', '143998.00', 'BD', 'BGD']\n",
      "['Barbados', '430.00', 'BB', 'BRB']\n",
      "['Belarus', '207600.00', 'BY', 'BLR']\n",
      "['Belgium', '30518.00', 'BE', 'BEL']\n",
      "['Belize', '22696.00', 'BZ', 'BLZ']\n",
      "['Benin', '112622.00', 'BJ', 'BEN']\n",
      "['Bermuda', '53.00', 'BM', 'BMU']\n",
      "['Bhutan', '47000.00', 'BT', 'BTN']\n",
      "['Bolivia', '1098581.00', 'BO', 'BOL']\n",
      "['Bosnia and Herzegovina', '51197.00', 'BA', 'BIH']\n",
      "['Botswana', '581730.00', 'BW', 'BWA']\n",
      "['Bouvet Island', '59.00', 'BV', 'BVT']\n",
      "['Brazil', '8547403.00', 'BR', 'BRA']\n",
      "['British Indian Ocean Territory', '78.00', 'IO', 'IOT']\n",
      "['Brunei', '5765.00', 'BN', 'BRN']\n",
      "['Bulgaria', '110994.00', 'BG', 'BGR']\n",
      "['Burkina Faso', '274000.00', 'BF', 'BFA']\n",
      "['Burundi', '27834.00', 'BI', 'BDI']\n",
      "['Cambodia', '181035.00', 'KH', 'KHM']\n",
      "['Cameroon', '475442.00', 'CM', 'CMR']\n",
      "['Canada', '9970610.00', 'CA', 'CAN']\n",
      "['Cape Verde', '4033.00', 'CV', 'CPV']\n",
      "['Cayman Islands', '264.00', 'KY', 'CYM']\n",
      "['Central African Republic', '622984.00', 'CF', 'CAF']\n",
      "['Chad', '1284000.00', 'TD', 'TCD']\n",
      "['Chile', '756626.00', 'CL', 'CHL']\n",
      "['China', '9572900.00', 'CN', 'CHN']\n",
      "['Christmas Island', '135.00', 'CX', 'CXR']\n",
      "['Cocos (Keeling) Islands', '14.00', 'CC', 'CCK']\n",
      "['Colombia', '1138914.00', 'CO', 'COL']\n",
      "['Comoros', '1862.00', 'KM', 'COM']\n",
      "['Congo', '342000.00', 'CG', 'COG']\n",
      "['Cook Islands', '236.00', 'CK', 'COK']\n",
      "['Costa Rica', '51100.00', 'CR', 'CRI']\n",
      "['Côte d’Ivoire', '322463.00', 'CI', 'CIV']\n",
      "['Croatia', '56538.00', 'HR', 'HRV']\n",
      "['Cuba', '110861.00', 'CU', 'CUB']\n",
      "['Cyprus', '9251.00', 'CY', 'CYP']\n",
      "['Czech Republic', '78866.00', 'CZ', 'CZE']\n",
      "['Denmark', '43094.00', 'DK', 'DNK']\n",
      "['Djibouti', '23200.00', 'DJ', 'DJI']\n",
      "['Dominica', '751.00', 'DM', 'DMA']\n",
      "['Dominican Republic', '48511.00', 'DO', 'DOM']\n",
      "['East Timor', '14874.00', 'TP', 'TMP']\n",
      "['Ecuador', '283561.00', 'EC', 'ECU']\n",
      "['Egypt', '1001449.00', 'EG', 'EGY']\n",
      "['El Salvador', '21041.00', 'SV', 'SLV']\n",
      "['Equatorial Guinea', '28051.00', 'GQ', 'GNQ']\n",
      "['Eritrea', '117600.00', 'ER', 'ERI']\n",
      "['Estonia', '45227.00', 'EE', 'EST']\n",
      "['Ethiopia', '1104300.00', 'ET', 'ETH']\n",
      "['Falkland Islands', '12173.00', 'FK', 'FLK']\n",
      "['Faroe Islands', '1399.00', 'FO', 'FRO']\n",
      "['Federated States of Micronesia', '702.00', 'FM', 'FSM']\n",
      "['Fiji Islands', '18274.00', 'FJ', 'FJI']\n",
      "['Finland', '338145.00', 'FI', 'FIN']\n",
      "['France', '551500.00', 'FR', 'FRA']\n",
      "['French Guiana', '90000.00', 'GF', 'GUF']\n",
      "['French Polynesia', '4000.00', 'PF', 'PYF']\n",
      "['French Southern territories', '7780.00', 'TF', 'ATF']\n",
      "['Gabon', '267668.00', 'GA', 'GAB']\n",
      "['Gambia', '11295.00', 'GM', 'GMB']\n",
      "['Georgia', '69700.00', 'GE', 'GEO']\n",
      "['Germany', '357022.00', 'DE', 'DEU']\n",
      "['Ghana', '238533.00', 'GH', 'GHA']\n",
      "['Gibraltar', '6.00', 'GI', 'GIB']\n",
      "['Greece', '131626.00', 'GR', 'GRC']\n",
      "['Greenland', '2166090.00', 'GL', 'GRL']\n",
      "['Grenada', '344.00', 'GD', 'GRD']\n",
      "['Guadeloupe', '1705.00', 'GP', 'GLP']\n",
      "['Guam', '549.00', 'GU', 'GUM']\n",
      "['Guatemala', '108889.00', 'GT', 'GTM']\n",
      "['Guinea', '245857.00', 'GN', 'GIN']\n",
      "['Guinea-Bissau', '36125.00', 'GW', 'GNB']\n",
      "['Guyana', '214969.00', 'GY', 'GUY']\n",
      "['Haiti', '27750.00', 'HT', 'HTI']\n",
      "['Heard Island and McDonald Islands', '359.00', 'HM', 'HMD']\n",
      "['Holy See (Vatican City State)', '0.40', 'VA', 'VAT']\n",
      "['Honduras', '112088.00', 'HN', 'HND']\n",
      "['Hong Kong', '1075.00', 'HK', 'HKG']\n",
      "['Hungary', '93030.00', 'HU', 'HUN']\n",
      "['Iceland', '103000.00', 'IS', 'ISL']\n",
      "['India', '3287263.00', 'IN', 'IND']\n",
      "['Indonesia', '1904569.00', 'ID', 'IDN']\n",
      "['Iran', '1648195.00', 'IR', 'IRN']\n",
      "['Iraq', '438317.00', 'IQ', 'IRQ']\n",
      "['Ireland', '70273.00', 'IE', 'IRL']\n",
      "['Israel', '21056.00', 'IL', 'ISR']\n",
      "['Italy', '301316.00', 'IT', 'ITA']\n",
      "['Jamaica', '10990.00', 'JM', 'JAM']\n",
      "['Japan', '377829.00', 'JP', 'JPN']\n",
      "['Jordan', '88946.00', 'JO', 'JOR']\n",
      "['Kazakstan', '2724900.00', 'KZ', 'KAZ']\n",
      "['Kenya', '580367.00', 'KE', 'KEN']\n",
      "['Kiribati', '726.00', 'KI', 'KIR']\n",
      "['Kuwait', '17818.00', 'KW', 'KWT']\n",
      "['Kyrgyzstan', '199900.00', 'KG', 'KGZ']\n",
      "['Laos', '236800.00', 'LA', 'LAO']\n",
      "['Latvia', '64589.00', 'LV', 'LVA']\n",
      "['Lebanon', '10400.00', 'LB', 'LBN']\n",
      "['Lesotho', '30355.00', 'LS', 'LSO']\n",
      "['Liberia', '111369.00', 'LR', 'LBR']\n",
      "['Libyan Arab Jamahiriya', '1759540.00', 'LY', 'LBY']\n",
      "['Liechtenstein', '160.00', 'LI', 'LIE']\n",
      "['Lithuania', '65301.00', 'LT', 'LTU']\n",
      "['Luxembourg', '2586.00', 'LU', 'LUX']\n",
      "['Macao', '18.00', 'MO', 'MAC']\n",
      "['Macedonia', '25713.00', 'MK', 'MKD']\n",
      "['Madagascar', '587041.00', 'MG', 'MDG']\n",
      "['Malawi', '118484.00', 'MW', 'MWI']\n",
      "['Malaysia', '329758.00', 'MY', 'MYS']\n",
      "['Maldives', '298.00', 'MV', 'MDV']\n",
      "['Mali', '1240192.00', 'ML', 'MLI']\n",
      "['Malta', '316.00', 'MT', 'MLT']\n",
      "['Marshall Islands', '181.00', 'MH', 'MHL']\n",
      "['Martinique', '1102.00', 'MQ', 'MTQ']\n",
      "['Mauritania', '1025520.00', 'MR', 'MRT']\n",
      "['Mauritius', '2040.00', 'MU', 'MUS']\n",
      "['Mayotte', '373.00', 'YT', 'MYT']\n",
      "['Mexico', '1958201.00', 'MX', 'MEX']\n",
      "['Moldova', '33851.00', 'MD', 'MDA']\n",
      "['Monaco', '1.50', 'MC', 'MCO']\n",
      "['Mongolia', '1566500.00', 'MN', 'MNG']\n",
      "['Montserrat', '102.00', 'MS', 'MSR']\n",
      "['Morocco', '446550.00', 'MA', 'MAR']\n",
      "['Mozambique', '801590.00', 'MZ', 'MOZ']\n",
      "['Myanmar', '676578.00', 'MM', 'MMR']\n",
      "['Namibia', '824292.00', 'NA', 'NAM']\n",
      "['Nauru', '21.00', 'NR', 'NRU']\n",
      "['Nepal', '147181.00', 'NP', 'NPL']\n",
      "['Netherlands', '41526.00', 'NL', 'NLD']\n",
      "['Netherlands Antilles', '800.00', 'AN', 'ANT']\n",
      "['New Caledonia', '18575.00', 'NC', 'NCL']\n",
      "['New Zealand', '270534.00', 'NZ', 'NZL']\n",
      "['Nicaragua', '130000.00', 'NI', 'NIC']\n",
      "['Niger', '1267000.00', 'NE', 'NER']\n",
      "['Nigeria', '923768.00', 'NG', 'NGA']\n",
      "['Niue', '260.00', 'NU', 'NIU']\n",
      "['Norfolk Island', '36.00', 'NF', 'NFK']\n",
      "['North Korea', '120538.00', 'KP', 'PRK']\n",
      "['Northern Mariana Islands', '464.00', 'MP', 'MNP']\n",
      "['Norway', '323877.00', 'NO', 'NOR']\n",
      "['Oman', '309500.00', 'OM', 'OMN']\n",
      "['Pakistan', '796095.00', 'PK', 'PAK']\n",
      "['Palau', '459.00', 'PW', 'PLW']\n",
      "['Palestine', '6257.00', 'PS', 'PSE']\n",
      "['Panama', '75517.00', 'PA', 'PAN']\n",
      "['Papua New Guinea', '462840.00', 'PG', 'PNG']\n",
      "['Paraguay', '406752.00', 'PY', 'PRY']\n",
      "['Peru', '1285216.00', 'PE', 'PER']\n",
      "['Philippines', '300000.00', 'PH', 'PHL']\n",
      "['Pitcairn', '49.00', 'PN', 'PCN']\n",
      "['Poland', '323250.00', 'PL', 'POL']\n",
      "['Portugal', '91982.00', 'PT', 'PRT']\n",
      "['Puerto Rico', '8875.00', 'PR', 'PRI']\n",
      "['Qatar', '11000.00', 'QA', 'QAT']\n",
      "['Réunion', '2510.00', 'RE', 'REU']\n",
      "['Romania', '238391.00', 'RO', 'ROM']\n",
      "['Russian Federation', '17075400.00', 'RU', 'RUS']\n",
      "['Rwanda', '26338.00', 'RW', 'RWA']\n",
      "['Saint Helena', '314.00', 'SH', 'SHN']\n",
      "['Saint Kitts and Nevis', '261.00', 'KN', 'KNA']\n",
      "['Saint Lucia', '622.00', 'LC', 'LCA']\n",
      "['Saint Pierre and Miquelon', '242.00', 'PM', 'SPM']\n",
      "['Saint Vincent and the Grenadines', '388.00', 'VC', 'VCT']\n",
      "['Samoa', '2831.00', 'WS', 'WSM']\n",
      "['San Marino', '61.00', 'SM', 'SMR']\n",
      "['Sao Tome and Principe', '964.00', 'ST', 'STP']\n",
      "['Saudi Arabia', '2149690.00', 'SA', 'SAU']\n",
      "['Senegal', '196722.00', 'SN', 'SEN']\n",
      "['Seychelles', '455.00', 'SC', 'SYC']\n",
      "['Sierra Leone', '71740.00', 'SL', 'SLE']\n",
      "['Singapore', '618.00', 'SG', 'SGP']\n",
      "['Slovakia', '49012.00', 'SK', 'SVK']\n",
      "['Slovenia', '20256.00', 'SI', 'SVN']\n",
      "['Solomon Islands', '28896.00', 'SB', 'SLB']\n",
      "['Somalia', '637657.00', 'SO', 'SOM']\n",
      "['South Africa', '1221037.00', 'ZA', 'ZAF']\n",
      "['South Georgia and the South Sandwich Islands', '3903.00', 'GS', 'SGS']\n",
      "['South Korea', '99434.00', 'KR', 'KOR']\n",
      "['Spain', '505992.00', 'ES', 'ESP']\n",
      "['Sri Lanka', '65610.00', 'LK', 'LKA']\n",
      "['Sudan', '2505813.00', 'SD', 'SDN']\n",
      "['Suriname', '163265.00', 'SR', 'SUR']\n",
      "['Svalbard and Jan Mayen', '62422.00', 'SJ', 'SJM']\n",
      "['Swaziland', '17364.00', 'SZ', 'SWZ']\n",
      "['Sweden', '449964.00', 'SE', 'SWE']\n",
      "['Switzerland', '41284.00', 'CH', 'CHE']\n",
      "['Syria', '185180.00', 'SY', 'SYR']\n",
      "['Taiwan', '36188.00', 'TW', 'TWN']\n",
      "['Tajikistan', '143100.00', 'TJ', 'TJK']\n",
      "['Tanzania', '883749.00', 'TZ', 'TZA']\n",
      "['Thailand', '513115.00', 'TH', 'THA']\n",
      "['The Democratic Republic of the Congo', '2344858.00', 'CD', 'COD']\n",
      "['Togo', '56785.00', 'TG', 'TGO']\n",
      "['Tokelau', '12.00', 'TK', 'TKL']\n",
      "['Tonga', '650.00', 'TO', 'TON']\n",
      "['Trinidad and Tobago', '5130.00', 'TT', 'TTO']\n",
      "['Tunisia', '163610.00', 'TN', 'TUN']\n",
      "['Turkey', '774815.00', 'TR', 'TUR']\n",
      "['Turkmenistan', '488100.00', 'TM', 'TKM']\n",
      "['Turks and Caicos Islands', '430.00', 'TC', 'TCA']\n",
      "['Tuvalu', '26.00', 'TV', 'TUV']\n",
      "['Uganda', '241038.00', 'UG', 'UGA']\n",
      "['Ukraine', '603700.00', 'UA', 'UKR']\n",
      "['United Arab Emirates', '83600.00', 'AE', 'ARE']\n",
      "['United Kingdom', '242900.00', 'GB', 'GBR']\n",
      "['United States', '9363520.00', 'US', 'USA']\n",
      "['United States Minor Outlying Islands', '16.00', 'UM', 'UMI']\n",
      "['Uruguay', '175016.00', 'UY', 'URY']\n",
      "['Uzbekistan', '447400.00', 'UZ', 'UZB']\n",
      "['Vanuatu', '12189.00', 'VU', 'VUT']\n",
      "['Venezuela', '912050.00', 'VE', 'VEN']\n",
      "['Vietnam', '331689.00', 'VN', 'VNM']\n",
      "['Virgin Islands, British', '151.00', 'VG', 'VGB']\n",
      "['Virgin Islands, U.S.', '347.00', 'VI', 'VIR']\n",
      "['Wallis and Futuna', '200.00', 'WF', 'WLF']\n",
      "['Western Sahara', '266000.00', 'EH', 'ESH']\n",
      "['Yemen', '527968.00', 'YE', 'YEM']\n",
      "['Yugoslavia', '102173.00', 'YU', 'YUG']\n",
      "['Zambia', '752618.00', 'ZM', 'ZMB']\n",
      "['Zimbabwe', '390757.00', 'ZW', 'ZWE']\n"
     ]
    }
   ],
   "source": [
    "import csv\n",
    "#The next() function forwards to the reader to the next line.\n",
    "# next(csv_reader)\n",
    "with open('C:/Users/admin/Downloads/country.csv', encoding=\"utf8\") as f:\n",
    "    csv_reader = csv.reader(f)\n",
    "    for line in csv_reader:\n",
    "        print(line)"
   ]
  },
  {
   "cell_type": "markdown",
   "metadata": {},
   "source": [
    "##### Reading a CSV file using the DictReader class\n",
    "When you use the csv.reader() function, you can access values of the CSV file using the bracket notation such as line[0], line[1], and so on. However, using the csv.reader() function has two main limitations:\n",
    "<Br>\n",
    "First, the way to access the values from the CSV file is not so obvious. For example, the line[0] implicitly means the country name. It would be more expressive if you can access the country name like line['country_name'].\n",
    "<br>\n",
    "Second, when the order of columns from the CSV file is changed or new columns are added, you need to modify the code to get the right data.\n",
    "This is where the DictReader class comes into play. The DictReader class also comes from the csv module.\n",
    "<br>\n",
    "The DictReader class allows you to create an object like a regular CSV reader. But it maps the information of each line to a dictionary (dict) whose keys are specified by the values of the first line.\n",
    "<br>\n",
    "By using the DictReader class, you can access values in the country.csv file like line['name'], line['area'], line['country_code2'], and line['country_code3']"
   ]
  },
  {
   "cell_type": "code",
   "execution_count": 2,
   "metadata": {},
   "outputs": [
    {
     "name": "stdout",
     "output_type": "stream",
     "text": [
      "The area of Albania is 28748.00 km2\n",
      "The area of Algeria is 2381741.00 km2\n",
      "The area of American Samoa is 199.00 km2\n",
      "The area of Andorra is 468.00 km2\n",
      "The area of Angola is 1246700.00 km2\n",
      "The area of Anguilla is 96.00 km2\n",
      "The area of Antarctica is 13120000.00 km2\n",
      "The area of Antigua and Barbuda is 442.00 km2\n",
      "The area of Argentina is 2780400.00 km2\n",
      "The area of Armenia is 29800.00 km2\n",
      "The area of Aruba is 193.00 km2\n",
      "The area of Australia is 7741220.00 km2\n",
      "The area of Austria is 83859.00 km2\n",
      "The area of Azerbaijan is 86600.00 km2\n",
      "The area of Bahamas is 13878.00 km2\n",
      "The area of Bahrain is 694.00 km2\n",
      "The area of Bangladesh is 143998.00 km2\n",
      "The area of Barbados is 430.00 km2\n",
      "The area of Belarus is 207600.00 km2\n",
      "The area of Belgium is 30518.00 km2\n",
      "The area of Belize is 22696.00 km2\n",
      "The area of Benin is 112622.00 km2\n",
      "The area of Bermuda is 53.00 km2\n",
      "The area of Bhutan is 47000.00 km2\n",
      "The area of Bolivia is 1098581.00 km2\n",
      "The area of Bosnia and Herzegovina is 51197.00 km2\n",
      "The area of Botswana is 581730.00 km2\n",
      "The area of Bouvet Island is 59.00 km2\n",
      "The area of Brazil is 8547403.00 km2\n",
      "The area of British Indian Ocean Territory is 78.00 km2\n",
      "The area of Brunei is 5765.00 km2\n",
      "The area of Bulgaria is 110994.00 km2\n",
      "The area of Burkina Faso is 274000.00 km2\n",
      "The area of Burundi is 27834.00 km2\n",
      "The area of Cambodia is 181035.00 km2\n",
      "The area of Cameroon is 475442.00 km2\n",
      "The area of Canada is 9970610.00 km2\n",
      "The area of Cape Verde is 4033.00 km2\n",
      "The area of Cayman Islands is 264.00 km2\n",
      "The area of Central African Republic is 622984.00 km2\n",
      "The area of Chad is 1284000.00 km2\n",
      "The area of Chile is 756626.00 km2\n",
      "The area of China is 9572900.00 km2\n",
      "The area of Christmas Island is 135.00 km2\n",
      "The area of Cocos (Keeling) Islands is 14.00 km2\n",
      "The area of Colombia is 1138914.00 km2\n",
      "The area of Comoros is 1862.00 km2\n",
      "The area of Congo is 342000.00 km2\n",
      "The area of Cook Islands is 236.00 km2\n",
      "The area of Costa Rica is 51100.00 km2\n",
      "The area of Côte d’Ivoire is 322463.00 km2\n",
      "The area of Croatia is 56538.00 km2\n",
      "The area of Cuba is 110861.00 km2\n",
      "The area of Cyprus is 9251.00 km2\n",
      "The area of Czech Republic is 78866.00 km2\n",
      "The area of Denmark is 43094.00 km2\n",
      "The area of Djibouti is 23200.00 km2\n",
      "The area of Dominica is 751.00 km2\n",
      "The area of Dominican Republic is 48511.00 km2\n",
      "The area of East Timor is 14874.00 km2\n",
      "The area of Ecuador is 283561.00 km2\n",
      "The area of Egypt is 1001449.00 km2\n",
      "The area of El Salvador is 21041.00 km2\n",
      "The area of Equatorial Guinea is 28051.00 km2\n",
      "The area of Eritrea is 117600.00 km2\n",
      "The area of Estonia is 45227.00 km2\n",
      "The area of Ethiopia is 1104300.00 km2\n",
      "The area of Falkland Islands is 12173.00 km2\n",
      "The area of Faroe Islands is 1399.00 km2\n",
      "The area of Federated States of Micronesia is 702.00 km2\n",
      "The area of Fiji Islands is 18274.00 km2\n",
      "The area of Finland is 338145.00 km2\n",
      "The area of France is 551500.00 km2\n",
      "The area of French Guiana is 90000.00 km2\n",
      "The area of French Polynesia is 4000.00 km2\n",
      "The area of French Southern territories is 7780.00 km2\n",
      "The area of Gabon is 267668.00 km2\n",
      "The area of Gambia is 11295.00 km2\n",
      "The area of Georgia is 69700.00 km2\n",
      "The area of Germany is 357022.00 km2\n",
      "The area of Ghana is 238533.00 km2\n",
      "The area of Gibraltar is 6.00 km2\n",
      "The area of Greece is 131626.00 km2\n",
      "The area of Greenland is 2166090.00 km2\n",
      "The area of Grenada is 344.00 km2\n",
      "The area of Guadeloupe is 1705.00 km2\n",
      "The area of Guam is 549.00 km2\n",
      "The area of Guatemala is 108889.00 km2\n",
      "The area of Guinea is 245857.00 km2\n",
      "The area of Guinea-Bissau is 36125.00 km2\n",
      "The area of Guyana is 214969.00 km2\n",
      "The area of Haiti is 27750.00 km2\n",
      "The area of Heard Island and McDonald Islands is 359.00 km2\n",
      "The area of Holy See (Vatican City State) is 0.40 km2\n",
      "The area of Honduras is 112088.00 km2\n",
      "The area of Hong Kong is 1075.00 km2\n",
      "The area of Hungary is 93030.00 km2\n",
      "The area of Iceland is 103000.00 km2\n",
      "The area of India is 3287263.00 km2\n",
      "The area of Indonesia is 1904569.00 km2\n",
      "The area of Iran is 1648195.00 km2\n",
      "The area of Iraq is 438317.00 km2\n",
      "The area of Ireland is 70273.00 km2\n",
      "The area of Israel is 21056.00 km2\n",
      "The area of Italy is 301316.00 km2\n",
      "The area of Jamaica is 10990.00 km2\n",
      "The area of Japan is 377829.00 km2\n",
      "The area of Jordan is 88946.00 km2\n",
      "The area of Kazakstan is 2724900.00 km2\n",
      "The area of Kenya is 580367.00 km2\n",
      "The area of Kiribati is 726.00 km2\n",
      "The area of Kuwait is 17818.00 km2\n",
      "The area of Kyrgyzstan is 199900.00 km2\n",
      "The area of Laos is 236800.00 km2\n",
      "The area of Latvia is 64589.00 km2\n",
      "The area of Lebanon is 10400.00 km2\n",
      "The area of Lesotho is 30355.00 km2\n",
      "The area of Liberia is 111369.00 km2\n",
      "The area of Libyan Arab Jamahiriya is 1759540.00 km2\n",
      "The area of Liechtenstein is 160.00 km2\n",
      "The area of Lithuania is 65301.00 km2\n",
      "The area of Luxembourg is 2586.00 km2\n",
      "The area of Macao is 18.00 km2\n",
      "The area of Macedonia is 25713.00 km2\n",
      "The area of Madagascar is 587041.00 km2\n",
      "The area of Malawi is 118484.00 km2\n",
      "The area of Malaysia is 329758.00 km2\n",
      "The area of Maldives is 298.00 km2\n",
      "The area of Mali is 1240192.00 km2\n",
      "The area of Malta is 316.00 km2\n",
      "The area of Marshall Islands is 181.00 km2\n",
      "The area of Martinique is 1102.00 km2\n",
      "The area of Mauritania is 1025520.00 km2\n",
      "The area of Mauritius is 2040.00 km2\n",
      "The area of Mayotte is 373.00 km2\n",
      "The area of Mexico is 1958201.00 km2\n",
      "The area of Moldova is 33851.00 km2\n",
      "The area of Monaco is 1.50 km2\n",
      "The area of Mongolia is 1566500.00 km2\n",
      "The area of Montserrat is 102.00 km2\n",
      "The area of Morocco is 446550.00 km2\n",
      "The area of Mozambique is 801590.00 km2\n",
      "The area of Myanmar is 676578.00 km2\n",
      "The area of Namibia is 824292.00 km2\n",
      "The area of Nauru is 21.00 km2\n",
      "The area of Nepal is 147181.00 km2\n",
      "The area of Netherlands is 41526.00 km2\n",
      "The area of Netherlands Antilles is 800.00 km2\n",
      "The area of New Caledonia is 18575.00 km2\n",
      "The area of New Zealand is 270534.00 km2\n",
      "The area of Nicaragua is 130000.00 km2\n",
      "The area of Niger is 1267000.00 km2\n",
      "The area of Nigeria is 923768.00 km2\n",
      "The area of Niue is 260.00 km2\n",
      "The area of Norfolk Island is 36.00 km2\n",
      "The area of North Korea is 120538.00 km2\n",
      "The area of Northern Mariana Islands is 464.00 km2\n",
      "The area of Norway is 323877.00 km2\n",
      "The area of Oman is 309500.00 km2\n",
      "The area of Pakistan is 796095.00 km2\n",
      "The area of Palau is 459.00 km2\n",
      "The area of Palestine is 6257.00 km2\n",
      "The area of Panama is 75517.00 km2\n",
      "The area of Papua New Guinea is 462840.00 km2\n",
      "The area of Paraguay is 406752.00 km2\n",
      "The area of Peru is 1285216.00 km2\n",
      "The area of Philippines is 300000.00 km2\n",
      "The area of Pitcairn is 49.00 km2\n",
      "The area of Poland is 323250.00 km2\n",
      "The area of Portugal is 91982.00 km2\n",
      "The area of Puerto Rico is 8875.00 km2\n",
      "The area of Qatar is 11000.00 km2\n",
      "The area of Réunion is 2510.00 km2\n",
      "The area of Romania is 238391.00 km2\n",
      "The area of Russian Federation is 17075400.00 km2\n",
      "The area of Rwanda is 26338.00 km2\n",
      "The area of Saint Helena is 314.00 km2\n",
      "The area of Saint Kitts and Nevis is 261.00 km2\n",
      "The area of Saint Lucia is 622.00 km2\n",
      "The area of Saint Pierre and Miquelon is 242.00 km2\n",
      "The area of Saint Vincent and the Grenadines is 388.00 km2\n",
      "The area of Samoa is 2831.00 km2\n",
      "The area of San Marino is 61.00 km2\n",
      "The area of Sao Tome and Principe is 964.00 km2\n",
      "The area of Saudi Arabia is 2149690.00 km2\n",
      "The area of Senegal is 196722.00 km2\n",
      "The area of Seychelles is 455.00 km2\n",
      "The area of Sierra Leone is 71740.00 km2\n",
      "The area of Singapore is 618.00 km2\n",
      "The area of Slovakia is 49012.00 km2\n",
      "The area of Slovenia is 20256.00 km2\n",
      "The area of Solomon Islands is 28896.00 km2\n",
      "The area of Somalia is 637657.00 km2\n",
      "The area of South Africa is 1221037.00 km2\n",
      "The area of South Georgia and the South Sandwich Islands is 3903.00 km2\n",
      "The area of South Korea is 99434.00 km2\n",
      "The area of Spain is 505992.00 km2\n",
      "The area of Sri Lanka is 65610.00 km2\n",
      "The area of Sudan is 2505813.00 km2\n",
      "The area of Suriname is 163265.00 km2\n",
      "The area of Svalbard and Jan Mayen is 62422.00 km2\n",
      "The area of Swaziland is 17364.00 km2\n",
      "The area of Sweden is 449964.00 km2\n",
      "The area of Switzerland is 41284.00 km2\n",
      "The area of Syria is 185180.00 km2\n",
      "The area of Taiwan is 36188.00 km2\n",
      "The area of Tajikistan is 143100.00 km2\n",
      "The area of Tanzania is 883749.00 km2\n",
      "The area of Thailand is 513115.00 km2\n",
      "The area of The Democratic Republic of the Congo is 2344858.00 km2\n",
      "The area of Togo is 56785.00 km2\n",
      "The area of Tokelau is 12.00 km2\n",
      "The area of Tonga is 650.00 km2\n",
      "The area of Trinidad and Tobago is 5130.00 km2\n",
      "The area of Tunisia is 163610.00 km2\n",
      "The area of Turkey is 774815.00 km2\n",
      "The area of Turkmenistan is 488100.00 km2\n",
      "The area of Turks and Caicos Islands is 430.00 km2\n",
      "The area of Tuvalu is 26.00 km2\n",
      "The area of Uganda is 241038.00 km2\n",
      "The area of Ukraine is 603700.00 km2\n",
      "The area of United Arab Emirates is 83600.00 km2\n",
      "The area of United Kingdom is 242900.00 km2\n",
      "The area of United States is 9363520.00 km2\n",
      "The area of United States Minor Outlying Islands is 16.00 km2\n",
      "The area of Uruguay is 175016.00 km2\n",
      "The area of Uzbekistan is 447400.00 km2\n",
      "The area of Vanuatu is 12189.00 km2\n",
      "The area of Venezuela is 912050.00 km2\n",
      "The area of Vietnam is 331689.00 km2\n",
      "The area of Virgin Islands, British is 151.00 km2\n",
      "The area of Virgin Islands, U.S. is 347.00 km2\n",
      "The area of Wallis and Futuna is 200.00 km2\n",
      "The area of Western Sahara is 266000.00 km2\n",
      "The area of Yemen is 527968.00 km2\n",
      "The area of Yugoslavia is 102173.00 km2\n",
      "The area of Zambia is 752618.00 km2\n",
      "The area of Zimbabwe is 390757.00 km2\n",
      "The area of Afghanistan is 652090.00 km2\n",
      "The area of Albania is 28748.00 km2\n",
      "The area of Algeria is 2381741.00 km2\n",
      "The area of American Samoa is 199.00 km2\n",
      "The area of Andorra is 468.00 km2\n",
      "The area of Angola is 1246700.00 km2\n",
      "The area of Anguilla is 96.00 km2\n",
      "The area of Antarctica is 13120000.00 km2\n",
      "The area of Antigua and Barbuda is 442.00 km2\n",
      "The area of Argentina is 2780400.00 km2\n",
      "The area of Armenia is 29800.00 km2\n",
      "The area of Aruba is 193.00 km2\n",
      "The area of Australia is 7741220.00 km2\n",
      "The area of Austria is 83859.00 km2\n",
      "The area of Azerbaijan is 86600.00 km2\n",
      "The area of Bahamas is 13878.00 km2\n",
      "The area of Bahrain is 694.00 km2\n",
      "The area of Bangladesh is 143998.00 km2\n",
      "The area of Barbados is 430.00 km2\n",
      "The area of Belarus is 207600.00 km2\n",
      "The area of Belgium is 30518.00 km2\n",
      "The area of Belize is 22696.00 km2\n",
      "The area of Benin is 112622.00 km2\n",
      "The area of Bermuda is 53.00 km2\n",
      "The area of Bhutan is 47000.00 km2\n",
      "The area of Bolivia is 1098581.00 km2\n",
      "The area of Bosnia and Herzegovina is 51197.00 km2\n",
      "The area of Botswana is 581730.00 km2\n",
      "The area of Bouvet Island is 59.00 km2\n",
      "The area of Brazil is 8547403.00 km2\n",
      "The area of British Indian Ocean Territory is 78.00 km2\n",
      "The area of Brunei is 5765.00 km2\n",
      "The area of Bulgaria is 110994.00 km2\n",
      "The area of Burkina Faso is 274000.00 km2\n",
      "The area of Burundi is 27834.00 km2\n",
      "The area of Cambodia is 181035.00 km2\n",
      "The area of Cameroon is 475442.00 km2\n",
      "The area of Canada is 9970610.00 km2\n",
      "The area of Cape Verde is 4033.00 km2\n",
      "The area of Cayman Islands is 264.00 km2\n",
      "The area of Central African Republic is 622984.00 km2\n",
      "The area of Chad is 1284000.00 km2\n",
      "The area of Chile is 756626.00 km2\n",
      "The area of China is 9572900.00 km2\n",
      "The area of Christmas Island is 135.00 km2\n",
      "The area of Cocos (Keeling) Islands is 14.00 km2\n",
      "The area of Colombia is 1138914.00 km2\n",
      "The area of Comoros is 1862.00 km2\n",
      "The area of Congo is 342000.00 km2\n",
      "The area of Cook Islands is 236.00 km2\n",
      "The area of Costa Rica is 51100.00 km2\n",
      "The area of Côte d’Ivoire is 322463.00 km2\n",
      "The area of Croatia is 56538.00 km2\n",
      "The area of Cuba is 110861.00 km2\n",
      "The area of Cyprus is 9251.00 km2\n",
      "The area of Czech Republic is 78866.00 km2\n",
      "The area of Denmark is 43094.00 km2\n",
      "The area of Djibouti is 23200.00 km2\n",
      "The area of Dominica is 751.00 km2\n",
      "The area of Dominican Republic is 48511.00 km2\n",
      "The area of East Timor is 14874.00 km2\n",
      "The area of Ecuador is 283561.00 km2\n",
      "The area of Egypt is 1001449.00 km2\n",
      "The area of El Salvador is 21041.00 km2\n",
      "The area of Equatorial Guinea is 28051.00 km2\n",
      "The area of Eritrea is 117600.00 km2\n",
      "The area of Estonia is 45227.00 km2\n",
      "The area of Ethiopia is 1104300.00 km2\n",
      "The area of Falkland Islands is 12173.00 km2\n",
      "The area of Faroe Islands is 1399.00 km2\n",
      "The area of Federated States of Micronesia is 702.00 km2\n",
      "The area of Fiji Islands is 18274.00 km2\n",
      "The area of Finland is 338145.00 km2\n",
      "The area of France is 551500.00 km2\n",
      "The area of French Guiana is 90000.00 km2\n",
      "The area of French Polynesia is 4000.00 km2\n",
      "The area of French Southern territories is 7780.00 km2\n",
      "The area of Gabon is 267668.00 km2\n",
      "The area of Gambia is 11295.00 km2\n",
      "The area of Georgia is 69700.00 km2\n",
      "The area of Germany is 357022.00 km2\n",
      "The area of Ghana is 238533.00 km2\n",
      "The area of Gibraltar is 6.00 km2\n",
      "The area of Greece is 131626.00 km2\n",
      "The area of Greenland is 2166090.00 km2\n",
      "The area of Grenada is 344.00 km2\n",
      "The area of Guadeloupe is 1705.00 km2\n",
      "The area of Guam is 549.00 km2\n",
      "The area of Guatemala is 108889.00 km2\n",
      "The area of Guinea is 245857.00 km2\n",
      "The area of Guinea-Bissau is 36125.00 km2\n",
      "The area of Guyana is 214969.00 km2\n",
      "The area of Haiti is 27750.00 km2\n",
      "The area of Heard Island and McDonald Islands is 359.00 km2\n",
      "The area of Holy See (Vatican City State) is 0.40 km2\n",
      "The area of Honduras is 112088.00 km2\n",
      "The area of Hong Kong is 1075.00 km2\n",
      "The area of Hungary is 93030.00 km2\n",
      "The area of Iceland is 103000.00 km2\n",
      "The area of India is 3287263.00 km2\n",
      "The area of Indonesia is 1904569.00 km2\n",
      "The area of Iran is 1648195.00 km2\n",
      "The area of Iraq is 438317.00 km2\n",
      "The area of Ireland is 70273.00 km2\n",
      "The area of Israel is 21056.00 km2\n",
      "The area of Italy is 301316.00 km2\n",
      "The area of Jamaica is 10990.00 km2\n",
      "The area of Japan is 377829.00 km2\n",
      "The area of Jordan is 88946.00 km2\n",
      "The area of Kazakstan is 2724900.00 km2\n",
      "The area of Kenya is 580367.00 km2\n",
      "The area of Kiribati is 726.00 km2\n",
      "The area of Kuwait is 17818.00 km2\n",
      "The area of Kyrgyzstan is 199900.00 km2\n",
      "The area of Laos is 236800.00 km2\n",
      "The area of Latvia is 64589.00 km2\n",
      "The area of Lebanon is 10400.00 km2\n",
      "The area of Lesotho is 30355.00 km2\n",
      "The area of Liberia is 111369.00 km2\n",
      "The area of Libyan Arab Jamahiriya is 1759540.00 km2\n",
      "The area of Liechtenstein is 160.00 km2\n",
      "The area of Lithuania is 65301.00 km2\n",
      "The area of Luxembourg is 2586.00 km2\n",
      "The area of Macao is 18.00 km2\n",
      "The area of Macedonia is 25713.00 km2\n",
      "The area of Madagascar is 587041.00 km2\n",
      "The area of Malawi is 118484.00 km2\n",
      "The area of Malaysia is 329758.00 km2\n",
      "The area of Maldives is 298.00 km2\n",
      "The area of Mali is 1240192.00 km2\n",
      "The area of Malta is 316.00 km2\n",
      "The area of Marshall Islands is 181.00 km2\n",
      "The area of Martinique is 1102.00 km2\n",
      "The area of Mauritania is 1025520.00 km2\n",
      "The area of Mauritius is 2040.00 km2\n",
      "The area of Mayotte is 373.00 km2\n",
      "The area of Mexico is 1958201.00 km2\n",
      "The area of Moldova is 33851.00 km2\n",
      "The area of Monaco is 1.50 km2\n",
      "The area of Mongolia is 1566500.00 km2\n",
      "The area of Montserrat is 102.00 km2\n",
      "The area of Morocco is 446550.00 km2\n",
      "The area of Mozambique is 801590.00 km2\n",
      "The area of Myanmar is 676578.00 km2\n",
      "The area of Namibia is 824292.00 km2\n",
      "The area of Nauru is 21.00 km2\n",
      "The area of Nepal is 147181.00 km2\n",
      "The area of Netherlands is 41526.00 km2\n",
      "The area of Netherlands Antilles is 800.00 km2\n",
      "The area of New Caledonia is 18575.00 km2\n",
      "The area of New Zealand is 270534.00 km2\n",
      "The area of Nicaragua is 130000.00 km2\n",
      "The area of Niger is 1267000.00 km2\n",
      "The area of Nigeria is 923768.00 km2\n",
      "The area of Niue is 260.00 km2\n",
      "The area of Norfolk Island is 36.00 km2\n",
      "The area of North Korea is 120538.00 km2\n",
      "The area of Northern Mariana Islands is 464.00 km2\n",
      "The area of Norway is 323877.00 km2\n",
      "The area of Oman is 309500.00 km2\n",
      "The area of Pakistan is 796095.00 km2\n",
      "The area of Palau is 459.00 km2\n",
      "The area of Palestine is 6257.00 km2\n",
      "The area of Panama is 75517.00 km2\n",
      "The area of Papua New Guinea is 462840.00 km2\n",
      "The area of Paraguay is 406752.00 km2\n",
      "The area of Peru is 1285216.00 km2\n",
      "The area of Philippines is 300000.00 km2\n",
      "The area of Pitcairn is 49.00 km2\n",
      "The area of Poland is 323250.00 km2\n",
      "The area of Portugal is 91982.00 km2\n",
      "The area of Puerto Rico is 8875.00 km2\n",
      "The area of Qatar is 11000.00 km2\n",
      "The area of Réunion is 2510.00 km2\n",
      "The area of Romania is 238391.00 km2\n",
      "The area of Russian Federation is 17075400.00 km2\n",
      "The area of Rwanda is 26338.00 km2\n",
      "The area of Saint Helena is 314.00 km2\n",
      "The area of Saint Kitts and Nevis is 261.00 km2\n",
      "The area of Saint Lucia is 622.00 km2\n",
      "The area of Saint Pierre and Miquelon is 242.00 km2\n",
      "The area of Saint Vincent and the Grenadines is 388.00 km2\n",
      "The area of Samoa is 2831.00 km2\n",
      "The area of San Marino is 61.00 km2\n",
      "The area of Sao Tome and Principe is 964.00 km2\n",
      "The area of Saudi Arabia is 2149690.00 km2\n",
      "The area of Senegal is 196722.00 km2\n",
      "The area of Seychelles is 455.00 km2\n",
      "The area of Sierra Leone is 71740.00 km2\n",
      "The area of Singapore is 618.00 km2\n",
      "The area of Slovakia is 49012.00 km2\n",
      "The area of Slovenia is 20256.00 km2\n",
      "The area of Solomon Islands is 28896.00 km2\n",
      "The area of Somalia is 637657.00 km2\n",
      "The area of South Africa is 1221037.00 km2\n",
      "The area of South Georgia and the South Sandwich Islands is 3903.00 km2\n",
      "The area of South Korea is 99434.00 km2\n",
      "The area of Spain is 505992.00 km2\n",
      "The area of Sri Lanka is 65610.00 km2\n",
      "The area of Sudan is 2505813.00 km2\n",
      "The area of Suriname is 163265.00 km2\n",
      "The area of Svalbard and Jan Mayen is 62422.00 km2\n",
      "The area of Swaziland is 17364.00 km2\n",
      "The area of Sweden is 449964.00 km2\n",
      "The area of Switzerland is 41284.00 km2\n",
      "The area of Syria is 185180.00 km2\n",
      "The area of Taiwan is 36188.00 km2\n",
      "The area of Tajikistan is 143100.00 km2\n",
      "The area of Tanzania is 883749.00 km2\n",
      "The area of Thailand is 513115.00 km2\n",
      "The area of The Democratic Republic of the Congo is 2344858.00 km2\n",
      "The area of Togo is 56785.00 km2\n",
      "The area of Tokelau is 12.00 km2\n",
      "The area of Tonga is 650.00 km2\n",
      "The area of Trinidad and Tobago is 5130.00 km2\n",
      "The area of Tunisia is 163610.00 km2\n",
      "The area of Turkey is 774815.00 km2\n",
      "The area of Turkmenistan is 488100.00 km2\n",
      "The area of Turks and Caicos Islands is 430.00 km2\n",
      "The area of Tuvalu is 26.00 km2\n",
      "The area of Uganda is 241038.00 km2\n",
      "The area of Ukraine is 603700.00 km2\n",
      "The area of United Arab Emirates is 83600.00 km2\n",
      "The area of United Kingdom is 242900.00 km2\n",
      "The area of United States is 9363520.00 km2\n",
      "The area of United States Minor Outlying Islands is 16.00 km2\n",
      "The area of Uruguay is 175016.00 km2\n",
      "The area of Uzbekistan is 447400.00 km2\n",
      "The area of Vanuatu is 12189.00 km2\n",
      "The area of Venezuela is 912050.00 km2\n",
      "The area of Vietnam is 331689.00 km2\n",
      "The area of Virgin Islands, British is 151.00 km2\n",
      "The area of Virgin Islands, U.S. is 347.00 km2\n",
      "The area of Wallis and Futuna is 200.00 km2\n",
      "The area of Western Sahara is 266000.00 km2\n",
      "The area of Yemen is 527968.00 km2\n",
      "The area of Yugoslavia is 102173.00 km2\n",
      "The area of Zambia is 752618.00 km2\n",
      "The area of Zimbabwe is 390757.00 km2\n"
     ]
    }
   ],
   "source": [
    "import csv\n",
    "\n",
    "with open('C:/Users/admin/Downloads/country.csv', encoding=\"utf8\") as f:\n",
    "    csv_reader = csv.DictReader(f)\n",
    "    # skip the header\n",
    "    next(csv_reader)\n",
    "    # show the data\n",
    "    for line in csv_reader:\n",
    "        print(f\"The area of {line['name']} is {line['area']} km2\")\n",
    "\n",
    "import csv\n",
    "\n",
    "fieldnames = ['country_name', 'area', 'code2', 'code3']\n",
    "\n",
    "with open('C:/Users/admin/Downloads/country.csv', encoding=\"utf8\") as f:\n",
    "    csv_reader = csv.DictReader(f, fieldnames)\n",
    "    next(csv_reader)\n",
    "    for line in csv_reader:\n",
    "        print(f\"The area of {line['country_name']} is {line['area']} km2\")\n"
   ]
  },
  {
   "cell_type": "markdown",
   "metadata": {},
   "source": [
    "#### Steps for writing a CSV file\n",
    "To write data into a CSV file, you follow these steps:\n",
    "<br>\n",
    "First, open the CSV file for writing (w mode) by using the open() function.\n",
    "<br>\n",
    "Second, create a CSV writer object by calling the writer() function of the csv module.\n",
    "<br>\n",
    "Third, write data to CSV file by calling the writerow() or writerows() method of the CSV writer object.\n",
    "Finally, close the file once you complete writing data to it.\n",
    "\n"
   ]
  },
  {
   "cell_type": "code",
   "execution_count": 5,
   "metadata": {},
   "outputs": [],
   "source": [
    "import csv  \n",
    "\n",
    "header = ['name', 'area', 'country_code2', 'country_code3']\n",
    "data = ['Afghanistan', 652090, 'AF', 'AFG']\n",
    "\n",
    "with open('countries.csv', 'w', encoding='UTF8') as f:\n",
    "    writer = csv.writer(f)\n",
    "\n",
    "    # write the header\n",
    "    writer.writerow(header)\n",
    "\n",
    "    # write the data\n",
    "    writer.writerow(data)\n",
    "\n",
    "\n",
    "import csv\n",
    "\n",
    "header = ['name', 'area', 'country_code2', 'country_code3']\n",
    "data = [\n",
    "    ['Albania', 28748, 'AL', 'ALB'],\n",
    "    ['Algeria', 2381741, 'DZ', 'DZA'],\n",
    "    ['American Samoa', 199, 'AS', 'ASM'],\n",
    "    ['Andorra', 468, 'AD', 'AND'],\n",
    "    ['Angola', 1246700, 'AO', 'AGO']\n",
    "]\n",
    "\n",
    "with open('countries.csv', 'w', encoding='UTF8', newline='') as f:\n",
    "    writer = csv.writer(f)\n",
    "\n",
    "    # write the header\n",
    "    writer.writerow(header)\n",
    "\n",
    "    # write multiple rows\n",
    "    writer.writerows(data)\n",
    "\n",
    "\n",
    "\n",
    "\n"
   ]
  },
  {
   "cell_type": "markdown",
   "metadata": {},
   "source": [
    "\n",
    "##### Writing to CSV files using the DictWriter class\n",
    "\n",
    "<pre>\n",
    "First, define variables that hold the field names and data rows of the CSV file.\n",
    "Next, open the CSV file for writing by calling the open() function.\n",
    "Then, create a new instance of the DictWriter class by passing the file object (f) and fieldnames argument to it.\n",
    "After that, write the header for the CSV file by calling the writeheader() method.\n",
    "Finally, write data rows to the CSV file using the writerows() method.\n",
    "</pre>"
   ]
  },
  {
   "cell_type": "code",
   "execution_count": null,
   "metadata": {},
   "outputs": [],
   "source": [
    "import csv\n",
    "\n",
    "# csv header\n",
    "fieldnames = ['name', 'area', 'country_code2', 'country_code3']\n",
    "\n",
    "# csv data\n",
    "rows = [\n",
    "    {'name': 'Albania',\n",
    "    'area': 28748,\n",
    "    'country_code2': 'AL',\n",
    "    'country_code3': 'ALB'},\n",
    "    {'name': 'Algeria',\n",
    "    'area': 2381741,\n",
    "    'country_code2': 'DZ',\n",
    "    'country_code3': 'DZA'},\n",
    "    {'name': 'American Samoa',\n",
    "    'area': 199,\n",
    "    'country_code2': 'AS',\n",
    "    'country_code3': 'ASM'}\n",
    "]\n",
    "\n",
    "with open('countries.csv', 'w', encoding='UTF8', newline='') as f:\n",
    "    writer = csv.DictWriter(f, fieldnames=fieldnames)\n",
    "    writer.writeheader()\n",
    "    writer.writerows(rows)"
   ]
  },
  {
   "cell_type": "markdown",
   "metadata": {},
   "source": [
    "#### Delete File\n"
   ]
  },
  {
   "cell_type": "code",
   "execution_count": null,
   "metadata": {},
   "outputs": [],
   "source": [
    "import os\n",
    "\n",
    "os.remove('readme.txt')\n",
    "\n",
    "import os\n",
    "\n",
    "filename = 'readme.txt'\n",
    "if os.path.exists(filename):\n",
    "    os.remove(filename)"
   ]
  },
  {
   "cell_type": "markdown",
   "metadata": {},
   "source": []
  },
  {
   "cell_type": "code",
   "execution_count": 7,
   "metadata": {},
   "outputs": [],
   "source": [
    "class Students:\n",
    "    def __call__(self):\n",
    "        print('hello ')\n",
    "student1 = Students()\n",
    "# all classes in python are callable\n",
    "# we can also make the istance of class callable by using  '__call__' inside class\n"
   ]
  },
  {
   "cell_type": "code",
   "execution_count": 12,
   "metadata": {},
   "outputs": [
    {
     "name": "stdout",
     "output_type": "stream",
     "text": [
      "hello \n"
     ]
    }
   ],
   "source": [
    "type(student1)\n",
    "callable(student1)\n",
    "student1()"
   ]
  },
  {
   "cell_type": "markdown",
   "metadata": {},
   "source": [
    "# OOP\n",
    "\n",
    "#### Class\n",
    "\n",
    "What is a class explain with a real world example?\n",
    "Each bicycle was built from the same set of blueprints and therefore contains the same components. In object-oriented terms, we say that your bicycle is an instance of the class of objects known as bicycles. A class is the blueprint from which individual objects are created.\n",
    "\n",
    "#### APIE\n",
    "##### Abstraction\n",
    "##### Polymorphism\n",
    "##### Inheritance\n",
    "<img src=\"https://docs.oracle.com/javase/tutorial/figures/java/concepts-bikeHierarchy.gif\"><br>\n",
    "##### Encapsulation\n",
    "<pre>What is a real life example of encapsulation?\n",
    "Real world example of encapsulation\n",
    "\n",
    "The bag contains different stuffs like pen, pencil, notebook etc within it, in order to get any stuff you need to open that bag, similarly in java an encapsulation unit contains it's data and behavior within it and in order to access them you need an object of that unit.</pre>"
   ]
  },
  {
   "cell_type": "markdown",
   "metadata": {},
   "source": [
    "##### Define instance attributes\n",
    "Python is dynamic. It means that you can add an attribute to an instance of a class dynamically at runtime.\n",
    "\n"
   ]
  },
  {
   "cell_type": "code",
   "execution_count": 16,
   "metadata": {},
   "outputs": [
    {
     "name": "stdout",
     "output_type": "stream",
     "text": [
      "<class 'type'> <class 'type'>\n",
      "<class '__main__.Students'> <class 'type'>\n",
      "hello world\n"
     ]
    }
   ],
   "source": [
    "class Students:\n",
    "    pass\n",
    "student1=Students\n",
    "student1.name='hello world'\n",
    "print(type(student1),type(Students))\n",
    "student1=Students()\n",
    "print(type(student1),type(Students))#__main__ refers to the current module\n",
    "print(student1.name)\n"
   ]
  },
  {
   "cell_type": "code",
   "execution_count": 26,
   "metadata": {},
   "outputs": [
    {
     "data": {
      "text/plain": [
       "sample.Colleges"
      ]
     },
     "execution_count": 26,
     "metadata": {},
     "output_type": "execute_result"
    }
   ],
   "source": [
    "from sample import Colleges\n",
    "ne=Colleges()\n",
    "type(ne)"
   ]
  },
  {
   "cell_type": "markdown",
   "metadata": {},
   "source": [
    "<pre>The double underscores at both sides of the __init__() method indicate that Python will use the method internally. In other words, you should not explicitly call this method.\n",
    "\n",
    "Since Python will automatically call the __init__() method immediately after creating a new object, you can use the __init__() method to initialize the object’s attributes.</pre>"
   ]
  },
  {
   "cell_type": "code",
   "execution_count": 29,
   "metadata": {},
   "outputs": [
    {
     "name": "stdout",
     "output_type": "stream",
     "text": [
      "34 raj\n",
      "25 raj\n"
     ]
    }
   ],
   "source": [
    "#To define and initialize an attribute for all instances of a class, you use the __init__\n",
    "class Students:\n",
    "    def __init__(self, name, age):#, the self is the instance of the Person class.\n",
    "        self.name = name\n",
    "        self.age = age\n",
    "        #Python automatically calls the __init__ method to initialize the instance attributes\n",
    "\n",
    "student1=Students('raj',34)\n",
    "print(student1.age,student1.name)#To access an instance attribute, you use the dot notation. \n",
    "student1.age=25\n",
    "print(student1.age,student1.name) \n"
   ]
  },
  {
   "cell_type": "code",
   "execution_count": 30,
   "metadata": {},
   "outputs": [
    {
     "data": {
      "text/plain": [
       "\"Hi, it's raj.\""
      ]
     },
     "execution_count": 30,
     "metadata": {},
     "output_type": "execute_result"
    }
   ],
   "source": [
    "class Students:\n",
    "    def __init__(self, name, age):\n",
    "        self.name = name\n",
    "        self.age = age\n",
    "\n",
    "    def greet(self):\n",
    "        return f\"Hi, it's {self.name}.\"\n",
    "student1=Students('raj',34)\n",
    "student1.greet()"
   ]
  },
  {
   "cell_type": "code",
   "execution_count": 36,
   "metadata": {},
   "outputs": [
    {
     "name": "stdout",
     "output_type": "stream",
     "text": [
      "Hi, it's raj.\n",
      "1\n"
     ]
    }
   ],
   "source": [
    "#Define class attributes\n",
    "#Unlike instance attributes, class attributes are shared by all instances of the class.\n",
    "class Students:\n",
    "    counter = 0\n",
    "\n",
    "    def __init__(self, name, age):\n",
    "        self.name = name\n",
    "        self.age = age\n",
    "\n",
    "    def greet(self):\n",
    "        return f\"Hi, it's {self.name}.\"\n",
    "#class attribute can be accessed using class name or from any instances of the Class\n",
    "Students.counter=0\n",
    "print(Students.greet(student1))\n",
    "student1.counter=1\n",
    "print(student1.counter)"
   ]
  },
  {
   "cell_type": "code",
   "execution_count": 9,
   "metadata": {},
   "outputs": [
    {
     "name": "stdout",
     "output_type": "stream",
     "text": [
      "<class 'str'> <class 'str'>\n",
      "hi\n"
     ]
    },
    {
     "ename": "NameError",
     "evalue": "name 's1' is not defined",
     "output_type": "error",
     "traceback": [
      "\u001b[1;31m---------------------------------------------------------------------------\u001b[0m",
      "\u001b[1;31mNameError\u001b[0m                                 Traceback (most recent call last)",
      "Cell \u001b[1;32mIn[9], line 10\u001b[0m\n\u001b[0;32m      8\u001b[0m \u001b[38;5;28mprint\u001b[39m(s1\u001b[38;5;241m.\u001b[39mtr)\n\u001b[0;32m      9\u001b[0m \u001b[38;5;28;01mdel\u001b[39;00m s1\n\u001b[1;32m---> 10\u001b[0m \u001b[38;5;28mprint\u001b[39m(\u001b[43ms1\u001b[49m\u001b[38;5;241m.\u001b[39mtr)\n",
      "\u001b[1;31mNameError\u001b[0m: name 's1' is not defined"
     ]
    }
   ],
   "source": [
    "class Stu:\n",
    "    tr='hi'\n",
    "s1=Stu()\n",
    "s2=Stu()\n",
    "s1.tr='hello'\n",
    "print(type(s1.tr),type(s2.tr))\n",
    "del s1.tr\n",
    "print(s1.tr)\n",
    "del s1\n",
    "print(s1.tr)\n",
    "\n"
   ]
  },
  {
   "cell_type": "code",
   "execution_count": 25,
   "metadata": {},
   "outputs": [
    {
     "name": "stdout",
     "output_type": "stream",
     "text": [
      "Anonymous2\n",
      "<__main__.Students object at 0x0000027A31BD4B10>\n",
      "Anonymous2\n"
     ]
    }
   ],
   "source": [
    "#Define class method\n",
    "\n",
    "# class method is shared by all instances of the class.\n",
    "# The first argument of a class method is the class itself. By convention, its name is cls.\n",
    "#Python automatically passes this argument to the class method. \n",
    "#Also, you use the @classmethod decorator to decorate a class method.\n",
    "class Students:\n",
    "    counter = 0\n",
    "\n",
    "    def __init__(self, name, age):\n",
    "        self.name = name\n",
    "        self.age = age\n",
    "        #Students.counter += 1\n",
    "\n",
    "    def greet(self):\n",
    "        return f\"Hi, it's {self.name}.\"\n",
    "\n",
    "    @classmethod\n",
    "    def create_anonymous(cls,num):\n",
    "        cls.counter=num\n",
    "        return Students('Anonymous2', 22)\n",
    "    \n",
    "anonymous = Students.create_anonymous(123)\n",
    "Students.create_anonymous(12)\n",
    "print(anonymous.name)  # Anonymous\n",
    "a=Students('john',32)\n",
    "b=a.create_anonymous(67)\n",
    "\n",
    "print(a.create_anonymous(62))\n",
    "print(b.name)"
   ]
  },
  {
   "cell_type": "code",
   "execution_count": 27,
   "metadata": {},
   "outputs": [
    {
     "data": {
      "text/plain": [
       "62"
      ]
     },
     "execution_count": 27,
     "metadata": {},
     "output_type": "execute_result"
    }
   ],
   "source": [
    "Students.counter"
   ]
  },
  {
   "cell_type": "code",
   "execution_count": 58,
   "metadata": {},
   "outputs": [
    {
     "data": {
      "text/plain": [
       "89.6"
      ]
     },
     "execution_count": 58,
     "metadata": {},
     "output_type": "execute_result"
    }
   ],
   "source": [
    "#Define static method\n",
    "#A static method is not bound to a class or any instances of the class.\n",
    "class TemperatureConverter:\n",
    "    @staticmethod\n",
    "    def celsius_to_fahrenheit(c):\n",
    "        return 9 * c / 5 + 32\n",
    "\n",
    "    @staticmethod\n",
    "    def fahrenheit_to_celsius(f):\n",
    "        return 5 * (f - 32) / 9\n",
    "#To call a static method, you use the ClassName.static_method_name()\n",
    "TemperatureConverter.celsius_to_fahrenheit(30)\n",
    "t1=TemperatureConverter()\n",
    "t1.celsius_to_fahrenheit(32)\n",
    "\n",
    "#Notice that Python doesn’t implicitly pass an instance (self) as well as class (cls)\n",
    "# as the first argument of a static method."
   ]
  },
  {
   "cell_type": "code",
   "execution_count": 78,
   "metadata": {},
   "outputs": [
    {
     "name": "stdout",
     "output_type": "stream",
     "text": [
      "95.0°F\n"
     ]
    }
   ],
   "source": [
    "class TemperatureConverter:\n",
    "    KEVIN = 'K',\n",
    "    FAHRENHEIT = 'F'\n",
    "    CELSIUS = 'C'\n",
    "\n",
    "    @staticmethod\n",
    "    def celsius_to_fahrenheit(c):\n",
    "        return 9*c/5 + 32\n",
    "\n",
    "    @staticmethod\n",
    "    def fahrenheit_to_celsius(f):\n",
    "        return 5*(f-32)/9\n",
    "\n",
    "    @staticmethod\n",
    "    def celsius_to_kelvin(c):\n",
    "        return c + 273.15\n",
    "\n",
    "    @staticmethod\n",
    "    def kelvin_to_celsius(k):\n",
    "        return k - 273.15\n",
    "\n",
    "    @staticmethod\n",
    "    def fahrenheit_to_kelvin(f):\n",
    "        return 5*(f+459.67)/9\n",
    "\n",
    "    @staticmethod\n",
    "    def kelvin_to_fahrenheit(k):\n",
    "        return 9*k/5 - 459.67\n",
    "\n",
    "    @staticmethod\n",
    "    def format(value, unit):\n",
    "        symbol = ''\n",
    "        if unit == TemperatureConverter.FAHRENHEIT:\n",
    "            symbol = '°F'\n",
    "        elif unit == TemperatureConverter.CELSIUS:\n",
    "            symbol = '°C'\n",
    "        elif unit == TemperatureConverter.KEVIN:\n",
    "            symbol = '°K'\n",
    "\n",
    "        return f'{value}{symbol}'\n",
    "f = TemperatureConverter.celsius_to_fahrenheit(35)\n",
    "print(TemperatureConverter.format(f, TemperatureConverter.FAHRENHEIT))\n"
   ]
  },
  {
   "cell_type": "code",
   "execution_count": 57,
   "metadata": {},
   "outputs": [
    {
     "data": {
      "text/plain": [
       "\"Hi, it's john. I'm a Developer.\""
      ]
     },
     "execution_count": 57,
     "metadata": {},
     "output_type": "execute_result"
    }
   ],
   "source": [
    "#Single inheritance\n",
    "class Person:\n",
    "    counter = 0\n",
    "\n",
    "    def __init__(self, name, age):\n",
    "        self.name = name\n",
    "        self.age = age\n",
    "        Person.counter += 1\n",
    "\n",
    "    def greet(self):\n",
    "        return f\"Hi, it's {self.name}.\"\n",
    "\n",
    "    @classmethod\n",
    "    def create_anonymous(cls):\n",
    "        return Person('Anonymous', 22)\n",
    "    \n",
    "class Employee(Person):\n",
    "    def __init__(self, name, age, job_title):\n",
    "        super().__init__(name, age)\n",
    "        self.job_title = job_title\n",
    "\n",
    "    def greet(self):\n",
    "        return super().greet() + f\" I'm a {self.job_title}.\"\n",
    "emp1=Employee('john',34,'Developer')\n",
    "emp1.greet()"
   ]
  },
  {
   "cell_type": "markdown",
   "metadata": {},
   "source": [
    "##### Object\n",
    "<pre>\n",
    "An object is a container that contains data and functionality.\n",
    "\n",
    "The data represents the object at a particular moment in time. Therefore, the data of an object is called the state. Python uses attributes to model the state of an object.\n",
    "\n",
    "The functionality represents the behaviors of an object. Python uses functions to model the behaviors. When a function is associated with an object, it becomes a method of the object.\n",
    "\n",
    "In other words, an object is a container that contains the state and methods.\n",
    "</pre>\n",
    "##### CLass\n",
    "<pre>\n",
    "A class is also an object in Python\n",
    "Everything in Python is an object, including classes.\n",
    "\n",
    "When you define the Person class, Python creates an object with the name Person. The Person object has attributes. For example, you can find its name using the __name__ attribute:\n",
    "</pre>"
   ]
  },
  {
   "cell_type": "code",
   "execution_count": 68,
   "metadata": {},
   "outputs": [
    {
     "name": "stdout",
     "output_type": "stream",
     "text": [
      "Person\n",
      "True\n"
     ]
    }
   ],
   "source": [
    "print(Person.__name__)#The Person object has the type of type:\n",
    "#class also has a behavior. For example, it can create a new instance:\n",
    "print(isinstance(Person, type)) # True"
   ]
  },
  {
   "cell_type": "markdown",
   "metadata": {},
   "source": [
    "A class is an object which is an instance of the type class.\n",
    "Class variables are attributes of the class object.\n",
    "Use dot notation or getattr() function to get the value of a class attribute.\n",
    "Use dot notation or setattr() function to set the value of a class attribute.\n",
    "Python is a dynamic language. Therefore, you can assign a class variable to a class at runtime.\n",
    "Python stores class variables in the __dict__ attribute. The __dict__ attribute is a dictionary."
   ]
  },
  {
   "cell_type": "code",
   "execution_count": 69,
   "metadata": {},
   "outputs": [
    {
     "name": "stdout",
     "output_type": "stream",
     "text": [
      "mappingproxy({'__dict__': <attribute '__dict__' of 'HtmlDocument' objects>,\n",
      "              '__doc__': None,\n",
      "              '__module__': '__main__',\n",
      "              '__weakref__': <attribute '__weakref__' of 'HtmlDocument' objects>,\n",
      "              'extension': 'html',\n",
      "              'media_type': 'text/html',\n",
      "              'version': '5'})\n"
     ]
    }
   ],
   "source": [
    "from pprint import pprint\n",
    "\n",
    "\n",
    "class HtmlDocument:\n",
    "    extension = 'html'\n",
    "    version = '5'\n",
    "\n",
    "\n",
    "HtmlDocument.media_type = 'text/html'\n",
    "\n",
    "pprint(HtmlDocument.__dict__)"
   ]
  },
  {
   "cell_type": "markdown",
   "metadata": {},
   "source": [
    "<pre>\n",
    "Features\t    class methods\t  Instance methods\n",
    "Binding\t          Class\t          An instance of the class\n",
    "Calling     \t  Class.method()\t  object.method()\n",
    "Accessing\t    Class attributes  Instance & class attributes\n",
    "</pre>"
   ]
  },
  {
   "cell_type": "markdown",
   "metadata": {},
   "source": [
    "#### Introduction to encapsulation in Python\n",
    "Encapsulation is one of the four fundamental concepts in object-oriented programming including abstraction, encapsulation, inheritance, and polymorphism.\n",
    "Encapsulation is the packing of data and functions that work on that data within a single object. By doing so, you can hide the internal state of the object from the outside. This is known as information hiding.\n",
    "\n",
    "A class is an example of encapsulation. A class bundles data and methods into a single unit. And a class provides the access to its attributes via methods."
   ]
  },
  {
   "cell_type": "code",
   "execution_count": 70,
   "metadata": {},
   "outputs": [
    {
     "name": "stdout",
     "output_type": "stream",
     "text": [
      "3\n",
      "-999\n"
     ]
    }
   ],
   "source": [
    "class Counter:\n",
    "    def __init__(self):\n",
    "        self.current = 0\n",
    "\n",
    "    def increment(self):\n",
    "        self.current += 1\n",
    "\n",
    "    def value(self):\n",
    "        return self.current\n",
    "\n",
    "    def reset(self):\n",
    "        self.current = 0\n",
    "counter = Counter()\n",
    "\n",
    "\n",
    "counter.increment()\n",
    "counter.increment()\n",
    "counter.increment()\n",
    "\n",
    "print(counter.value())\n",
    "\n",
    "\n",
    "# but have one issue\n",
    "counter = Counter()\n",
    "\n",
    "counter.increment()\n",
    "counter.increment()\n",
    "counter.current = -999\n",
    "\n",
    "print(counter.value())\n"
   ]
  },
  {
   "cell_type": "markdown",
   "metadata": {},
   "source": [
    "So how do you prevent the current attribute from modifying outside of the Counter class?\n",
    "\n",
    "That’s why private attributes come into play.\n",
    "#### Private attributes\n",
    "Private attributes can be only accessible from the methods of the class. In other words, they cannot be accessible from outside of the class.\n",
    "\n",
    "Python doesn’t have a concept of private attributes. In other words, all attributes are accessible from the outside of a class.\n",
    "\n",
    "By convention, you can define a private attribute by prefixing a single underscore (_):"
   ]
  },
  {
   "cell_type": "code",
   "execution_count": 73,
   "metadata": {},
   "outputs": [
    {
     "data": {
      "text/plain": [
       "999"
      ]
     },
     "execution_count": 73,
     "metadata": {},
     "output_type": "execute_result"
    }
   ],
   "source": [
    "class Counter:\n",
    "    def __init__(self):\n",
    "        self._current = 0\n",
    "\n",
    "    def increment(self):\n",
    "        self._current += 1\n",
    "\n",
    "    def value(self):\n",
    "        return self._current\n",
    "\n",
    "    def reset(self):\n",
    "        self._current = 0\n",
    "counter=Counter()\n",
    "counter._current=999\n",
    "counter._current\n"
   ]
  },
  {
   "cell_type": "markdown",
   "metadata": {},
   "source": [
    "Name mangling with double underscores\n",
    "If you prefix an attribute name with double underscores (__) like this:\n",
    "The main purpose of mangling is to make class attributes more \"private\" and to avoid accidental name conflicts, especially in the context of inheritance.\n",
    "\n",
    "__attribute\n",
    "Python will automatically change the name of the __attribute to:\n",
    "\n",
    "_class__attribute"
   ]
  },
  {
   "cell_type": "code",
   "execution_count": 16,
   "metadata": {},
   "outputs": [
    {
     "name": "stdout",
     "output_type": "stream",
     "text": [
      "0\n"
     ]
    }
   ],
   "source": [
    "class Counter:\n",
    "    def __init__(self):\n",
    "        cu=0\n",
    "        self.__current = 0\n",
    "\n",
    "    def increment(self):\n",
    "        self.__current += 1\n",
    "\n",
    "    def value(self):\n",
    "        return self.__current\n",
    "\n",
    "    def reset(self):\n",
    "        self.__current = 0\n",
    "\n",
    "counter = Counter()\n",
    "print(counter._Counter__current)\n",
    "\n",
    "class c1(Counter):\n",
    "    def __init__(self):\n",
    "        super.cu=2\n",
    "        print(self._Counter__current)"
   ]
  },
  {
   "cell_type": "code",
   "execution_count": 17,
   "metadata": {},
   "outputs": [
    {
     "name": "stdout",
     "output_type": "stream",
     "text": [
      "1\n",
      "1\n"
     ]
    },
    {
     "ename": "TypeError",
     "evalue": "cannot set 'cu' attribute of immutable type 'super'",
     "output_type": "error",
     "traceback": [
      "\u001b[1;31m---------------------------------------------------------------------------\u001b[0m",
      "\u001b[1;31mTypeError\u001b[0m                                 Traceback (most recent call last)",
      "Cell \u001b[1;32mIn[17], line 6\u001b[0m\n\u001b[0;32m      3\u001b[0m Counter\u001b[38;5;241m.\u001b[39m_Counter__current\u001b[38;5;241m=\u001b[39m\u001b[38;5;241m2\u001b[39m\n\u001b[0;32m      4\u001b[0m \u001b[38;5;28mprint\u001b[39m(counter\u001b[38;5;241m.\u001b[39m_Counter__current)\n\u001b[1;32m----> 6\u001b[0m c\u001b[38;5;241m=\u001b[39m\u001b[43mc1\u001b[49m\u001b[43m(\u001b[49m\u001b[43m)\u001b[49m\n\u001b[0;32m      8\u001b[0m \u001b[38;5;28mprint\u001b[39m(counter\u001b[38;5;241m.\u001b[39m_Counter__current)\n",
      "Cell \u001b[1;32mIn[16], line 20\u001b[0m, in \u001b[0;36mc1.__init__\u001b[1;34m(self)\u001b[0m\n\u001b[0;32m     19\u001b[0m \u001b[38;5;28;01mdef\u001b[39;00m \u001b[38;5;21m__init__\u001b[39m(\u001b[38;5;28mself\u001b[39m):\n\u001b[1;32m---> 20\u001b[0m     \u001b[38;5;28;43msuper\u001b[39;49m\u001b[38;5;241;43m.\u001b[39;49m\u001b[43mcu\u001b[49m\u001b[38;5;241m=\u001b[39m\u001b[38;5;241m2\u001b[39m\n\u001b[0;32m     21\u001b[0m     \u001b[38;5;28mprint\u001b[39m(\u001b[38;5;28mself\u001b[39m\u001b[38;5;241m.\u001b[39m_Counter__current)\n",
      "\u001b[1;31mTypeError\u001b[0m: cannot set 'cu' attribute of immutable type 'super'"
     ]
    }
   ],
   "source": [
    "counter._Counter__current=1\n",
    "print(counter._Counter__current)\n",
    "Counter._Counter__current=2\n",
    "print(counter._Counter__current)\n",
    "\n",
    "c=c1()\n",
    "\n",
    "print(counter._Counter__current)\n"
   ]
  },
  {
   "cell_type": "code",
   "execution_count": 79,
   "metadata": {},
   "outputs": [
    {
     "name": "stdout",
     "output_type": "stream",
     "text": [
      "<__main__.Person object at 0x000001659D773BD0>\n",
      "Person(John,Doe,25)\n"
     ]
    }
   ],
   "source": [
    "# __str__\n",
    "class Person:\n",
    "    def __init__(self, first_name, last_name, age):\n",
    "        self.first_name = first_name\n",
    "        self.last_name = last_name\n",
    "        self.age = age\n",
    "person = Person('John', 'Doe', 25)\n",
    "print(person)\n",
    "class Person:\n",
    "    def __init__(self, first_name, last_name, age):\n",
    "        self.first_name = first_name\n",
    "        self.last_name = last_name\n",
    "        self.age = age\n",
    "\n",
    "    def __str__(self):\n",
    "        return f'Person({self.first_name},{self.last_name},{self.age})'\n",
    "person = Person('John', 'Doe', 25)\n",
    "print(person)"
   ]
  },
  {
   "cell_type": "markdown",
   "metadata": {},
   "source": []
  },
  {
   "cell_type": "code",
   "execution_count": 18,
   "metadata": {},
   "outputs": [
    {
     "name": "stdout",
     "output_type": "stream",
     "text": [
      "My name is John and I'm 10 years old\n",
      "Hello, I'm John\n",
      "I'm a child class!\n"
     ]
    }
   ],
   "source": [
    "class Parent:\n",
    "    def __init__(self, name):\n",
    "        self.name = name\n",
    "\n",
    "    def greet(self):\n",
    "        print(f\"Hello, I'm {self.name}\")\n",
    "\n",
    "class Child(Parent):\n",
    "    def __init__(self, name, age):\n",
    "        # Call the constructor of the parent class\n",
    "        super().__init__(name)\n",
    "        self.age = age\n",
    "\n",
    "    def introduce(self):\n",
    "        # Access the attribute of the parent class\n",
    "        print(f\"My name is {self.name} and I'm {self.age} years old\")\n",
    "\n",
    "    def greet(self):\n",
    "        # Call the method of the parent class using super()\n",
    "        super().greet()\n",
    "        print(\"I'm a child class!\")\n",
    "\n",
    "# Create an instance of the child class\n",
    "child_instance = Child(name=\"John\", age=10)\n",
    "\n",
    "# Access attributes and call methods\n",
    "child_instance.introduce()\n",
    "child_instance.greet()\n"
   ]
  },
  {
   "cell_type": "code",
   "execution_count": 9,
   "metadata": {},
   "outputs": [
    {
     "name": "stdout",
     "output_type": "stream",
     "text": [
      "I am a class attribute\n",
      "I am a class attribute\n",
      "Hello, I'm ParentName, an instance method\n",
      "Hello, I'm ChildName, an instance method\n",
      "This is a class method in Parent\n",
      "This is a class method in Child\n",
      "This is a static method\n",
      "This is a static method\n",
      "I'm ChildName, 5 years old, and a child method\n",
      "This is a child class method in Child\n",
      "This is a class method in Child\n"
     ]
    }
   ],
   "source": [
    "class Parent:\n",
    "    class_attribute = \"I am a class attribute\"\n",
    "\n",
    "    def __init__(self, name):\n",
    "        self.name = name\n",
    "        \n",
    "    def instance_method(self):\n",
    "        print(f\"Hello, I'm {self.name}, an instance method\")\n",
    "\n",
    "    @classmethod\n",
    "    def class_method(cls):\n",
    "        print(f\"This is a class method in {cls.__name__}\")\n",
    "\n",
    "    @staticmethod\n",
    "    def static_method():\n",
    "        print(\"This is a static method\")\n",
    "\n",
    "\n",
    "class Child(Parent):\n",
    "    def __init__(self, name, age):\n",
    "        super().__init__(name)\n",
    "        self.age = age\n",
    "\n",
    "    def child_method(self):\n",
    "        print(f\"I'm {self.name}, {self.age} years old, and a child method\")\n",
    "\n",
    "    @classmethod\n",
    "    def child_class_method(cls):\n",
    "        print(f\"This is a child class method in {cls.__name__}\")\n",
    "\n",
    "# Create instances of both Parent and Child classes\n",
    "parent_instance = Parent(name=\"ParentName\")\n",
    "child_instance = Child(name=\"ChildName\", age=5)\n",
    "\n",
    "# Accessing class attribute\n",
    "print(parent_instance.class_attribute)\n",
    "print(child_instance.class_attribute)\n",
    "\n",
    "# Calling instance methods\n",
    "parent_instance.instance_method()\n",
    "child_instance.instance_method()\n",
    "\n",
    "# Calling class methods\n",
    "Parent.class_method()\n",
    "Child.class_method()\n",
    "\n",
    "# Calling static methods\n",
    "Parent.static_method()\n",
    "Child.static_method()\n",
    "\n",
    "# Calling child-specific methods\n",
    "child_instance.child_method()\n",
    "Child.child_class_method()\n",
    "child_instance.class_method()"
   ]
  },
  {
   "cell_type": "markdown",
   "metadata": {},
   "source": [
    "<pre>We can also override attribute also\n",
    "Use isinstance() to check if an object is an instance of a class.\n",
    "Use issubclass() to check if a class is a subclass of another class.\n",
    "and every class is subclass of object class\n",
    "</pre>"
   ]
  }
 ],
 "metadata": {
  "kernelspec": {
   "display_name": "Python 3 (ipykernel)",
   "language": "python",
   "name": "python3"
  },
  "language_info": {
   "codemirror_mode": {
    "name": "ipython",
    "version": 3
   },
   "file_extension": ".py",
   "mimetype": "text/x-python",
   "name": "python",
   "nbconvert_exporter": "python",
   "pygments_lexer": "ipython3",
   "version": "3.11.7"
  }
 },
 "nbformat": 4,
 "nbformat_minor": 4
}
