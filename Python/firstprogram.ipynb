{
 "cells": [
  {
   "cell_type": "markdown",
   "metadata": {},
   "source": [
    "# Basic Start"
   ]
  },
  {
   "cell_type": "code",
   "execution_count": 1,
   "metadata": {},
   "outputs": [
    {
     "name": "stdout",
     "output_type": "stream",
     "text": [
      "Hello World\n",
      "again\n"
     ]
    }
   ],
   "source": [
    "print(\"Hello World\")\n",
    "print(\"again\")"
   ]
  },
  {
   "cell_type": "code",
   "execution_count": 2,
   "metadata": {},
   "outputs": [
    {
     "name": "stdout",
     "output_type": "stream",
     "text": [
      "Tom\n",
      "Jerry\n"
     ]
    }
   ],
   "source": [
    "fname=\"Tom\"\n",
    "lname=\"Jerry\"\n",
    "\n",
    "print(fname)\n",
    "print(lname) "
   ]
  },
  {
   "cell_type": "code",
   "execution_count": 3,
   "metadata": {},
   "outputs": [
    {
     "name": "stdout",
     "output_type": "stream",
     "text": [
      "Tom Jerry\n"
     ]
    }
   ],
   "source": [
    "fname=\"Tom\"\n",
    "lname=\"Jerry\"\n",
    "\n",
    "print(fname, lname)\n"
   ]
  },
  {
   "cell_type": "code",
   "execution_count": 6,
   "metadata": {},
   "outputs": [
    {
     "name": "stdout",
     "output_type": "stream",
     "text": [
      "Tom\tJerry"
     ]
    }
   ],
   "source": [
    "fname=\"Tom\"\n",
    "lname=\"Jerry\"\n",
    "\n",
    "print(fname, lname, sep=\"\\t\")"
   ]
  },
  {
   "cell_type": "code",
   "execution_count": 7,
   "metadata": {},
   "outputs": [
    {
     "name": "stdout",
     "output_type": "stream",
     "text": [
      "Tom Jerry    "
     ]
    }
   ],
   "source": [
    "fname=\"Tom\"\n",
    "lname=\"Jerry\"\n",
    "\n",
    "print(fname, lname, end='    ')"
   ]
  },
  {
   "cell_type": "markdown",
   "metadata": {},
   "source": [
    "# Variables "
   ]
  },
  {
   "cell_type": "code",
   "execution_count": 17,
   "metadata": {},
   "outputs": [
    {
     "name": "stdout",
     "output_type": "stream",
     "text": [
      "TomTomTomTomTom\n",
      "TomJerry\n",
      "hello Tom Jerry\n",
      "hello Tom how are you \n",
      "hello Tom 20  how are you \n",
      "hello  Tom 20  how are you \n",
      "C:\\Users\\HUDA\\OneDrive\\Desktop\\Huda Shaikh Resume.pdf\n"
     ]
    }
   ],
   "source": [
    "#VARIABLES -- PYTHON\n",
    "\n",
    "#strings are immutable  -- the string literal are assigned with multiple containers\n",
    "\n",
    "print(fname*5)  #use only +, * for string \n",
    "\n",
    "print(fname+lname)  # addition is used as concatenation\n",
    "\n",
    "print('hello ' + fname, lname) \n",
    "\n",
    "print('hello ' + fname + ' how are you ')  # + works an operator \n",
    "\n",
    "age=20 \n",
    "\n",
    "print('hello ' + fname,age,  ' how are you ')  # comma works as an separator\n",
    "print(f'hello  {fname} {age}  how are you ') \n",
    "\n",
    "\n",
    "print(r\"C:\\Users/HUDA/OneDrive/Desktop/Huda Shaikh Resume.pdf\")  # R is a raw string used to generate a source to give file location.\n",
    "\n"
   ]
  },
  {
   "cell_type": "markdown",
   "metadata": {},
   "source": [
    "# Indexing , Length , Nested loops\n"
   ]
  },
  {
   "cell_type": "code",
   "execution_count": 25,
   "metadata": {},
   "outputs": [
    {
     "name": "stdout",
     "output_type": "stream",
     "text": [
      "o\n",
      "r\n",
      "hello world\n",
      "ello w\n",
      "3\n"
     ]
    }
   ],
   "source": [
    "#Indexing, length\n",
    "\n",
    "print(fname[1])  #indexing starts with 0\n",
    "\n",
    "hi='hello world'\n",
    "print(hi[-3])\n",
    "\n",
    "print(hi[:])  #slice operator  \n",
    "print(hi[1:7])\n",
    "\n",
    "\n",
    "print(len(fname)) #length starts with 1 \n",
    "\n"
   ]
  },
  {
   "cell_type": "code",
   "execution_count": 1,
   "metadata": {},
   "outputs": [
    {
     "name": "stdout",
     "output_type": "stream",
     "text": [
      "not a number\n",
      "end\n"
     ]
    }
   ],
   "source": [
    " #Examples -- flow control\n",
    "\n",
    "a=int (input('Enter Number'))\n",
    "if a<0:\n",
    "    print( r'input is negative')\n",
    "elif  a==0:\n",
    "    print( r'not a number')\n",
    "else: \n",
    "    print( r'input is positive')\n",
    "\n",
    "\n",
    "print('end')"
   ]
  },
  {
   "cell_type": "code",
   "execution_count": 55,
   "metadata": {},
   "outputs": [
    {
     "name": "stdout",
     "output_type": "stream",
     "text": [
      "2100 is not leap year.\n"
     ]
    }
   ],
   "source": [
    "\n",
    "#Example  using tarnery operator\n",
    "\n",
    "year=int (input('enter a year'))\n",
    "\n",
    "if (year % 400 == 0 ) or ( year % 4 == 0 and year % 100 != 0):\n",
    "    print ( f'{year} is a leap year.')\n",
    "else: \n",
    "     print ( f'{year} is not leap year.')  #f is formatted string \n",
    "\n"
   ]
  },
  {
   "cell_type": "code",
   "execution_count": 59,
   "metadata": {},
   "outputs": [
    {
     "name": "stdout",
     "output_type": "stream",
     "text": [
      "2024 is a leap year.\n"
     ]
    }
   ],
   "source": [
    "#Example  using tarnery operator\n",
    "\n",
    "year=int (input('enter a year'))\n",
    "\n",
    "if (year % 400 == 0):\n",
    "    print ( f'{year} is a leap year')\n",
    "elif (year % 4 == 0 and year % 100 != 0 ):\n",
    "    print ( f'{year} is a leap year.')\n",
    "else:\n",
    "    print ( f'{year} is not leap year.')  \n"
   ]
  },
  {
   "cell_type": "code",
   "execution_count": 1,
   "metadata": {},
   "outputs": [
    {
     "name": "stdout",
     "output_type": "stream",
     "text": [
      "2 5\n"
     ]
    }
   ],
   "source": [
    "#Example \n",
    "\n",
    "x = 4\n",
    "\n",
    "y = x + 1\n",
    "\n",
    "x = 2\n",
    "\n",
    "print(x, y)"
   ]
  },
  {
   "cell_type": "code",
   "execution_count": 11,
   "metadata": {},
   "outputs": [
    {
     "name": "stdout",
     "output_type": "stream",
     "text": [
      "Place of service: Urban areas\n"
     ]
    }
   ],
   "source": [
    "# FLOW CONTROL PORTAL ASSIGNMENT\n",
    "\n",
    "# Get user input\n",
    "age_str = input(\"Enter age: \")\n",
    "gender = input(\"Enter gender (M or F): \").upper()\n",
    "marital_status = input(\"Enter marital status (Y or N): \").upper()\n",
    "\n",
    "# Validate marital status\n",
    "if marital_status not in ['Y', 'N']:\n",
    "    print(\"ERROR: Invalid input for marital status\")\n",
    "else:\n",
    "    # Validate age\n",
    "        age = int(age_str)\n",
    "        # Determine place of service based on rules\n",
    "        if gender == 'F':\n",
    "            print(\"Place of service: Urban areas\")\n",
    "        elif gender == 'M' and 20 <= age <= 40:\n",
    "            print(\"Place of service: Anywhere\")\n",
    "        elif gender == 'M' and 40 <= age <= 60:\n",
    "            print(\"Place of service: Urban areas only\")\n",
    "        else:\n",
    "            print(\"ERROR: Invalid input for age or gender\")\n",
    "      \n"
   ]
  },
  {
   "cell_type": "code",
   "execution_count": 2,
   "metadata": {},
   "outputs": [
    {
     "name": "stdout",
     "output_type": "stream",
     "text": [
      "Hello, world!\n",
      "Hello, world!\n",
      "Hello, world!\n",
      "Hello, world!\n"
     ]
    }
   ],
   "source": [
    "# Portal Assignment Basic Hello, world! script in Python\n",
    "print(\"Hello, world!\")\n",
    "print(\"Hello, world!\")\n",
    "print(\"Hello, world!\")\n",
    "print(\"Hello, world!\")\n"
   ]
  },
  {
   "cell_type": "code",
   "execution_count": 3,
   "metadata": {},
   "outputs": [
    {
     "name": "stdout",
     "output_type": "stream",
     "text": [
      "The number of occurrences of \"usa\" (case-insensitive) is: 2\n"
     ]
    }
   ],
   "source": [
    "# portal assignment Example \n",
    "\n",
    "str1 = \"Welcome to USA. usa is awesome, isn't it?\"\n",
    "\n",
    "# Converting the string and target substring to lowercase for case-insensitive matching\n",
    "str_lower = str1.lower()\n",
    "target_substring = \"usa\"\n",
    "\n",
    "# Find all occurrences of the target substring\n",
    "occurrences = str_lower.count(target_substring)\n",
    "\n",
    "print(f'The number of occurrences of \"{target_substring}\" (case-insensitive) is: {occurrences}')\n"
   ]
  },
  {
   "cell_type": "code",
   "execution_count": 4,
   "metadata": {},
   "outputs": [
    {
     "name": "stdout",
     "output_type": "stream",
     "text": [
      "Emma\n",
      "is\n",
      "a\n",
      "data\n",
      "scientist\n"
     ]
    }
   ],
   "source": [
    "# Portal Assignment Example  \n",
    "\n",
    "str1 = \"Emma-is-a-data-scientist\"\n",
    "\n",
    "# Split the string on hyphens\n",
    "substrings = str1.split('-')\n",
    "\n",
    "# Display each substring\n",
    "for substring in substrings:\n",
    "    print(substring)\n"
   ]
  },
  {
   "cell_type": "markdown",
   "metadata": {},
   "source": [
    " # WHILE LOOP \n",
    "\n",
    "while (condition) :\n",
    "\n",
    "\tcode block \n",
    "\tcode block\n",
    "\trepeating statements\n",
    "\n",
    "else :\n",
    "\n",
    "    code block\n",
    "\tcode block\n",
    "\n",
    "end \n",
    "\n",
    "Remember to assign 3 things in loop \n",
    "\n",
    "1) Conditions\n",
    "2) Assignment\n",
    "3) Increment and Decrement"
   ]
  },
  {
   "cell_type": "code",
   "execution_count": 6,
   "metadata": {},
   "outputs": [
    {
     "name": "stdout",
     "output_type": "stream",
     "text": [
      "start loop\n",
      "1\n",
      "2\n",
      "3\n",
      "4\n",
      "5\n",
      "loop finished\n"
     ]
    }
   ],
   "source": [
    "# WHILE LOOP \n",
    "\n",
    "print(\"start loop\")\n",
    "\n",
    "i=1\n",
    "while i < 6:\n",
    "    print(i)\n",
    "    i += 1\n",
    "else:\n",
    "     print(\"loop finished\")"
   ]
  },
  {
   "cell_type": "code",
   "execution_count": 14,
   "metadata": {},
   "outputs": [
    {
     "name": "stdout",
     "output_type": "stream",
     "text": [
      "start loop\n",
      "2\n",
      "4\n",
      "6\n",
      "8\n",
      "10\n",
      "loop finished\n"
     ]
    }
   ],
   "source": [
    "# Example\n",
    "\n",
    "print(\"start loop\")\n",
    "\n",
    "num = 2\n",
    "while num < 12:\n",
    "    print(num)\n",
    "    num = num + 2\n",
    "else:\n",
    "     print(\"loop finished\")"
   ]
  },
  {
   "cell_type": "markdown",
   "metadata": {},
   "source": [
    "- Infinite Loop"
   ]
  },
  {
   "cell_type": "code",
   "execution_count": 15,
   "metadata": {},
   "outputs": [
    {
     "name": "stdout",
     "output_type": "stream",
     "text": [
      "5\n",
      ">\n",
      "> 7\n",
      ">\n",
      "8\n",
      "8\n",
      "8\n",
      "8\n",
      "8\n",
      "8\n",
      "8\n",
      "end\n"
     ]
    }
   ],
   "source": [
    "# INFINITE LOOP \n",
    "\n",
    "a = input('>')\n",
    "\n",
    "while a !=\"quit\":\n",
    "    print(a)\n",
    "    a = input('>')\n",
    "else:\n",
    "    print('end')\n"
   ]
  },
  {
   "cell_type": "markdown",
   "metadata": {},
   "source": [
    "- Pass statement"
   ]
  },
  {
   "cell_type": "code",
   "execution_count": 23,
   "metadata": {},
   "outputs": [
    {
     "name": "stdout",
     "output_type": "stream",
     "text": [
      "end\n"
     ]
    }
   ],
   "source": [
    "# PASS Statement\n",
    "\n",
    "a = input('>')\n",
    "\n",
    "while ():\n",
    "    \n",
    "    pass\n",
    "\n",
    "else:\n",
    "    print('end')\n"
   ]
  },
  {
   "cell_type": "markdown",
   "metadata": {},
   "source": [
    "- Break statement"
   ]
  },
  {
   "cell_type": "code",
   "execution_count": 28,
   "metadata": {},
   "outputs": [
    {
     "name": "stdout",
     "output_type": "stream",
     "text": [
      "2\n",
      "3\n",
      "4\n"
     ]
    }
   ],
   "source": [
    "# BREAK Statement \n",
    "\n",
    "num = 1\n",
    "while num < 11:\n",
    "    if (num > 3):\n",
    "        break\n",
    "    num = num + 1\n",
    "    print(num)\n",
    "else:\n",
    "    print(\"end\")\n",
    "    "
   ]
  },
  {
   "cell_type": "code",
   "execution_count": 29,
   "metadata": {},
   "outputs": [
    {
     "name": "stdout",
     "output_type": "stream",
     "text": [
      "inner loop with num value 1, 1\n",
      "inner loop with num value 1, 2\n",
      "inner loop with num value 1, 3\n",
      "inner loop with num value 1, 4\n",
      "inner loop with num value 1, 5\n",
      "5\n",
      "inner loop with num value 2, 1\n",
      "inner loop with num value 2, 2\n",
      "inner loop with num value 2, 3\n",
      "inner loop with num value 2, 4\n",
      "inner loop with num value 2, 5\n",
      "10\n",
      "inner loop with num value 3, 1\n",
      "inner loop with num value 3, 2\n",
      "inner loop with num value 3, 3\n",
      "inner loop with num value 3, 4\n",
      "inner loop with num value 3, 5\n",
      "15\n",
      "inner loop with num value 4, 1\n",
      "inner loop with num value 4, 2\n",
      "inner loop with num value 4, 3\n",
      "inner loop with num value 4, 4\n",
      "inner loop with num value 4, 5\n",
      "20\n",
      "inner loop with num value 5, 1\n",
      "inner loop with num value 5, 2\n",
      "inner loop with num value 5, 3\n",
      "inner loop with num value 5, 4\n",
      "inner loop with num value 5, 5\n",
      "25\n",
      "inner loop with num value 6, 1\n",
      "inner loop with num value 6, 2\n",
      "inner loop with num value 6, 3\n",
      "inner loop with num value 6, 4\n",
      "inner loop with num value 6, 5\n",
      "30\n",
      "inner loop with num value 7, 1\n",
      "inner loop with num value 7, 2\n",
      "inner loop with num value 7, 3\n",
      "inner loop with num value 7, 4\n",
      "inner loop with num value 7, 5\n",
      "35\n",
      "inner loop with num value 8, 1\n",
      "inner loop with num value 8, 2\n",
      "inner loop with num value 8, 3\n",
      "inner loop with num value 8, 4\n",
      "inner loop with num value 8, 5\n",
      "40\n",
      "inner loop with num value 9, 1\n",
      "inner loop with num value 9, 2\n",
      "inner loop with num value 9, 3\n",
      "inner loop with num value 9, 4\n",
      "inner loop with num value 9, 5\n",
      "45\n",
      "inner loop with num value 10, 1\n",
      "inner loop with num value 10, 2\n",
      "inner loop with num value 10, 3\n",
      "inner loop with num value 10, 4\n",
      "inner loop with num value 10, 5\n",
      "50\n"
     ]
    }
   ],
   "source": [
    "# Example of break statement\n",
    "\n",
    "num = 1 \n",
    "counter = 0\n",
    "while (num < 11):\n",
    "    #print('outer loop with num value', num)\n",
    "    num1 = 1\n",
    "    while (num1 < 11):\n",
    "        if num1 > 5 :\n",
    "            break\n",
    "        print(f'inner loop with num value {num}, {num1}')\n",
    "\n",
    "        num1 = num1 + 1\n",
    "        counter = counter + 1\n",
    "    num = num + 1\n",
    "    print(counter)"
   ]
  },
  {
   "cell_type": "markdown",
   "metadata": {},
   "source": [
    "- Continue Statement"
   ]
  },
  {
   "cell_type": "code",
   "execution_count": 9,
   "metadata": {},
   "outputs": [
    {
     "name": "stdout",
     "output_type": "stream",
     "text": [
      "2\n",
      "4\n",
      "6\n",
      "8\n",
      "10\n"
     ]
    }
   ],
   "source": [
    "# Continue Statement  -- even number\n",
    "\n",
    "num = 0 \n",
    "while num < 11:\n",
    "    num = num + 1 \n",
    "    if num % 2 :\n",
    "        continue\n",
    "    print(num)\n",
    "\n"
   ]
  },
  {
   "cell_type": "code",
   "execution_count": 15,
   "metadata": {},
   "outputs": [
    {
     "name": "stdout",
     "output_type": "stream",
     "text": [
      "1\n",
      "3\n",
      "5\n",
      "7\n",
      "9\n"
     ]
    }
   ],
   "source": [
    "#Continue Statement -- odd number \n",
    "num = 0 \n",
    "while num < 10:\n",
    "    num = num + 1 \n",
    "    if num % 2 == 0 :\n",
    "        continue\n",
    "    print(num)"
   ]
  },
  {
   "cell_type": "markdown",
   "metadata": {},
   "source": [
    "# For Loop\n"
   ]
  },
  {
   "cell_type": "code",
   "execution_count": 29,
   "metadata": {},
   "outputs": [
    {
     "name": "stdout",
     "output_type": "stream",
     "text": [
      "1\n",
      "3\n",
      "5\n",
      "7\n",
      "9\n",
      "11\n",
      "13\n",
      "15\n",
      "17\n",
      "19\n"
     ]
    }
   ],
   "source": [
    "# For Loop -- odd number\n",
    "\n",
    "for i in range(1, 20, 2):  # i stands for iterative and it has parameter like (start, stop, step)\n",
    "    print(i)"
   ]
  },
  {
   "cell_type": "code",
   "execution_count": 38,
   "metadata": {},
   "outputs": [
    {
     "name": "stdout",
     "output_type": "stream",
     "text": [
      "2 x 1 = 2\n",
      "2 x 2 = 4\n",
      "2 x 3 = 6\n",
      "2 x 4 = 8\n",
      "2 x 5 = 10\n",
      "2 x 6 = 12\n",
      "2 x 7 = 14\n",
      "2 x 8 = 16\n",
      "2 x 9 = 18\n",
      "2 x 10 = 20\n"
     ]
    }
   ],
   "source": [
    "# For loop -- table of 2 \n",
    "\n",
    "for i in range(1, 11):\n",
    "    print(f\"2 x {i} = {2*i}\")"
   ]
  },
  {
   "cell_type": "code",
   "execution_count": 13,
   "metadata": {},
   "outputs": [
    {
     "name": "stdout",
     "output_type": "stream",
     "text": [
      "1 \n",
      "1 2 \n",
      "1 2 3 \n",
      "1 2 3 4 \n",
      "1 2 3 4 5 \n"
     ]
    }
   ],
   "source": [
    "# PORTAL ASSIGNMENT \n",
    "\n",
    "# Define the number of rows\n",
    "num_rows = 5\n",
    "\n",
    "# Loop through each row\n",
    "for i in range(1, num_rows + 1):\n",
    "    # Loop through each column in the current row\n",
    "    for j in range(1, i + 1):\n",
    "        print(j, end=\" \")  # Print the current number followed by a space\n",
    "    print()  # Move to the next line after each row\n"
   ]
  },
  {
   "cell_type": "markdown",
   "metadata": {},
   "source": [
    "# Functions\n",
    "\n",
    "- Function is a block of code or Set of instruction which is only work when it is call..\n",
    "- It avoids repetition and makes code reusable.\n",
    "- Help break our program into smaller and modular chunks. As our program grows larger and bigger , functions make it more organized and manageable.\n"
   ]
  },
  {
   "cell_type": "code",
   "execution_count": 20,
   "metadata": {},
   "outputs": [
    {
     "name": "stdout",
     "output_type": "stream",
     "text": [
      "Hello huda\n"
     ]
    }
   ],
   "source": [
    "# FUNCTIONS ()     h.w odd and even number function 0 - 20\n",
    "\n",
    "def greet():  # define the function  () write parameters inside this \n",
    "    print(\"Hello huda\")\n",
    "\n",
    "greet()   # call the function  () argument is call in function \n",
    "\n"
   ]
  },
  {
   "cell_type": "code",
   "execution_count": 14,
   "metadata": {},
   "outputs": [
    {
     "name": "stdout",
     "output_type": "stream",
     "text": [
      "Even numbers: [2, 4, 6, 8, 10, 12, 14, 16, 18, 20]\n",
      "Odd numbers: [1, 3, 5, 7, 9, 11, 13, 15, 17, 19, 21]\n"
     ]
    }
   ],
   "source": [
    "# H.W \n",
    "\n",
    "def even_odd(numbers):\n",
    "    even_numbers = [num for num in numbers if num % 2 == 0]\n",
    "    odd_numbers = [num for num in numbers if num % 2 != 0]\n",
    "    return even_numbers, odd_numbers\n",
    "\n",
    "# Input list of numbers\n",
    "numbers = [i for i in range(1, 22, 1)]\n",
    "   \n",
    "\n",
    "# Call the function\n",
    "even_numbers, odd_numbers = even_odd(numbers)\n",
    "\n",
    "# Print the results\n",
    "print(\"Even numbers:\", even_numbers)\n",
    "print(\"Odd numbers:\", odd_numbers)\n"
   ]
  },
  {
   "cell_type": "code",
   "execution_count": 67,
   "metadata": {},
   "outputs": [
    {
     "name": "stdout",
     "output_type": "stream",
     "text": [
      " 2 x 1 = 2\n",
      " 2 x 2 = 4\n",
      " 2 x 3 = 6\n",
      " 2 x 4 = 8\n",
      " 2 x 5 = 10\n",
      " 2 x 6 = 12\n",
      " 2 x 7 = 14\n",
      " 2 x 8 = 16\n",
      " 2 x 9 = 18\n",
      " 2 x 10 = 20\n"
     ]
    }
   ],
   "source": [
    "#EXAMPLE \n",
    "\n",
    "def table(number:int): \n",
    "\n",
    "    for i in range(1, 11, 1 ):\n",
    "        result= number * i\n",
    "        print(f\" {number} x {i} = {result}\")\n",
    "    \n",
    "table(2)  # if a value is entered in a call function it is not a default value \n",
    "\n"
   ]
  },
  {
   "cell_type": "code",
   "execution_count": 70,
   "metadata": {},
   "outputs": [
    {
     "name": "stdout",
     "output_type": "stream",
     "text": [
      " 7 x 1 = 7\n",
      " 7 x 2 = 14\n",
      " 7 x 3 = 21\n",
      " 7 x 4 = 28\n",
      " 5 x 1 = 5\n",
      " 5 x 2 = 10\n",
      " 5 x 3 = 15\n",
      " 5 x 4 = 20\n"
     ]
    }
   ],
   "source": [
    "#Example of Default \n",
    "\n",
    "def table(number:int=7):  # if a particular value is entered while defining a function\n",
    "\n",
    "    for i in range(1, 5, 1 ):\n",
    "        result= number * i\n",
    "        print(f\" {number} x {i} = {result}\")\n",
    "    \n",
    "table()   # it will be set to default in calling function \n",
    "\n",
    "table(5)   # both default and non default value can work together \n"
   ]
  },
  {
   "cell_type": "markdown",
   "metadata": {},
   "source": [
    "# Keyword Argument \n",
    "\n",
    "- Keyword argument should be at the end in calling function \n",
    "- Argument is written using {} curly brackets\n",
    "\n"
   ]
  },
  {
   "cell_type": "code",
   "execution_count": 2,
   "metadata": {},
   "outputs": [
    {
     "name": "stdout",
     "output_type": "stream",
     "text": [
      "your name is 20\n",
      "your age is Musab\n",
      "your salary is 2500\n",
      "\n",
      "your name is Huda\n",
      "your age is 20\n",
      "your salary is 4000\n"
     ]
    }
   ],
   "source": [
    "# Example of keyword argument\n",
    "\n",
    "def showDetails(name,age,salary):\n",
    "    print(f'your name is {name}')\n",
    "    print(f'your age is {age}')\n",
    "    print(f'your salary is {salary}')\n",
    "\n",
    "showDetails(20,'Musab',2500)\n",
    "\n",
    "print()\n",
    "\n",
    "showDetails('Huda', salary=4000,age=20)"
   ]
  },
  {
   "cell_type": "markdown",
   "metadata": {},
   "source": [
    "# Lambda Function\n",
    "\n",
    "- SYNTAX ---- lambda parameterlist : expression  (eg- lambda y: x*n)\n",
    "- It is an anonyms function"
   ]
  },
  {
   "cell_type": "code",
   "execution_count": 5,
   "metadata": {},
   "outputs": [
    {
     "data": {
      "text/plain": [
       "4"
      ]
     },
     "execution_count": 5,
     "metadata": {},
     "output_type": "execute_result"
    }
   ],
   "source": [
    "#Example one \n",
    "\n",
    "def funname(y):\n",
    "    return 2*y\n",
    "funname(3)\n",
    "\n",
    "# Using Lambda \n",
    "\n",
    "a = lambda y: 2*y\n",
    "a (2)\n"
   ]
  },
  {
   "cell_type": "code",
   "execution_count": 6,
   "metadata": {},
   "outputs": [
    {
     "name": "stdout",
     "output_type": "stream",
     "text": [
      "20\n",
      "60\n"
     ]
    }
   ],
   "source": [
    "def times(n):\n",
    "    return lambda x: x*n\n",
    "double=times(2)\n",
    "triple=times(3)\n",
    "\n",
    "print(double(10))    # lambda x : x*2\n",
    "print(triple(20))    # lambda x : x*3"
   ]
  },
  {
   "cell_type": "code",
   "execution_count": 8,
   "metadata": {},
   "outputs": [
    {
     "name": "stdout",
     "output_type": "stream",
     "text": [
      "[1, 4, 9, 16, 25, 36, 49, 64, 81, 100]\n"
     ]
    }
   ],
   "source": [
    "#Example -- 1\n",
    "\n",
    "numbers = [1,2,3,4,5,6,7,8,9,10]\n",
    "sq=list(map(lambda x:x**2,numbers))\n",
    "print(sq)\n",
    "\n",
    "# Example -- 2\n",
    "\n",
    "def odds(num)\n",
    "for i in number:\n",
    "    print(odds(i))\n",
    "\n",
    " odds= list(filter(lambda x: x%2==1, number))\n",
    "print(odds)"
   ]
  },
  {
   "cell_type": "code",
   "execution_count": 1,
   "metadata": {},
   "outputs": [
    {
     "name": "stdout",
     "output_type": "stream",
     "text": [
      "[200, 400, 600]\n"
     ]
    }
   ],
   "source": [
    "#Example - 3\n",
    "\n",
    "bonuses = [100, 200, 300]\n",
    "iterator = map(lambda bonus: bonus*2, bonuses)\n",
    "print(list(iterator))\n"
   ]
  },
  {
   "cell_type": "markdown",
   "metadata": {},
   "source": [
    "# Recursive Function"
   ]
  },
  {
   "cell_type": "code",
   "execution_count": 1,
   "metadata": {},
   "outputs": [
    {
     "name": "stdout",
     "output_type": "stream",
     "text": [
      "The factorial of 4 is 24\n"
     ]
    }
   ],
   "source": [
    "# using for loop\n",
    "\n",
    "def factorial(n):\n",
    "    result = 1\n",
    "    for i in range(1, n + 1):\n",
    "        result *= i\n",
    "    return result\n",
    "\n",
    "\n",
    "number = 4\n",
    "result = factorial(number)\n",
    "print(f\"The factorial of {number} is {result}\")"
   ]
  },
  {
   "cell_type": "code",
   "execution_count": 2,
   "metadata": {},
   "outputs": [
    {
     "name": "stdout",
     "output_type": "stream",
     "text": [
      "The factorial of 5 is 120\n"
     ]
    }
   ],
   "source": [
    "# using while loop \n",
    "\n",
    "def factorial(n):\n",
    "    result = 1\n",
    "    while n > 1:\n",
    "        result *= n\n",
    "        n -= 1\n",
    "    return result\n",
    "\n",
    "number = 5\n",
    "result = factorial(number)\n",
    "print(f\"The factorial of {number} is {result}\")\n"
   ]
  },
  {
   "cell_type": "code",
   "execution_count": 3,
   "metadata": {},
   "outputs": [
    {
     "data": {
      "text/plain": [
       "6"
      ]
     },
     "execution_count": 3,
     "metadata": {},
     "output_type": "execute_result"
    }
   ],
   "source": [
    "# using recursive\n",
    "\n",
    "def factorial(n):\n",
    "   if n == 1:\n",
    "      return 1\n",
    "   else:\n",
    "      return n * factorial(n - 1)\n",
    " \n",
    "factorial(3)\n"
   ]
  },
  {
   "cell_type": "code",
   "execution_count": 3,
   "metadata": {},
   "outputs": [
    {
     "name": "stdout",
     "output_type": "stream",
     "text": [
      "2\n",
      "1\n",
      "0\n"
     ]
    }
   ],
   "source": [
    "# Example \n",
    "\n",
    "def countdown(start):\n",
    "    print(start)\n",
    "    if start > 0:\n",
    "        countdown(start-1)\n",
    "        \n",
    "countdown(2)"
   ]
  },
  {
   "cell_type": "code",
   "execution_count": 6,
   "metadata": {},
   "outputs": [
    {
     "name": "stdout",
     "output_type": "stream",
     "text": [
      "2\n",
      "1\n",
      "0\n",
      "the return value None the value of count0\n",
      "the return value 1 the value of count1\n",
      "the value of count 2\n"
     ]
    }
   ],
   "source": [
    "# Continue of above example \n",
    "global count \n",
    "count = 0\n",
    "def countdown(start):\n",
    "    global count \n",
    "    print(start)\n",
    "    if start > 0:\n",
    "        print(f\"the return value {countdown(start-1)} the value of count{count}\")\n",
    "        count = count+1\n",
    "        return count\n",
    "        \n",
    "a=countdown(2)\n",
    "print(f'the value of count {count}')"
   ]
  },
  {
   "cell_type": "markdown",
   "metadata": {},
   "source": [
    " # List and List comprehension\n",
    " \n",
    "- A list refers to a collection of elements\n",
    "- The elements of a list do not all have to be of the same data type.\n",
    "- A list is an ordered sequence of data.\n",
    "\n",
    "- List Comprehension syntax - new_list = [expression for value in iterable]"
   ]
  },
  {
   "cell_type": "code",
   "execution_count": 17,
   "metadata": {},
   "outputs": [
    {
     "name": "stdout",
     "output_type": "stream",
     "text": [
      "[1, 2, 3, 4, 5, 6, 7, 8, 9]\n"
     ]
    }
   ],
   "source": [
    "l = [1,2,3,4,5,6,7,8,9]\n",
    "print(l)\n",
    " "
   ]
  },
  {
   "cell_type": "code",
   "execution_count": 21,
   "metadata": {},
   "outputs": [
    {
     "name": "stdout",
     "output_type": "stream",
     "text": [
      "[1, 2, 3, 4, 5, 6, 7, 8, 9, 2, 2, 2, 2, 2]\n"
     ]
    }
   ],
   "source": [
    "#To append new items to the end of a list\n",
    "l.append(2)  \n",
    "print(l)\n"
   ]
  },
  {
   "cell_type": "code",
   "execution_count": 23,
   "metadata": {},
   "outputs": [
    {
     "name": "stdout",
     "output_type": "stream",
     "text": [
      "[1, 2, 3, 0, 4, 5, 6, 7, 8, 9, 2, 2, 2, 2, 2]\n"
     ]
    }
   ],
   "source": [
    "#To insert an item in the middle of a lis\n",
    "l.insert(3,0)\n",
    "print(l)"
   ]
  },
  {
   "cell_type": "code",
   "execution_count": 10,
   "metadata": {},
   "outputs": [
    {
     "name": "stdout",
     "output_type": "stream",
     "text": [
      "[1, 2, 3, 4, 5, 6, 7, 8, 9, 3, 4, 5, 7]\n"
     ]
    }
   ],
   "source": [
    "# extend \n",
    "l = [1,2,3,4,5,6,7,8,9]\n",
    "l.extend([3,4])\n",
    "t=(5,7)\n",
    "l.extend(t)\n",
    "\n",
    "print(l)"
   ]
  },
  {
   "cell_type": "code",
   "execution_count": 9,
   "metadata": {},
   "outputs": [
    {
     "data": {
      "text/plain": [
       "[1, 2, 3, 4, 5, 6, 7, 8, 9, 3, 4, 5, 7]"
      ]
     },
     "execution_count": 9,
     "metadata": {},
     "output_type": "execute_result"
    }
   ],
   "source": [
    "# Copy List  -- A shallow copying a list can be created with the copy() method\n",
    "l.copy()"
   ]
  },
  {
   "cell_type": "code",
   "execution_count": 40,
   "metadata": {},
   "outputs": [
    {
     "name": "stdout",
     "output_type": "stream",
     "text": [
      "[2, 2, 2, 2, 2, 9, 8, 7, 6, 5, 4, 0, 3, 2, 1]\n"
     ]
    }
   ],
   "source": [
    "# Reversing the list\n",
    "l.reverse()\n",
    "print(l)"
   ]
  },
  {
   "cell_type": "code",
   "execution_count": 48,
   "metadata": {},
   "outputs": [
    {
     "name": "stdout",
     "output_type": "stream",
     "text": [
      "[2, 2, 2, 9, 8, 7, 6, 5, 4, 0, 3, 2, 1]\n"
     ]
    }
   ],
   "source": [
    "# Removing from the list \n",
    "l.remove(2)\n",
    "print(l)"
   ]
  },
  {
   "cell_type": "code",
   "execution_count": 49,
   "metadata": {},
   "outputs": [
    {
     "name": "stdout",
     "output_type": "stream",
     "text": [
      "[0, 1, 2, 2, 2, 2, 3, 4, 5, 6, 7, 8, 9]\n"
     ]
    }
   ],
   "source": [
    "# To sort the list in order\n",
    "l.sort()\n",
    "print(l)\n",
    "\n",
    "#sorted does not change the order of a list"
   ]
  },
  {
   "cell_type": "code",
   "execution_count": 9,
   "metadata": {},
   "outputs": [
    {
     "name": "stdout",
     "output_type": "stream",
     "text": [
      "[1, 2, 3, 4, 5, 6, 7, 8, 9]\n"
     ]
    }
   ],
   "source": [
    "l = [1,2,3,4,5,6,7,8,9]  #List\n",
    "l2=[i for i in l]   #List comprehension syntax \n",
    "print(l2)"
   ]
  },
  {
   "cell_type": "code",
   "execution_count": 10,
   "metadata": {},
   "outputs": [
    {
     "name": "stdout",
     "output_type": "stream",
     "text": [
      "[2, 4, 6, 8]\n"
     ]
    }
   ],
   "source": [
    "# Even number using list\n",
    "\n",
    "num_list = [1,2,3,4,5,6,7,8,9]  #List\n",
    "num_list2=[i for i in num_list if i % 2 == 0]   #List comprehension syntax \n",
    "print(num_list2)"
   ]
  },
  {
   "cell_type": "code",
   "execution_count": 11,
   "metadata": {},
   "outputs": [
    {
     "name": "stdout",
     "output_type": "stream",
     "text": [
      "[1, 3, 5, 7, 9]\n"
     ]
    }
   ],
   "source": [
    "# Odd number using list\n",
    "\n",
    "num_list = [1,2,3,4,5,6,7,8,9]  #List\n",
    "num_list2=[i for i in num_list if i % 2]   #List comprehension syntax \n",
    "print(num_list2)"
   ]
  },
  {
   "cell_type": "markdown",
   "metadata": {},
   "source": [
    "# File Handling"
   ]
  },
  {
   "cell_type": "code",
   "execution_count": 16,
   "metadata": {},
   "outputs": [
    {
     "name": "stdout",
     "output_type": "stream",
     "text": [
      "\n",
      " \n",
      " \n",
      "t\n",
      "h\n",
      "i\n",
      "s\n",
      "\n",
      "i\n",
      "s\n",
      "\n",
      "t\n",
      "h\n",
      "e\n",
      "\n",
      "f\n",
      "i\n",
      "r\n",
      "s\n",
      "t\n",
      "\n",
      "l\n",
      "i\n",
      "n\n",
      "e\n",
      "\n",
      "h\n",
      "e\n",
      "l\n",
      "l\n",
      "o\n",
      "\n",
      "w\n",
      "o\n",
      "r\n",
      "l\n",
      "d\n",
      "\n",
      "\n",
      "\n",
      " \n",
      " \n",
      "this is the first line hello world\n",
      "\n",
      "and the second line is hiii\n",
      "é—®ä¸–ç•Œå®‰\n",
      "this is the first line hello world\n",
      "\n",
      "and the second line is hiii\n",
      "问世界安\n"
     ]
    }
   ],
   "source": [
    "#Example \n",
    "\n",
    "f=open('hello.txt','r')\n",
    "f.close()\n",
    "\n",
    "with open('hello.txt') as f:\n",
    "    lines=f.readlines()\n",
    "\n",
    "print(end=\"\\n \\n \\n\")\n",
    "\n",
    "with open('hello.txt') as f:\n",
    "    [print(line.strip()) for line in f.readline()]\n",
    "\n",
    "print(end=\"\\n \\n \\n\")\n",
    "\n",
    "with open('hello.txt') as f:\n",
    "    while True:\n",
    "        line=f.readline()\n",
    "        if not line:\n",
    "            break\n",
    "        print(line.strip())\n",
    "\n",
    "#UTF-8 encoding -- different language\n",
    "\n",
    "with open('hello.txt',encoding='utf8') as f:\n",
    "   for line in f:\n",
    "       print(line.strip())\n"
   ]
  },
  {
   "cell_type": "code",
   "execution_count": 20,
   "metadata": {},
   "outputs": [],
   "source": [
    "#Example with w \n",
    "\n",
    "with open('readme.txt', 'w') as f:\n",
    "    f.write('readme')"
   ]
  },
  {
   "cell_type": "code",
   "execution_count": 24,
   "metadata": {},
   "outputs": [],
   "source": [
    "# Example with w \n",
    "\n",
    "lines = ['Readme','How to write text files in python']\n",
    "with open('readme.txt', 'a') as f:\n",
    "    for line in lines:\n",
    "        f.write(line)\n",
    "        f.write('\\n')"
   ]
  },
  {
   "cell_type": "code",
   "execution_count": 23,
   "metadata": {},
   "outputs": [],
   "source": [
    "lines = ['Readme','How to write text files in python']\n",
    "with open('readme.txt', 'w') as f:\n",
    "    f.writelines(lines)"
   ]
  },
  {
   "cell_type": "markdown",
   "metadata": {},
   "source": [
    "# CSV File"
   ]
  },
  {
   "cell_type": "code",
   "execution_count": 25,
   "metadata": {},
   "outputs": [
    {
     "name": "stdout",
     "output_type": "stream",
     "text": [
      "['number', 'first_name', 'last_name', 'gender', 'birth_date', 'employment_status', 'annual_salary', 'tax_file_no']\n",
      "['483', 'Lenord', 'Kihn', 'M', '1994-07-01', '', '64598', '']\n",
      "['478', 'Palma', 'Beahan', 'F', '1972-05-06', 'PE', '124103', '']\n",
      "['348', 'Hebert', 'Muller', 'M', '1990-09-04', 'PE', '100324', '']\n",
      "['757', 'Virginia', 'Ullrich', 'M', '1991-09-23', 'PE', '144957', '']\n",
      "['937', 'Roby', 'Hudson', 'M', '1997-01-15', '', '137659', '']\n",
      "['264', 'Jaeda', 'Effertz', '', '1994-03-21', 'PE', '131924', '']\n",
      "['165', 'Jalissa', 'Bogisich', 'F', '1974-01-07', 'PE', '101133', '']\n",
      "['211', 'Lexie', 'Robel', 'M', '1997-09-05', '', '106595', '']\n",
      "['510', 'Billy', 'Reilly', 'M', '1977-04-30', '', '75300', '']\n",
      "['940', 'Marlana', 'Moen', 'F', '1979-05-05', 'CA', '140611', '']\n",
      "['175', 'Aja', 'Lynch', 'M', '1986-08-21', 'PE', '69271', '']\n",
      "['772', 'Jabez', 'McLaughlin', 'M', '1971-01-12', 'PE', '141535', '']\n",
      "['950', 'Adrienne', 'Stokes', 'F', '1982-07-28', 'CA', '97453', '']\n",
      "['906', 'Florene', \"O'Connell\", 'M', '1979-04-03', 'PE', '133971', '']\n",
      "['325', 'Migdalia', 'Sauer', 'M', '1992-08-24', 'PE', '144271', '']\n",
      "['194', 'Ace', 'Upton', '', '1987-08-25', 'PE', '120120', '']\n",
      "['493', 'Jelani', 'Quitzon', 'M', '1991-03-20', 'PE', '93442', '']\n",
      "['901', 'Nikki', \"D'Amore\", '', '1985-08-09', 'CA', '108287', '']\n",
      "['712', 'Yahir', 'Kertzmann', 'F', '1970-10-27', '', '95140', '']\n",
      "['936', 'Marsha', 'Ledner', 'F', '1982-12-23', 'PE', '143806', '']\n",
      "['327', 'Amarion', 'Larkin', 'M', '1987-06-28', 'PE', '145321', '']\n",
      "['431', 'Maynard', 'Zieme', '', '1982-10-12', 'PE', '76354', '']\n",
      "['542', 'Mat', 'Nienow', 'F', '1995-06-14', '', '141463', '']\n",
      "['78', 'Brannon', 'Goldner', 'F', '1985-04-09', 'PE', '72290', '']\n",
      "['90', 'Zilpha', 'Kreiger', 'F', '1980-07-21', '', '91584', '']\n",
      "['855', 'Carla', 'Witting', 'F', '1977-02-07', 'PE', '96996', '']\n",
      "['621', 'Saint', 'Hayes', 'F', '1993-08-09', '', '128053', '']\n",
      "['948', 'Gerry', 'Kunze', 'F', '1990-11-21', '', '110341', '']\n",
      "['232', 'Urijah', 'McClure', 'F', '1971-04-29', 'TE', '105555', '']\n",
      "['377', 'Malcolm', 'Schmitt', 'M', '1974-03-30', 'PE', '59482', '']\n",
      "['458', 'Desmond', 'Pfeffer', 'F', '1970-04-07', 'CA', '72361', '']\n",
      "['171', 'Hope', 'Zboncak', 'F', '1989-07-18', 'PE', '109051', '']\n",
      "['163', 'January', 'Balistreri', 'F', '1995-10-26', '', '63802', '']\n",
      "['409', 'Brionna', 'Block', 'F', '1973-04-17', '', '55607', '']\n",
      "['88', 'Zain', 'Franecki', 'F', '1972-11-03', 'PE', '141171', '']\n",
      "['927', 'Jaelynn', 'Corkery', 'F', '1999-10-21', 'PE', '136524', '']\n",
      "['397', 'Millicent', 'Moen', 'M', '1983-03-15', 'PE', '116407', '']\n",
      "['289', 'Jeryl', 'Lesch', 'F', '1971-05-24', 'PE', '144888', '']\n",
      "['307', 'Percival', 'Flatley', 'F', '1982-12-11', 'PE', '67961', '']\n",
      "['982', 'Riley', 'Orn', '', '1978-01-09', 'PE', '82041', '']\n",
      "['679', 'Katelin', 'Huels', 'M', '1996-12-17', 'PE', '65039', '']\n",
      "['700', 'Jaiden', 'Hirthe', 'M', '1970-09-26', 'CA', '62770', '']\n",
      "['911', 'Hildred', 'McKenzie', 'M', '1970-03-23', 'PE', '98515', '']\n",
      "['428', 'Mansfield', 'Mosciski', '', '1986-03-22', 'PE', '135099', '']\n",
      "['609', 'Alana', 'Gaylord', 'F', '1976-10-27', '', '71825', '']\n",
      "['442', 'Kyrie', 'Sanford', 'M', '1992-04-15', 'PE', '75514', '']\n",
      "['238', 'Addison', 'Sanford', '', '1977-09-20', 'CA', '111234', '']\n",
      "['969', 'Marget', 'West', 'M', '1979-10-11', 'PE', '79230', '']\n",
      "['245', 'Gladis', 'Yost', '', '1996-12-30', 'PE', '74821', '']\n",
      "['72', 'Laisha', 'Collier', 'F', '1981-10-23', 'PE', '131899', '']\n",
      "['829', 'Shade', 'Runte', 'M', '1991-11-08', 'PE', '56935', '']\n",
      "['900', 'Kate', 'Blick', 'F', '1975-05-10', 'CA', '90927', '']\n",
      "['586', 'Barton', 'Stokes', 'F', '1991-05-10', 'PE', '97214', '']\n",
      "['482', 'Anibal', 'Dare', 'M', '1986-05-23', 'TE', '149219', '']\n",
      "['932', 'Lucia', 'Bogan', 'M', '1994-10-27', 'PE', '137985', '']\n",
      "['337', 'Omar', 'Beier', 'M', '1977-01-22', '', '125879', '']\n",
      "['561', 'Kari', 'Conn', 'F', '1980-01-19', '', '58570', '']\n",
      "['22', 'Rashawn', 'Wyman', 'M', '1995-05-06', '', '56155', '']\n",
      "['357', 'Darby', 'Herzog', 'M', '1980-05-24', 'CA', '72575', '']\n",
      "['990', 'Maryellen', 'Stanton', '', '1993-09-26', 'PE', '80038', '']\n",
      "['151', 'Ephram', 'Lindgren', 'M', '1994-12-10', 'CA', '130053', '']\n",
      "['629', 'Broderick', 'Mills', 'F', '1986-04-25', 'PE', '104727', '']\n",
      "['725', 'Lance', 'Ratke', 'M', '1979-08-03', 'PE', '84832', '']\n",
      "['349', 'Kamora', 'Bednar', '', '1988-07-24', 'PE', '72137', '']\n",
      "['241', 'Jaclyn', \"O'Connell\", 'F', '1993-01-30', 'PE', '126787', '']\n",
      "['845', 'Kayleen', 'Hodkiewicz', 'F', '1986-05-29', '', '58755', '']\n",
      "['194', 'Trilby', 'Hartmann', 'F', '1979-01-11', 'PE', '118209', '']\n",
      "['429', 'Ernie', 'Harber', 'M', '1997-10-15', 'PE', '70102', '']\n",
      "['38', 'Duke', 'Krajcik', 'M', '1977-09-29', 'PE', '136383', '']\n",
      "['687', 'Columbia', 'Pacocha', 'F', '1994-10-04', 'PE', '129147', '']\n",
      "['928', 'Furman', 'Kiehn', 'F', '1974-01-03', '', '59444', '']\n",
      "['914', 'Phylicia', 'Gerlach', '', '1996-12-18', 'CA', '146603', '']\n",
      "['840', 'Vassie', 'Turcotte', 'F', '1999-05-22', 'PE', '138513', '']\n",
      "['655', 'Trey', 'Conn', 'F', '1978-04-21', 'PE', '118809', '']\n",
      "['143', 'Ilo', 'Mohr', 'F', '1985-01-08', 'PE', '106096', '']\n",
      "['309', 'Wilfred', 'Willms', 'M', '1998-07-19', '', '108311', '']\n",
      "['638', 'Crockett', 'Zieme', '', '1978-08-25', 'PE', '86551', '']\n",
      "['156', 'Armstead', \"O'Kon\", 'F', '1984-08-07', 'PE', '75042', '']\n",
      "['516', 'Chuck', 'Watsica', 'M', '1984-02-24', '', '135153', '']\n",
      "['138', 'Nannette', 'Wintheiser', '', '1985-10-05', 'PE', '124371', '']\n",
      "['845', 'Shellie', 'Zboncak', 'M', '1988-08-27', 'PE', '80332', '']\n",
      "['312', 'Rylie', 'Bode', 'M', '1978-03-05', 'PE', '146229', '']\n",
      "['971', 'Phebe', 'Turcotte', 'F', '1988-08-07', '', '141422', '']\n",
      "['420', 'Judi', 'Daugherty', 'F', '1980-07-23', 'PE', '56124', '']\n",
      "['442', 'Lavon', 'Kunze', 'M', '1991-05-29', 'PE', '86608', '']\n",
      "['745', 'Norine', 'Bode', '', '1994-10-02', '', '112224', '']\n",
      "['592', 'Camisha', 'Casper', '', '1994-07-02', '', '59113', '']\n",
      "['144', 'Stanford', 'Roberts', '', '1996-11-14', 'PE', '147941', '']\n",
      "['850', 'Jeffry', 'Kreiger', 'M', '1983-04-07', 'PE', '79429', '']\n",
      "['754', 'Elige', 'Rempel', 'M', '1976-12-11', 'PE', '84343', '']\n",
      "['444', 'Justus', 'Ullrich', 'M', '1981-01-17', 'TE', '90633', '']\n",
      "['657', 'Juana', 'Russel', 'F', '1991-07-08', '', '142237', '']\n",
      "['835', 'Zelia', 'Lakin', 'M', '1989-07-02', 'CA', '125912', '']\n",
      "['503', 'Socorro', 'Barrows', 'M', '1976-08-06', 'PE', '135162', '']\n",
      "['287', 'Jory', 'Tromp', 'F', '1985-06-06', 'PE', '133805', '']\n",
      "['463', 'Ellison', 'Bednar', 'F', '1984-03-10', 'PE', '81377', '']\n",
      "['355', 'Theodis', 'Ruecker', 'F', '1990-06-28', 'PE', '126923', '']\n",
      "['829', 'Halley', 'Armstrong', 'M', '1972-07-15', 'PE', '96508', '']\n",
      "['130', 'Merwin', \"O'Keefe\", '', '1981-09-07', 'TE', '95193', '']\n",
      "['185', 'Quint', 'Halvorson', 'M', '1978-11-24', 'TE', '56029', '']\n",
      "['527', 'Terrance', 'Schroeder', 'F', '1989-06-02', 'PE', '76154', '']\n",
      "['850', 'Darryle', 'Stracke', '', '1978-06-03', 'TE', '77865', '']\n",
      "['763', 'Effa', 'Senger', 'F', '1974-07-24', 'TE', '143664', '']\n",
      "['45', 'Tilman', 'Welch', 'F', '1973-05-24', 'PE', '114153', '']\n",
      "['45', 'Manilla', 'Daniel', 'M', '1980-07-06', '', '89318', '']\n",
      "['88', 'Gustie', 'Feest', 'M', '1976-12-29', 'PE', '130311', '']\n",
      "['202', 'Brandon', 'Yost', 'F', '1993-01-22', 'PE', '84858', '']\n",
      "['327', 'Byrd', 'Wintheiser', 'M', '1983-11-01', 'PE', '62026', '']\n",
      "['373', 'Alize', 'Murazik', 'F', '1972-04-08', '', '119571', '']\n",
      "['663', 'Rae', 'Wolf', '', '1998-01-13', '', '98996', '']\n",
      "['102', 'Ramona', 'Reichert', 'F', '1977-02-26', 'PE', '116332', '']\n",
      "['249', 'Elmer', 'Reichert', 'M', '1978-04-09', 'PE', '84094', '']\n",
      "['958', 'Chantel', 'Shanahan', 'M', '1992-05-22', 'PE', '72408', '']\n",
      "['293', 'Rob', 'Hagenes', 'M', '1997-01-27', 'TE', '73762', '']\n",
      "['221', 'Devonte', 'Erdman', 'M', '1985-09-15', 'PE', '59567', '']\n",
      "['105', 'Lucetta', 'Kemmer', 'M', '1980-03-22', 'PE', '72335', '']\n",
      "['387', 'Ellsworth', 'Carter', 'M', '1979-07-24', 'TE', '138540', '']\n",
      "['443', 'Tristin', 'Shields', 'F', '1980-08-25', 'PE', '97981', '']\n",
      "['683', 'Wesley', 'Wiza', 'F', '1989-06-07', 'PE', '68935', '']\n",
      "['144', 'Gavin', 'Kuhic', 'M', '1985-09-20', 'PE', '132542', '']\n",
      "['583', 'Camila', 'Tillman', 'M', '1977-04-03', 'PE', '99941', '']\n",
      "['504', 'Dorla', 'Stark', 'M', '1998-08-14', '', '134767', '']\n",
      "['937', 'Emeline', 'Klocko', 'F', '1975-05-29', 'PE', '68156', '']\n",
      "['455', 'Isamar', 'Grimes', 'M', '1991-10-10', 'TE', '113122', '']\n",
      "['303', 'Dennis', 'Cole', 'M', '1993-04-16', '', '147018', '']\n",
      "['66', 'Ott', 'Huels', 'M', '1991-07-17', '', '106909', '']\n",
      "['813', 'Rudolf', 'Paucek', 'F', '1972-03-07', '', '110663', '']\n",
      "['51', 'Fleda', 'Botsford', 'M', '1989-01-14', 'PE', '77949', '']\n",
      "['648', 'Luella', 'Tromp', 'M', '1970-01-24', 'PE', '55559', '']\n",
      "['911', 'Landen', 'Predovic', 'F', '1988-06-21', 'CA', '125038', '']\n",
      "['991', 'Malvina', 'Cole', 'F', '1971-09-25', 'PE', '66400', '']\n",
      "['301', 'Garrison', 'Schulist', 'M', '1982-10-14', 'PE', '109871', '']\n",
      "['622', 'Dakotah', 'Kirlin', 'M', '1976-11-05', 'PE', '93349', '']\n",
      "['104', 'Cephus', 'Botsford', 'M', '1986-09-11', 'PE', '84377', '']\n",
      "['31', 'Syreeta', 'Altenwerth', 'M', '1999-08-28', 'PE', '117554', '']\n",
      "['828', 'Magdalena', 'Reichert', 'M', '1993-09-02', 'PE', '55366', '']\n",
      "['728', 'Matie', 'Lubowitz', 'F', '1984-04-27', 'PE', '119788', '']\n",
      "['763', 'Kiara', 'Gerlach', 'M', '1984-11-26', '', '108015', '']\n",
      "['360', 'Jasmin', 'Willms', 'F', '1982-08-27', 'PE', '126649', '']\n",
      "['483', 'Desirae', 'Frami', 'F', '1982-07-08', 'PE', '105702', '']\n",
      "['1', 'Kitty', 'Ruecker', 'F', '1976-07-24', 'PE', '90613', '']\n",
      "['512', 'Cordell', 'Rempel', 'F', '1995-04-10', 'PE', '120924', '']\n",
      "['41', 'Gladyce', 'Kovacek', 'F', '1993-05-24', 'PE', '110498', '']\n",
      "['102', 'Stacey', 'Rice', 'F', '1975-02-13', 'TE', '109856', '']\n",
      "['64', 'Marcello', 'Yost', 'M', '1995-04-15', 'PE', '59985', '']\n",
      "['569', 'Angella', 'Harvey', 'F', '1988-01-21', 'CA', '77758', '']\n",
      "['610', 'Sidney', 'Johnson', 'F', '1990-12-12', 'PE', '141549', '']\n",
      "['12', 'Efrain', 'Harber', '', '1995-01-26', '', '57029', '']\n",
      "['709', 'Loula', 'Botsford', 'F', '1995-01-19', '', '100518', '']\n",
      "[]\n"
     ]
    }
   ],
   "source": [
    "# Importing CSV File \n",
    "\n",
    "import csv \n",
    "with open(\"C:/Users/HUDA/Downloads/employee_data.csv\", encoding=\"utf-8\") as f:\n",
    "    csv_reader = csv.reader(f)  # reader is a function and f is object \n",
    "    for line in csv_reader:\n",
    "        print(line)"
   ]
  },
  {
   "cell_type": "markdown",
   "metadata": {},
   "source": [
    "# OOP  -- Object Oriented Programming\n",
    "\n",
    "#### APIE: \n",
    "\n",
    "#### Class \n",
    "<pre>Class is a blueprint for an object.sometimes it is also known as class is a prototype for an object.</pre>\n",
    "<pre> cls, decorator, static these are common for all</pre>\n",
    "\n",
    "### Object\n",
    "<pre>Object is a real world entity whatever we see around us.</pre>\n",
    "\n",
    "##### Abstraction\n",
    "<pre> Abstraction is used to take the essential parts of a domain. Abstraction in Python is achieved by using abstract classes and interfaces.\n",
    "An abstract class is a class that generally provides incomplete functionality and contains one or more abstract methods.</pre>\n",
    "\n",
    "##### Polymorphism\n",
    "<pre>Overloading: Defining same method with same name but different parameter within same class\n",
    "Redefining: Same method with same name with same parameter called overiding.</pre>\n",
    "\n",
    "##### Inheritance\n",
    "<pre>Inheritance is a mechanism in which one class acquires the property of another class.</pre>\n",
    "<img src=\"https://docs.oracle.com/javase/tutorial/figures/java/concepts-bikeHierarchy.gif\"><br>\n",
    "\n",
    "##### Encapsulation\n",
    "<pre>It describes the idea of wrapping data and the methods that work on data within one unit. This puts restrictions on accessing variables and methods directly and can prevent the accidental modification of data. </pre>\n"
   ]
  },
  {
   "cell_type": "code",
   "execution_count": 1,
   "metadata": {},
   "outputs": [
    {
     "ename": "TypeError",
     "evalue": "func() missing 1 required positional argument: 'a'",
     "output_type": "error",
     "traceback": [
      "\u001b[1;31m---------------------------------------------------------------------------\u001b[0m",
      "\u001b[1;31mTypeError\u001b[0m                                 Traceback (most recent call last)",
      "Cell \u001b[1;32mIn[1], line 8\u001b[0m\n\u001b[0;32m      6\u001b[0m     \u001b[38;5;28;01mpass\u001b[39;00m\n\u001b[0;32m      7\u001b[0m func(\u001b[38;5;241m6\u001b[39m)\n\u001b[1;32m----> 8\u001b[0m \u001b[43mfunc\u001b[49m\u001b[43m(\u001b[49m\u001b[43m)\u001b[49m\n",
      "\u001b[1;31mTypeError\u001b[0m: func() missing 1 required positional argument: 'a'"
     ]
    }
   ],
   "source": [
    "# Polymorphism -- overiding and overloading\n",
    "\n",
    "def func():\n",
    "    pass\n",
    "def func(a):  \n",
    "    pass\n",
    "func(6)\n",
    "func()"
   ]
  },
  {
   "cell_type": "code",
   "execution_count": 2,
   "metadata": {},
   "outputs": [],
   "source": [
    "# Polymorphism -- overiding and overloading with variable arguments (*)\n",
    "\n",
    "def func():\n",
    "    pass\n",
    "def func(*a):  \n",
    "    pass\n",
    "func(6)\n",
    "func()"
   ]
  },
  {
   "cell_type": "code",
   "execution_count": 1,
   "metadata": {},
   "outputs": [
    {
     "name": "stdout",
     "output_type": "stream",
     "text": [
      "harsh\n"
     ]
    }
   ],
   "source": [
    "# OOP Practical\n",
    "#Class \n",
    "\n",
    "class Students:\n",
    "    pass\n",
    "\n",
    "stu1= Students()       \n",
    "stu1.name='harsh'    #name is attribute and we can add more attributes at run time \n",
    "print(stu1.name)\n"
   ]
  },
  {
   "cell_type": "code",
   "execution_count": 36,
   "metadata": {},
   "outputs": [
    {
     "name": "stdout",
     "output_type": "stream",
     "text": [
      "Instance attribute: O/P\n",
      "hello hi\n",
      "\n",
      "Class attribute: O/P\n",
      "hit hit\n",
      "raj hit\n",
      "raj hit hit\n",
      "raj rahul rahul\n",
      "\n",
      "Delete trainer: O/P\n",
      "rahul rahul rahul\n"
     ]
    }
   ],
   "source": [
    "#Class with a function   -- instance attribute, class attribute\n",
    "\n",
    "class Students:\n",
    "    trainer=\"hit\"           # class attribute is define here -- only for class \n",
    "    def greet(self,n):      # self belongs to particular instance of that class -- self.name=n is object.attribute=value  (n is local variable)\n",
    "        self.name=n         # Name is attribute and we can add more attributes at run time \n",
    "\n",
    "\n",
    "# self can be used to change the value of a instance variable it is used only in functions \n",
    "        \n",
    "# stu1= Students()       \n",
    "# stu1.name='harsh'          \n",
    "# print(stu1.name)\n",
    "\n",
    "print(\"Instance attribute: O/P\")\n",
    "stu1= Students()   \n",
    "stu1.greet(\"hello\")\n",
    "stu2=Students()\n",
    "stu2.greet(\"hi\")\n",
    "print(stu1.name,stu2.name)\n",
    "\n",
    "\n",
    "print()\n",
    "\n",
    "# Class attribute -- trainer=\"hit\"\n",
    "print(\"Class attribute: O/P\")   \n",
    "print(stu1.trainer,stu2.trainer)\n",
    "stu1.trainer=\"raj\"           #try to change trainer value \n",
    "print(stu1.trainer,stu2.trainer)\n",
    "stu3=Students()\n",
    "print(stu1.trainer,stu2.trainer,stu3.trainer)\n",
    "Students.trainer=\"rahul\"     #changed value   \n",
    "print(stu1.trainer,stu2.trainer,stu3.trainer)\n",
    "\n",
    "print()\n",
    "\n",
    "#To delete a particular trainer\n",
    "print(\"Delete trainer: O/P\")\n",
    "del stu1.trainer\n",
    "print(stu1.trainer,stu2.trainer,stu3.trainer)\n",
    "\n",
    "\n"
   ]
  },
  {
   "cell_type": "markdown",
   "metadata": {},
   "source": [
    "# Constructor __init__  and Class Method \n",
    "\n",
    "<pre>Constructors are generally used for instantiating an object. \n",
    "The task of constructors is to initialize(assign values) to the data members of the class when an object of the \n",
    "class is created. The __init__() method is called the constructor and is always called when an object is created.</pre>\n",
    "\n",
    "\n",
    "\n"
   ]
  },
  {
   "cell_type": "code",
   "execution_count": 37,
   "metadata": {},
   "outputs": [
    {
     "name": "stdout",
     "output_type": "stream",
     "text": [
      "hi\n"
     ]
    }
   ],
   "source": [
    "#Constructor --  __init__\n",
    "\n",
    "class Students:\n",
    "    trainer=\"hit\"           \n",
    "    def __init__(self,n):      \n",
    "        self.name=n \n",
    "stu1 = Students('hi')\n",
    "print(stu1.name)\n"
   ]
  },
  {
   "cell_type": "code",
   "execution_count": 6,
   "metadata": {},
   "outputs": [
    {
     "name": "stdout",
     "output_type": "stream",
     "text": [
      "this is class method raj\n",
      "new1\n",
      "this is student class\n",
      "this is student class\n"
     ]
    }
   ],
   "source": [
    "# Example using constructor \n",
    "#Single inheritance\n",
    "\n",
    "class Students:\n",
    "    trainer='raj'\n",
    "    def __init__(self,name,age):\n",
    "        self.name=name\n",
    "        self.age=age\n",
    "    @classmethod                    # @ is known as decorator, class method is use to modify class variable within the instance attribute\n",
    "    def info(cls):                   \n",
    "        print(f'this is class method {cls.trainer}')\n",
    "    @classmethod\n",
    "    def changeTrainer(cls,new):\n",
    "        cls.trainer=new\n",
    "    @staticmethod\n",
    "    def infoOfClass():\n",
    "        print('this is student class')\n",
    "\n",
    "#Constructor init has only one parameter self \n",
    "stu1 = Students('rahul',23)\n",
    "stu1.name\n",
    "\n",
    "#Class Method has only one parameter cls\n",
    "stu1.info()   \n",
    "stu1.changeTrainer('new1')\n",
    "print(Students.trainer)\n",
    "\n",
    "#Static Method\n",
    "stu1.infoOfClass()\n",
    "Students.infoOfClass()  "
   ]
  },
  {
   "cell_type": "code",
   "execution_count": 19,
   "metadata": {},
   "outputs": [
    {
     "name": "stdout",
     "output_type": "stream",
     "text": [
      "INHERITANCE I/P and O/P:\n",
      "Woof!\n",
      "Meow!\n",
      "\n",
      "POLYMORPHISM I/P and O/P:\n",
      "Woof!\n",
      "Meow!\n"
     ]
    }
   ],
   "source": [
    "#Inheritance and Polymorphism -- is a relationship: strongly coupled\n",
    "#It is hierarchial inheritance\n",
    "\n",
    "print('INHERITANCE I/P and O/P:')\n",
    "class Animal:                 # Parent class\n",
    "    def speak(self):\n",
    "        pass\n",
    "\n",
    "class Dog(Animal):            # Child of Animal class\n",
    "    def speak(self):\n",
    "        print('Woof!')\n",
    "\n",
    "class Cat(Animal): \n",
    "    def speak(self):\n",
    "        print('Meow!')\n",
    "        \n",
    "my_dog=Dog()\n",
    "my_cat=Cat()\n",
    "my_dog.speak()\n",
    "my_cat.speak()\n",
    "\n",
    "print()\n",
    "\n",
    "print('POLYMORPHISM I/P and O/P:')\n",
    "def animal_sound(animal):\n",
    "    animal.speak()\n",
    "\n",
    "animal_sound(my_dog)\n",
    "animal_sound(my_cat)"
   ]
  },
  {
   "cell_type": "code",
   "execution_count": 1,
   "metadata": {},
   "outputs": [
    {
     "name": "stdout",
     "output_type": "stream",
     "text": [
      "car starting\n",
      "engine started\n",
      "car started\n",
      "\n",
      "car stopped\n",
      "engine stopped\n",
      "car stopped\n"
     ]
    }
   ],
   "source": [
    "# Polymorphism -- has a relation: loosely coupled\n",
    "\n",
    "# class - capital\n",
    "# function - camel \n",
    "\n",
    "class Engine:\n",
    "    def start(self):\n",
    "        print(\"engine started\")\n",
    "    def stop(self):\n",
    "        print(\"engine stopped\")\n",
    "\n",
    "class Car:\n",
    "    def __init__(self):\n",
    "        self.engine = Engine()\n",
    "    \n",
    "    def start(self):\n",
    "        print(\"car starting\")\n",
    "        self.engine.start()\n",
    "        print('car started', end='\\n\\n')\n",
    "    def stop(self):\n",
    "        print(\"car stopped\")\n",
    "        self.engine.stop()\n",
    "        print('car stopped')\n",
    "\n",
    "c1 = Car()\n",
    "c1.start()\n",
    "c1.stop()\n",
    "\n",
    "\n",
    "#h.w -- all 5 inheritance with real life example\n"
   ]
  },
  {
   "cell_type": "code",
   "execution_count": 2,
   "metadata": {},
   "outputs": [
    {
     "name": "stdout",
     "output_type": "stream",
     "text": [
      "Engine rolled\n",
      "Car is moving\n"
     ]
    }
   ],
   "source": [
    "# Single Inheritance \n",
    "\n",
    "class Vehicle:\n",
    "    def start_engine(self):\n",
    "        print('Engine rolled')\n",
    "\n",
    "class Car(Vehicle):\n",
    "    def drive(self):\n",
    "        print('Car is moving')\n",
    "\n",
    "car = Car()\n",
    "car.start_engine()\n",
    "car.drive()"
   ]
  },
  {
   "cell_type": "code",
   "execution_count": 3,
   "metadata": {},
   "outputs": [
    {
     "name": "stdout",
     "output_type": "stream",
     "text": [
      "Driving on land\n",
      "Navigating on water\n"
     ]
    }
   ],
   "source": [
    "# Multiple Inheritance \n",
    "\n",
    "class LandVehicle:\n",
    "    def drive_on_land(self):\n",
    "        print(\"Driving on land\")\n",
    "\n",
    "class Watercraft:\n",
    "    def navigate_on_water(self):\n",
    "        print(\"Navigating on water\")\n",
    "\n",
    "class AmphibiousVehicle(LandVehicle, Watercraft):\n",
    "    pass\n",
    "\n",
    "# Example usage\n",
    "amphibious_vehicle = AmphibiousVehicle()\n",
    "amphibious_vehicle.drive_on_land()\n",
    "amphibious_vehicle.navigate_on_water()"
   ]
  },
  {
   "cell_type": "code",
   "execution_count": 4,
   "metadata": {},
   "outputs": [
    {
     "name": "stdout",
     "output_type": "stream",
     "text": [
      "Person talking\n",
      "Student studying\n",
      "Graduate student doing research\n"
     ]
    }
   ],
   "source": [
    "# Multilevel Inheritance\n",
    "\n",
    "class Person:\n",
    "    def talk(self):\n",
    "        print(\"Person talking\")\n",
    "\n",
    "class Student(Person):\n",
    "    def study(self):\n",
    "        print(\"Student studying\")\n",
    "\n",
    "class GraduateStudent(Student):\n",
    "    def do_research(self):\n",
    "        print(\"Graduate student doing research\")\n",
    "\n",
    "# Example usage\n",
    "grad_student = GraduateStudent()\n",
    "grad_student.talk()\n",
    "grad_student.study()\n",
    "grad_student.do_research()"
   ]
  },
  {
   "cell_type": "code",
   "execution_count": 1,
   "metadata": {},
   "outputs": [
    {
     "name": "stdout",
     "output_type": "stream",
     "text": [
      "Drawing a circle\n",
      "Drawing a rectangle\n"
     ]
    }
   ],
   "source": [
    "# Hierarchical Inheritance \n",
    "\n",
    "class Shape:\n",
    "    def draw(self):\n",
    "        print(\"Drawing a shape\")\n",
    "\n",
    "class Circle(Shape):\n",
    "    def draw(self):\n",
    "        print(\"Drawing a circle\")\n",
    "\n",
    "class Rectangle(Shape):\n",
    "    def draw(self):\n",
    "        print(\"Drawing a rectangle\")\n",
    "\n",
    "# Creating instances of Circle and Rectangle\n",
    "my_circle = Circle()\n",
    "my_rectangle = Rectangle()\n",
    "my_circle.draw()      # Specific to Circle\n",
    "my_rectangle.draw()   # Specific to Rectangle"
   ]
  },
  {
   "cell_type": "code",
   "execution_count": 5,
   "metadata": {},
   "outputs": [
    {
     "name": "stdout",
     "output_type": "stream",
     "text": [
      "Displaying UI element\n",
      "UI element clicked\n"
     ]
    }
   ],
   "source": [
    "# Hybrid Inheritance\n",
    "\n",
    "class UIElement:\n",
    "    def display(self):\n",
    "        print(\"Displaying UI element\")\n",
    "\n",
    "class ClickableMixin:\n",
    "    def click(self):\n",
    "        print(\"UI element clicked\")\n",
    "\n",
    "class Button(UIElement, ClickableMixin):\n",
    "    pass\n",
    "\n",
    "# Example usage\n",
    "button = Button()\n",
    "button.display()\n",
    "button.click()"
   ]
  },
  {
   "cell_type": "markdown",
   "metadata": {},
   "source": [
    "# Regular Expression  -- REGEX"
   ]
  },
  {
   "cell_type": "code",
   "execution_count": 1,
   "metadata": {},
   "outputs": [
    {
     "name": "stdout",
     "output_type": "stream",
     "text": [
      "['p']\n"
     ]
    }
   ],
   "source": [
    "import re \n",
    "p=re.compile('[Pp]')        \n",
    "print(p.findall('python'))"
   ]
  },
  {
   "cell_type": "code",
   "execution_count": 2,
   "metadata": {},
   "outputs": [
    {
     "name": "stdout",
     "output_type": "stream",
     "text": [
      "['p']\n"
     ]
    }
   ],
   "source": [
    "import re\n",
    "print(re.findall('[pP]','python'))"
   ]
  },
  {
   "cell_type": "code",
   "execution_count": 3,
   "metadata": {},
   "outputs": [
    {
     "name": "stdout",
     "output_type": "stream",
     "text": [
      "<re.Match object; span=(0, 1), match='P'>\n"
     ]
    }
   ],
   "source": [
    "import re\n",
    "\n",
    "s='Python is very fast'\n",
    "result=re.match('[pP]', s)\n",
    "print(result)"
   ]
  },
  {
   "cell_type": "code",
   "execution_count": 4,
   "metadata": {},
   "outputs": [
    {
     "name": "stdout",
     "output_type": "stream",
     "text": [
      "<re.Match object; span=(0, 1), match='P'>\n"
     ]
    },
    {
     "data": {
      "text/plain": [
       "'P'"
      ]
     },
     "execution_count": 4,
     "metadata": {},
     "output_type": "execute_result"
    }
   ],
   "source": [
    "import re\n",
    "\n",
    "s='Python is very fast'\n",
    "result=re.search('[pP]', s)\n",
    "print(result)\n",
    "result.group()"
   ]
  },
  {
   "cell_type": "code",
   "execution_count": 5,
   "metadata": {},
   "outputs": [
    {
     "name": "stdout",
     "output_type": "stream",
     "text": [
      "<re.Match object; span=(7, 8), match='1'>\n",
      "Matched string: 1\n",
      "Starting position: 7\n",
      "Ending position: 8\n",
      "Position: (7, 8)\n"
     ]
    }
   ],
   "source": [
    "s='Python 10.54 was 4 4.5 5.5released  on october 04, 2021'\n",
    "result=re.search('[\\d{9}]', s)\n",
    "print(result)\n",
    "\n",
    "print('Matched string:',result.group())\n",
    "print('Starting position:',result.start())\n",
    "print('Ending position:',result.end())\n",
    "print('Position:',result.span())"
   ]
  },
  {
   "cell_type": "code",
   "execution_count": 6,
   "metadata": {},
   "outputs": [
    {
     "name": "stdout",
     "output_type": "stream",
     "text": [
      "105444555042021\n",
      "12\n",
      "20\n"
     ]
    }
   ],
   "source": [
    "s='Python 10.54 was 4 4.5 5.5released  on october 04, 2021'\n",
    "result=re.finditer('[\\d]', s)\n",
    "\n",
    "for i in result:\n",
    "    print(i.group(), end='')\n",
    "print()\n",
    "\n",
    "time= '12.20'\n",
    "matches = re.finditer('\\d\\d', time)\n",
    "for match in matches:\n",
    "    print(match.group())\n",
    "    "
   ]
  },
  {
   "cell_type": "code",
   "execution_count": 14,
   "metadata": {},
   "outputs": [
    {
     "name": "stdout",
     "output_type": "stream",
     "text": [
      "12\n",
      "20\n",
      "20\n"
     ]
    }
   ],
   "source": [
    "import re\n",
    "\n",
    "time= '12.20'\n",
    "matches = re.finditer('\\d\\d', time)\n",
    "for match in matches:\n",
    "    print(match.group())\n",
    "matches = re.finditer('\\d\\d$', time)\n",
    "for match in matches:\n",
    "    print(match.group())  #group is a function\n",
    "    "
   ]
  },
  {
   "cell_type": "markdown",
   "metadata": {},
   "source": [
    "# Word Boundry"
   ]
  },
  {
   "cell_type": "code",
   "execution_count": 19,
   "metadata": {},
   "outputs": [
    {
     "name": "stdout",
     "output_type": "stream",
     "text": [
      "Python\n",
      "now without boundry\n",
      "Python\n",
      "Python\n"
     ]
    }
   ],
   "source": [
    "import re\n",
    "\n",
    "s='CPython is the implementation of Python in C'\n",
    "matches = re.finditer(r'\\bPython\\b', s) \n",
    "#matches = re.finditer(r'Python',s)\n",
    "for match in matches:\n",
    "    print(match.group())\n",
    "    \n",
    "print('now without boundry')\n",
    "matches = re.finditer('Python', s)\n",
    "for match in matches:\n",
    "    print(match.group())  #group is a function\n",
    "    "
   ]
  },
  {
   "cell_type": "markdown",
   "metadata": {},
   "source": [
    "# Regx Quantifiers"
   ]
  },
  {
   "cell_type": "code",
   "execution_count": 20,
   "metadata": {},
   "outputs": [
    {
     "name": "stdout",
     "output_type": "stream",
     "text": [
      "<re.Match object; span=(0, 7), match='CPython'>\n",
      "<re.Match object; span=(9, 19), match='IronPython'>\n",
      "<re.Match object; span=(25, 32), match='JPython'>\n",
      "<re.Match object; span=(48, 54), match='Python'>\n"
     ]
    }
   ],
   "source": [
    "#  * Asterisk \n",
    "\n",
    "s=\"\"\"CPython, IronPython, and JPython\n",
    "     are major Python's implementation\"\"\"\n",
    "\n",
    "matches = re.finditer('\\w*Python',s)\n",
    "\n",
    "for match in matches:\n",
    "    print(match)"
   ]
  },
  {
   "cell_type": "code",
   "execution_count": 7,
   "metadata": {},
   "outputs": [],
   "source": [
    "\n",
    "s=\"\"\"CPython, IronPython, and JPython\n",
    "     are major Python's implementation\"\"\"\n",
    "\n",
    "matches = re.finditer('\\d+',s)\n",
    "\n",
    "for match in matches:\n",
    "    print(match)"
   ]
  },
  {
   "cell_type": "code",
   "execution_count": 8,
   "metadata": {},
   "outputs": [
    {
     "name": "stdout",
     "output_type": "stream",
     "text": [
      "1 0 5 4 4 4 5 5 5 0 4 2 0 2 1 \n"
     ]
    }
   ],
   "source": [
    "s = \"Python 10:54 was 4 4.5 5.5 released on October 04, 2021.\"\n",
    "result = re.finditer('\\d', s)\n",
    "for i in result:\n",
    "    print(i.group(),end=' ')\n",
    "print()"
   ]
  }
 ],
 "metadata": {
  "kernelspec": {
   "display_name": "Python 3",
   "language": "python",
   "name": "python3"
  },
  "language_info": {
   "codemirror_mode": {
    "name": "ipython",
    "version": 3
   },
   "file_extension": ".py",
   "mimetype": "text/x-python",
   "name": "python",
   "nbconvert_exporter": "python",
   "pygments_lexer": "ipython3",
   "version": "3.11.8"
  }
 },
 "nbformat": 4,
 "nbformat_minor": 2
}
