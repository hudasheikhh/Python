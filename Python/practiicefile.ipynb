{
 "cells": [
  {
   "cell_type": "markdown",
   "metadata": {},
   "source": [
    "# Logic Building"
   ]
  },
  {
   "cell_type": "code",
   "execution_count": 2,
   "metadata": {},
   "outputs": [
    {
     "name": "stdout",
     "output_type": "stream",
     "text": [
      "dlrow olleh\n"
     ]
    }
   ],
   "source": [
    "# Reverse string \n",
    "\n",
    "org_string = \"hello world\"\n",
    "reverse_str = org_string[::-1]\n",
    "print(reverse_str)"
   ]
  },
  {
   "cell_type": "code",
   "execution_count": 4,
   "metadata": {},
   "outputs": [],
   "source": [
    "# Palindrome \n",
    "\n",
    "\n",
    "def rev(string):\n",
    "    return string[::-1]\n",
    "\n",
    "def peli(string):\n",
    "    return True if string==string[::-1] else False\n",
    "\n"
   ]
  },
  {
   "cell_type": "code",
   "execution_count": 11,
   "metadata": {},
   "outputs": [
    {
     "name": "stdout",
     "output_type": "stream",
     "text": [
      "Zero\n"
     ]
    }
   ],
   "source": [
    "num = 0\n",
    "if num < 0:\n",
    "    print(\"Entered number is negative\")\n",
    "else:\n",
    "    if num > 0 :\n",
    "        print(\"Entered number is positive\")\n",
    "    else:\n",
    "        print(\"Zero\")\n"
   ]
  },
  {
   "cell_type": "code",
   "execution_count": 13,
   "metadata": {},
   "outputs": [
    {
     "name": "stdout",
     "output_type": "stream",
     "text": [
      "2024 is a leap year.\n"
     ]
    }
   ],
   "source": [
    "year=int (input('enter a year'))\n",
    "\n",
    "if (year % 400 == 0 ) or ( year % 4 == 0 and year % 100 != 0):\n",
    "    print ( f'{year} is a leap year.')\n",
    "else: \n",
    "     print ( f'{year} is not leap year.')  \n"
   ]
  },
  {
   "cell_type": "code",
   "execution_count": 14,
   "metadata": {},
   "outputs": [
    {
     "data": {
      "text/plain": [
       "4"
      ]
     },
     "execution_count": 14,
     "metadata": {},
     "output_type": "execute_result"
    }
   ],
   "source": [
    "a = lambda y: 2*y\n",
    "a (2)\n"
   ]
  },
  {
   "cell_type": "code",
   "execution_count": 22,
   "metadata": {},
   "outputs": [
    {
     "name": "stdout",
     "output_type": "stream",
     "text": [
      "[1, 2, 3, 4, 5, 6, 7, 8, 9, 2]\n",
      "[1, 2, 3, 0, 4, 5, 6, 7, 8, 9, 2]\n",
      "[1, 2, 3, 0, 4, 5, 6, 7, 8, 9, 2]\n",
      "[2, 9, 8, 7, 6, 5, 4, 0, 3, 2, 1]\n",
      "[9, 8, 7, 6, 5, 4, 0, 3, 2, 1]\n",
      "[0, 1, 2, 3, 4, 5, 6, 7, 8, 9]\n"
     ]
    }
   ],
   "source": [
    "l = [1,2,3,4,5,6,7,8,9]\n",
    "l.append(2) \n",
    "print(l)\n",
    "l.insert(3,0)\n",
    "print(l)\n",
    "l.copy()\n",
    "print(l)\n",
    "l.reverse()\n",
    "print(l)\n",
    "l.remove(2)\n",
    "print(l)\n",
    "l.sort()\n",
    "print(l)"
   ]
  },
  {
   "cell_type": "code",
   "execution_count": 24,
   "metadata": {},
   "outputs": [
    {
     "name": "stdout",
     "output_type": "stream",
     "text": [
      "{'name': 'John', 'age': 25, 'city': 'London'}\n"
     ]
    }
   ],
   "source": [
    " #Dictionary \n",
    "\n",
    "Info = {\n",
    "   \"name\": \"John\",\n",
    "   \"age\": 25,\n",
    "   \"city\": \"London\"\n",
    "}\n",
    "print(Info)"
   ]
  },
  {
   "cell_type": "code",
   "execution_count": 25,
   "metadata": {},
   "outputs": [
    {
     "name": "stdout",
     "output_type": "stream",
     "text": [
      "{'name': 'Marry', 'age': 20, 'city': 'Newyork'}\n"
     ]
    }
   ],
   "source": [
    "\n",
    "Info = dict(name=\"Marry\", age=20, city=\"Newyork\")\n",
    "print(Info)\n"
   ]
  },
  {
   "cell_type": "code",
   "execution_count": 26,
   "metadata": {},
   "outputs": [
    {
     "name": "stdout",
     "output_type": "stream",
     "text": [
      "{'London', 'John', 25}\n"
     ]
    }
   ],
   "source": [
    "# set \n",
    "\n",
    "Info = {'John', 25, 'London'}  \n",
    "print(Info)\n"
   ]
  },
  {
   "cell_type": "code",
   "execution_count": 27,
   "metadata": {},
   "outputs": [
    {
     "name": "stdout",
     "output_type": "stream",
     "text": [
      "{'Green', 'Blue', 'Red'}\n"
     ]
    }
   ],
   "source": [
    "colors = set(('Red', 'Blue', 'Green')) \n",
    "print(colors)"
   ]
  },
  {
   "cell_type": "code",
   "execution_count": 21,
   "metadata": {},
   "outputs": [
    {
     "ename": "TypeError",
     "evalue": "func() missing 1 required positional argument: 'a'",
     "output_type": "error",
     "traceback": [
      "\u001b[1;31m---------------------------------------------------------------------------\u001b[0m",
      "\u001b[1;31mTypeError\u001b[0m                                 Traceback (most recent call last)",
      "Cell \u001b[1;32mIn[21], line 6\u001b[0m\n\u001b[0;32m      4\u001b[0m     \u001b[38;5;28;01mpass\u001b[39;00m\n\u001b[0;32m      5\u001b[0m func(\u001b[38;5;241m6\u001b[39m)\n\u001b[1;32m----> 6\u001b[0m \u001b[43mfunc\u001b[49m\u001b[43m(\u001b[49m\u001b[43m)\u001b[49m\n",
      "\u001b[1;31mTypeError\u001b[0m: func() missing 1 required positional argument: 'a'"
     ]
    }
   ],
   "source": [
    "def func():\n",
    "    pass\n",
    "def func(a):  \n",
    "    pass\n",
    "func(6)\n",
    "func()"
   ]
  },
  {
   "cell_type": "code",
   "execution_count": 1,
   "metadata": {},
   "outputs": [
    {
     "name": "stdout",
     "output_type": "stream",
     "text": [
      "Method A\n",
      "Method B\n",
      "Method C\n"
     ]
    }
   ],
   "source": [
    "# Multiple \n",
    "\n",
    "class A:\n",
    "    def method_a(self):\n",
    "        print(\"Method A\")\n",
    "\n",
    "class B:\n",
    "    def method_b(self):\n",
    "        print(\"Method B\")\n",
    "\n",
    "class C(A, B):\n",
    "    def method_c(self):\n",
    "        print(\"Method C\")\n",
    "\n",
    "\n",
    "my_instance = C()\n",
    "my_instance.method_a()  \n",
    "my_instance.method_b()  \n",
    "my_instance.method_c()  \n"
   ]
  },
  {
   "cell_type": "code",
   "execution_count": 2,
   "metadata": {},
   "outputs": [
    {
     "name": "stdout",
     "output_type": "stream",
     "text": [
      "Drawing a circle\n",
      "Drawing a rectangle\n"
     ]
    }
   ],
   "source": [
    "# Hierarchical\n",
    "\n",
    "class Shape:\n",
    "    def draw(self):\n",
    "        print(\"Drawing a shape\")\n",
    "\n",
    "class Circle(Shape):\n",
    "    def draw(self):\n",
    "        print(\"Drawing a circle\")\n",
    "\n",
    "class Rectangle(Shape):\n",
    "    def draw(self):\n",
    "        print(\"Drawing a rectangle\")\n",
    "\n",
    "# Creating instances of Circle and Rectangle\n",
    "my_circle = Circle()\n",
    "my_rectangle = Rectangle()\n",
    "my_circle.draw()      # Specific to Circle\n",
    "my_rectangle.draw()   # Specific to Rectangle\n"
   ]
  },
  {
   "cell_type": "code",
   "execution_count": 4,
   "metadata": {},
   "outputs": [
    {
     "name": "stdout",
     "output_type": "stream",
     "text": [
      "2982960070832\n",
      "2982960070832\n",
      "o\n",
      "JPy\n"
     ]
    }
   ],
   "source": [
    "# Slicing strings  python strings are immutable \n",
    "\n",
    "str='JPythonString'\n",
    "str1='JPythonString'\n",
    "print(id(str))\n",
    "print(id(str1))\n",
    "print(str[5])\n",
    "print(str[0:3])   #string[start:end:steps]\n",
    "\n",
    "            "
   ]
  },
  {
   "cell_type": "markdown",
   "metadata": {},
   "source": [
    "# list and tuples are ordered where set and dictionary is unordered "
   ]
  },
  {
   "cell_type": "code",
   "execution_count": 15,
   "metadata": {},
   "outputs": [
    {
     "name": "stdout",
     "output_type": "stream",
     "text": [
      "hi\n"
     ]
    },
    {
     "data": {
      "text/plain": [
       "['hi', 7, [4, 5], 7, 0]"
      ]
     },
     "execution_count": 15,
     "metadata": {},
     "output_type": "execute_result"
    }
   ],
   "source": [
    "# LIST \n",
    "\n",
    "a=['hi',7,[4,5],7,0]\n",
    "print(a[0])\n",
    "\n",
    "#TUPLES adds spaces or any changes in list use only parenthesis()\n",
    "\n",
    "b=(1,)\n",
    "a.sort\n",
    "a"
   ]
  },
  {
   "cell_type": "code",
   "execution_count": 4,
   "metadata": {},
   "outputs": [
    {
     "name": "stdout",
     "output_type": "stream",
     "text": [
      "Entered Number is Negative\n"
     ]
    }
   ],
   "source": [
    "#num = int(input('Enter a Number'))\n",
    "num = 0\n",
    "if num<0:\n",
    "    print('Entered Number is Negative')\n",
    "else:\n",
    "    if num>0:\n",
    "        print('Entered Number is Positive')\n",
    "    else:\n",
    "        print('Entered Number is Zero')\n",
    "\n",
    "#types\n",
    "# a=2+3j\n",
    "# print(type(a),a)"
   ]
  },
  {
   "cell_type": "code",
   "execution_count": 10,
   "metadata": {},
   "outputs": [
    {
     "name": "stdout",
     "output_type": "stream",
     "text": [
      "Entered Number is Odd\n"
     ]
    }
   ],
   "source": [
    "# Even and odd numbers \n",
    "\n",
    "num = int(input('Enter a Number'))\n",
    "\n",
    "if num % 2 == 0:\n",
    "    print('Entered Number is Even')\n",
    "else:\n",
    "    if num % 2 != 0:\n",
    "        print('Entered Number is Odd')\n",
    "    else:\n",
    "        print('Entered Number is Zero')\n"
   ]
  },
  {
   "cell_type": "code",
   "execution_count": 18,
   "metadata": {},
   "outputs": [
    {
     "name": "stdout",
     "output_type": "stream",
     "text": [
      "Even Number\n",
      "1\n",
      "2\n",
      "3\n",
      "4\n",
      "5\n",
      "loop finished\n",
      "\n",
      "\n",
      "Odd number\n",
      "2\n",
      "4\n",
      "6\n",
      "8\n",
      "10\n",
      "loop finished\n"
     ]
    }
   ],
   "source": [
    "#iterative statement  -- repeat it will only run on time\n",
    "\n",
    "# while loop\n",
    "print('Even Number')\n",
    "i=1\n",
    "while i < 6:\n",
    "    print(i)\n",
    "    i += 1\n",
    "else:\n",
    "     print(\"loop finished\")\n",
    "\n",
    "print()\n",
    "print()\n",
    "\n",
    "print('Odd number')\n",
    "num = 2\n",
    "while num < 12:\n",
    "    print(num)\n",
    "    num = num + 2\n",
    "else:\n",
    "     print(\"loop finished\")\n"
   ]
  },
  {
   "cell_type": "code",
   "execution_count": 37,
   "metadata": {},
   "outputs": [
    {
     "name": "stdout",
     "output_type": "stream",
     "text": [
      "The factorial of 5 is 120\n"
     ]
    }
   ],
   "source": [
    "# Using for loop \n",
    "\n",
    "def factorial(n):\n",
    "    result = 1\n",
    "    for i in range(1, n + 1):\n",
    "        result *= i\n",
    "    return result\n",
    "\n",
    "\n",
    "number = 5\n",
    "result = factorial(number)\n",
    "print(f\"The factorial of {number} is {result}\")\n"
   ]
  },
  {
   "cell_type": "code",
   "execution_count": 47,
   "metadata": {},
   "outputs": [
    {
     "name": "stdout",
     "output_type": "stream",
     "text": [
      "120\n"
     ]
    }
   ],
   "source": [
    "# using while loop \n",
    "\n",
    "def factorial(n):\n",
    "    result = 1\n",
    "    while n > 1:\n",
    "      # 1 * = n\n",
    "      result *= n\n",
    "      n -= 1              \n",
    "    return result\n",
    "\n",
    "number = 5 \n",
    "result = factorial(number)\n",
    "print(factorial(number))\n",
    "    "
   ]
  },
  {
   "cell_type": "code",
   "execution_count": 48,
   "metadata": {},
   "outputs": [
    {
     "data": {
      "text/plain": [
       "6"
      ]
     },
     "execution_count": 48,
     "metadata": {},
     "output_type": "execute_result"
    }
   ],
   "source": [
    "# using recursive \n",
    "\n",
    "def factorial(n):\n",
    "   if n == 1:\n",
    "      return 1\n",
    "   else:\n",
    "      return n * factorial(n - 1)\n",
    " \n",
    "factorial(3)\n"
   ]
  },
  {
   "cell_type": "code",
   "execution_count": 2,
   "metadata": {},
   "outputs": [
    {
     "name": "stdout",
     "output_type": "stream",
     "text": [
      "(11, 22, [33, 444, 55], 66, 77)\n"
     ]
    }
   ],
   "source": [
    "t1 = (11, 22, [33, 44, 55], 66, 77)\n",
    "\n",
    "\n",
    "t1_list = list(t1)\n",
    "t1_list[2][1] = 444\n",
    "update_tuple = tuple(t1_list)\n",
    "\n",
    "\n",
    "print(update_tuple)"
   ]
  },
  {
   "cell_type": "code",
   "execution_count": 4,
   "metadata": {},
   "outputs": [
    {
     "name": "stdout",
     "output_type": "stream",
     "text": [
      "['My', 'name', 'is', 'Kelly']\n"
     ]
    }
   ],
   "source": [
    "list1 = [\"M\", \"na\", \"i\", \"Ke\"]\n",
    "list2 = [\"y\", \"me\", \"s\", \"lly\"]\n",
    "list3 = []\n",
    "for idx in range(len(list1)):\n",
    "    list3.append(list1[idx]+list2[idx])\n",
    "print(list3)"
   ]
  },
  {
   "cell_type": "code",
   "execution_count": 6,
   "metadata": {},
   "outputs": [
    {
     "name": "stdout",
     "output_type": "stream",
     "text": [
      "{'emp1': {'name': 'Jhon', 'salary': 75000}, 'emp2': {'name': 'Emma', 'salary': 80000}, 'emp3': {'name': 'Brad', 'salary': 85000}}\n"
     ]
    }
   ],
   "source": [
    "# Given dictionary\n",
    "dict = {\n",
    "    'emp1': {'name': 'Jhon', 'salary': 75000},\n",
    "    'emp2': {'name': 'Emma', 'salary': 80000},\n",
    "    'emp3': {'name': 'Brad', 'salary': 500}\n",
    "}\n",
    "\n",
    "# Update Brad's salary to 85000\n",
    "dict['emp3']['salary'] = 85000\n",
    "\n",
    "# Print the modified dictionary\n",
    "print(dict)\n"
   ]
  },
  {
   "cell_type": "code",
   "execution_count": 7,
   "metadata": {},
   "outputs": [
    {
     "name": "stdout",
     "output_type": "stream",
     "text": [
      "Elements present in Set A or B, but not both: {10, 80, 20, 90, 30}\n"
     ]
    }
   ],
   "source": [
    "# Given sets\n",
    "set1 = {10, 20, 30, 40, 50, 60, 70}\n",
    "set2 = {40, 50, 60, 70, 80, 90}\n",
    "\n",
    "# Calculate the symmetric difference using the ^ operator\n",
    "result_set = set1 ^ set2\n",
    "\n",
    "# Print the result\n",
    "print(\"Elements present in Set A or B, but not both:\", result_set)\n"
   ]
  },
  {
   "cell_type": "code",
   "execution_count": 8,
   "metadata": {},
   "outputs": [
    {
     "name": "stdout",
     "output_type": "stream",
     "text": [
      "Sum of the series up to 5 terms: 24690\n"
     ]
    }
   ],
   "source": [
    "# Calculate the sum of the series up to n terms\n",
    "n = 5\n",
    "series_sum = 0\n",
    "term = 2\n",
    "for i in range(1, n + 1):\n",
    "    series_sum += term\n",
    "    term = term * 10 + 2\n",
    "print(f\"Sum of the series up to {n} terms: {series_sum}\")\n"
   ]
  },
  {
   "cell_type": "code",
   "execution_count": 14,
   "metadata": {},
   "outputs": [
    {
     "name": "stdout",
     "output_type": "stream",
     "text": [
      "[12, 23, 34, 45, 56, 67, 78, 89, 90]\n",
      "['Even', 'Odd', 'Even', 'Odd', 'Even', 'Odd', 'Even', 'Odd', 'Even']\n"
     ]
    }
   ],
   "source": [
    "List1 = [12, 23, 34, 45, 56, 67, 78, 89, 90]\n",
    "result = [\"Even\" if num % 2 == 0 else \"Odd\" for num in List1]\n",
    "print(List1)\n",
    "print(result)\n"
   ]
  },
  {
   "cell_type": "code",
   "execution_count": 15,
   "metadata": {},
   "outputs": [
    {
     "name": "stdout",
     "output_type": "stream",
     "text": [
      "5\n",
      "11\n"
     ]
    }
   ],
   "source": [
    "n=7\n",
    "\n",
    "\n",
    "\n",
    "c=0\n",
    "\n",
    "\n",
    "\n",
    "while(n):\n",
    "\n",
    "\n",
    "\n",
    "    if(n>5):\n",
    "\n",
    "\n",
    "\n",
    "        c=c+n-1\n",
    "\n",
    "\n",
    "\n",
    "        n=n-1\n",
    "\n",
    "\n",
    "\n",
    "    else:\n",
    "\n",
    "\n",
    "\n",
    "        break\n",
    "\n",
    "\n",
    "\n",
    "print(n)\n",
    "\n",
    "\n",
    "\n",
    "print(c)"
   ]
  },
  {
   "cell_type": "code",
   "execution_count": 17,
   "metadata": {},
   "outputs": [
    {
     "name": "stdout",
     "output_type": "stream",
     "text": [
      "1\n",
      "0\n"
     ]
    }
   ],
   "source": [
    "i=2\n",
    "\n",
    "\n",
    "\n",
    "while(i>0):\n",
    "\n",
    "\n",
    "\n",
    "    i=i-1\n",
    "    print(i)"
   ]
  },
  {
   "cell_type": "code",
   "execution_count": 18,
   "metadata": {},
   "outputs": [
    {
     "name": "stdout",
     "output_type": "stream",
     "text": [
      "8 12\n"
     ]
    }
   ],
   "source": [
    "list1 = [3 , 2 , 5 , 6 , 0 , 7, 9]\n",
    "\n",
    "\n",
    "\n",
    "sum = 0\n",
    "\n",
    "\n",
    "\n",
    "sum1 = 0\n",
    "\n",
    "\n",
    "\n",
    "for elem in list1:\n",
    "\n",
    "\n",
    "\n",
    "    if (elem % 2 == 0):\n",
    "\n",
    "\n",
    "\n",
    "        sum = sum + elem\n",
    "\n",
    "\n",
    "\n",
    "        continue\n",
    "\n",
    "\n",
    "\n",
    "    if (elem % 3 == 0):\n",
    "\n",
    "\n",
    "\n",
    "        sum1 = sum1 + elem\n",
    "\n",
    "\n",
    "\n",
    "\n",
    "\n",
    "\n",
    "\n",
    "print(sum , end=\" \")\n",
    "\n",
    "\n",
    "\n",
    "print(sum1)"
   ]
  },
  {
   "cell_type": "code",
   "execution_count": 24,
   "metadata": {},
   "outputs": [
    {
     "name": "stdout",
     "output_type": "stream",
     "text": [
      "abcdef\n"
     ]
    }
   ],
   "source": [
    "x = \"abcdef\"\n",
    "\n",
    "\n",
    "\n",
    "i = \"i\"\n",
    "\n",
    "\n",
    "\n",
    "while i in x:\n",
    "\n",
    "\n",
    "\n",
    "    print(i, end=\" \")\n",
    "\n",
    "print(x)\n"
   ]
  },
  {
   "cell_type": "code",
   "execution_count": 25,
   "metadata": {},
   "outputs": [
    {
     "name": "stdout",
     "output_type": "stream",
     "text": [
      "Employee Name: John Doe\n",
      "Employee Age: 30\n",
      "Employee Salary: 12000\n",
      "Employee Name: Jane Smith\n",
      "Employee Age: 25\n",
      "Employee Salary: 9000\n"
     ]
    }
   ],
   "source": [
    "def show_employee(name, age, salary=9000):\n",
    "    print(f\"Employee Name: {name}\")\n",
    "    print(f\"Employee Age: {age}\")\n",
    "    print(f\"Employee Salary: {salary}\")\n",
    "\n",
    "# Example usage with all values provided\n",
    "show_employee(\"John Doe\", 30, 12000)\n",
    "\n",
    "# Example usage with salary missing (default value will be used)\n",
    "show_employee(\"Jane Smith\", 25)\n"
   ]
  },
  {
   "cell_type": "code",
   "execution_count": 26,
   "metadata": {},
   "outputs": [
    {
     "name": "stdout",
     "output_type": "stream",
     "text": [
      "Sum of numbers between 3 and 7: 25\n"
     ]
    }
   ],
   "source": [
    "def sum(start, end):\n",
    "    if start > end:\n",
    "        return 0\n",
    "    else:\n",
    "        return start + sum(start + 1, end)\n",
    "\n",
    "# Example usage\n",
    "start_number = 3\n",
    "end_number = 7\n",
    "\n",
    "result = sum(start_number, end_number)\n",
    "print(f\"Sum of numbers between {start_number} and {end_number}: {result}\")\n"
   ]
  },
  {
   "cell_type": "code",
   "execution_count": 27,
   "metadata": {},
   "outputs": [
    {
     "name": "stdout",
     "output_type": "stream",
     "text": [
      "Age List: [31, 30, 28, 26, 24, 22, 21, 20, 18]\n"
     ]
    }
   ],
   "source": [
    "\n",
    "list1 = [1991, 1992, 1994, 1996, 1998, 2000, 2001, 2002, 2004]\n",
    "\n",
    "# Calculate age using a lambda function\n",
    "current_year = 2022  # Assuming the current year is 2022\n",
    "\n",
    "age_list = list(map(lambda year: current_year - year, list1))\n",
    "\n",
    "\n",
    "print(\"Age List:\", age_list)\n",
    "\n"
   ]
  },
  {
   "cell_type": "code",
   "execution_count": 28,
   "metadata": {},
   "outputs": [
    {
     "name": "stdout",
     "output_type": "stream",
     "text": [
      "Color: White, Vehicle name: School Volvo, Speed: 180, Mileage: 12\n",
      "Color: White, Vehicle name: Audi Q5, Speed: 240, Mileage: 18\n"
     ]
    }
   ],
   "source": [
    "class Vehicle:\n",
    "    # Class attribute with default value\n",
    "    color = \"White\"\n",
    "\n",
    "    # Constructor to initialize instance attributes\n",
    "    def __init__(self, name, speed, mileage):\n",
    "        self.name = name\n",
    "        self.speed = speed\n",
    "        self.mileage = mileage\n",
    "\n",
    "    # Method to display vehicle information\n",
    "    def display_info(self):\n",
    "        print(f\"Color: {self.color}, Vehicle name: {self.name}, Speed: {self.speed}, Mileage: {self.mileage}\")\n",
    "\n",
    "# Creating instances of the Vehicle class\n",
    "school_bus = Vehicle(name=\"School Volvo\", speed=180, mileage=12)\n",
    "audi_q5 = Vehicle(name=\"Audi Q5\", speed=240, mileage=18)\n",
    "\n",
    "# Displaying information for each vehicle\n",
    "school_bus.display_info()\n",
    "audi_q5.display_info()\n"
   ]
  },
  {
   "cell_type": "code",
   "execution_count": 29,
   "metadata": {},
   "outputs": [
    {
     "name": "stdout",
     "output_type": "stream",
     "text": [
      "The file 'hello.txt' is not empty.\n"
     ]
    }
   ],
   "source": [
    "def is_file_empty(file_path):\n",
    "    try:\n",
    "        with open(file_path, 'r') as file:\n",
    "            content = file.read()\n",
    "            return not content.strip()  # Check if the content is empty or contains only whitespace\n",
    "    except FileNotFoundError:\n",
    "        print(f\"File '{file_path}' not found.\")\n",
    "        return False\n",
    "\n",
    "\n",
    "file_path = 'hello.txt'  \n",
    "\n",
    "if is_file_empty(file_path):\n",
    "    print(f\"The file '{file_path}' is empty.\")\n",
    "else:\n",
    "    print(f\"The file '{file_path}' is not empty.\")\n"
   ]
  },
  {
   "cell_type": "code",
   "execution_count": 1,
   "metadata": {},
   "outputs": [
    {
     "name": "stdout",
     "output_type": "stream",
     "text": [
      "Individual digits: ['1', '2', '3']\n",
      "Digit sequences: ['123']\n"
     ]
    }
   ],
   "source": [
    "import re\n",
    "\n",
    "search = \"Hello, 123 world!\"\n",
    "\n",
    "# Search for individual digits\n",
    "result_individual = re.findall(r'\\d', search)\n",
    "print(\"Individual digits:\", result_individual)\n",
    "\n",
    "# Search for sequences of digits\n",
    "result_sequences = re.findall(r'\\d+', search)\n",
    "print(\"Digit sequences:\", result_sequences)\n"
   ]
  },
  {
   "cell_type": "markdown",
   "metadata": {},
   "source": [
    "NUMPY PRACTICE"
   ]
  },
  {
   "cell_type": "code",
   "execution_count": 2,
   "metadata": {},
   "outputs": [
    {
     "name": "stdout",
     "output_type": "stream",
     "text": [
      "[[0 0 0]\n",
      " [0 0 0]]\n"
     ]
    },
    {
     "data": {
      "text/plain": [
       "array([[[1., 1.],\n",
       "        [1., 1.],\n",
       "        [1., 1.]],\n",
       "\n",
       "       [[1., 1.],\n",
       "        [1., 1.],\n",
       "        [1., 1.]]])"
      ]
     },
     "execution_count": 2,
     "metadata": {},
     "output_type": "execute_result"
    }
   ],
   "source": [
    "import numpy as np\n",
    "\n",
    "a = np.zeros((2,3),dtype=np.int32)\n",
    "print(a)\n",
    "\n",
    "a1=np.ones((2,3,2))\n",
    "a1\n",
    "\n"
   ]
  },
  {
   "cell_type": "code",
   "execution_count": 2,
   "metadata": {},
   "outputs": [
    {
     "name": "stdout",
     "output_type": "stream",
     "text": [
      "<re.Match object; span=(7, 8), match='1'>\n",
      "Matched string: 1\n",
      "Starting position: 7\n",
      "Ending position: 8\n",
      "Positions: (7, 8)\n"
     ]
    }
   ],
   "source": [
    "# Regex \n",
    "\n",
    "import re\n",
    "\n",
    "s = \"Python 10:54 was 4 4.5 5.5released on October 04, 2021.\"\n",
    "result = re.search('\\d',s)\n",
    "print(result)\n",
    "                                           \n",
    "print('Matched string:',result.group())\n",
    "print('Starting position:', result.start())\n",
    "print('Ending position:',result.end())\n",
    "print('Positions:',result.span())"
   ]
  }
 ],
 "metadata": {
  "kernelspec": {
   "display_name": "Python 3",
   "language": "python",
   "name": "python3"
  },
  "language_info": {
   "codemirror_mode": {
    "name": "ipython",
    "version": 3
   },
   "file_extension": ".py",
   "mimetype": "text/x-python",
   "name": "python",
   "nbconvert_exporter": "python",
   "pygments_lexer": "ipython3",
   "version": "3.11.8"
  }
 },
 "nbformat": 4,
 "nbformat_minor": 2
}
