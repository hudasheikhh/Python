{
 "cells": [
  {
   "cell_type": "code",
   "execution_count": 35,
   "metadata": {},
   "outputs": [
    {
     "name": "stdout",
     "output_type": "stream",
     "text": [
      "The index of 'h' in 'harshal' are: [0, 4]\n"
     ]
    }
   ],
   "source": [
    "# Question 1 -\n",
    "string = \"harshal\"\n",
    "letter = input(\"Enter letter\")\n",
    "\n",
    "index = []\n",
    "counter = 0\n",
    "\n",
    "for char in string:\n",
    "    if char == letter:\n",
    "        index.append(counter)\n",
    "    counter += 1\n",
    "\n",
    "print(\"The index of '{}' in '{}' are: {}\".format(letter, string, index))"
   ]
  },
  {
   "cell_type": "code",
   "execution_count": 34,
   "metadata": {},
   "outputs": [
    {
     "name": "stdout",
     "output_type": "stream",
     "text": [
      "sum of even numbers 2 to 20 is: 110\n"
     ]
    }
   ],
   "source": [
    "# question 2 \n",
    "start = 2\n",
    "end = 20\n",
    "even_sum = 0\n",
    "\n",
    "for i in range(start, end + 1):\n",
    "    if i % 2 == 0:\n",
    "        even_sum += i\n",
    "\n",
    "print(f\"sum of even numbers {start} to {end} is: {even_sum}\")"
   ]
  },
  {
   "cell_type": "code",
   "execution_count": 25,
   "metadata": {},
   "outputs": [
    {
     "name": "stdout",
     "output_type": "stream",
     "text": [
      "* \n",
      "* * \n",
      "* * * \n",
      "* * * * \n",
      "Sum: 10\n"
     ]
    }
   ],
   "source": [
    "# question 3\n",
    "\n",
    "n = 4\n",
    "row_sum = 0\n",
    "\n",
    "for i in range(1, n + 1):\n",
    "    row_sum += i\n",
    "    print('* ' * i)\n",
    "\n",
    "print(f'Sum: {row_sum}')\n",
    "\n"
   ]
  },
  {
   "cell_type": "code",
   "execution_count": 1,
   "metadata": {},
   "outputs": [
    {
     "name": "stdout",
     "output_type": "stream",
     "text": [
      "the sum of digits is: 16\n"
     ]
    }
   ],
   "source": [
    "# question 4 \n",
    "\n",
    "user_input=(input(\"enter a number: \"))\n",
    "\n",
    "digit_sum=0\n",
    "for digit in user_input:\n",
    "    digit_sum += int(digit)\n",
    "\n",
    "print(f\"the sum of digits is: {digit_sum}\")\n"
   ]
  },
  {
   "cell_type": "code",
   "execution_count": 37,
   "metadata": {},
   "outputs": [
    {
     "name": "stdout",
     "output_type": "stream",
     "text": [
      "True\n",
      "False\n"
     ]
    }
   ],
   "source": [
    "# question 5 \n",
    "\n",
    "def audit(sequence):\n",
    "    n = len(sequence)\n",
    "    for i in range(n):\n",
    "        for j in range(i + 1, n):\n",
    "            if sequence[i] == sequence[j]:\n",
    "                return False\n",
    "    return True\n",
    "\n",
    "\n",
    "my_sequence_1 = [1, 2, 3, 4, 5]\n",
    "my_sequence_2 = [1, 2, 3, 4, 1]\n",
    "\n",
    "result_1 = \"True\" if audit(my_sequence_1) else \"False\"\n",
    "result_2 = \"True\" if audit(my_sequence_2) else \"False\"\n",
    "\n",
    "print(result_1) \n",
    "print(result_2)  "
   ]
  },
  {
   "cell_type": "code",
   "execution_count": 33,
   "metadata": {},
   "outputs": [
    {
     "name": "stdout",
     "output_type": "stream",
     "text": [
      "hat is not a palindrome.\n"
     ]
    }
   ],
   "source": [
    "# palindrome\n",
    "word = input(\"Enter a word: \").lower()\n",
    "print(f\"{word} is a palindrome!\" if word == word[::-1] else f\"{word} is not a palindrome.\")\n"
   ]
  },
  {
   "cell_type": "code",
   "execution_count": 1,
   "metadata": {},
   "outputs": [
    {
     "data": {
      "text/plain": [
       "'123abc: 666xyz: lmn-11 77def:'"
      ]
     },
     "execution_count": 1,
     "metadata": {},
     "output_type": "execute_result"
    }
   ],
   "source": [
    "import re\n",
    "\n",
    "s = 'abc123 xyz666 lmn-11 def77'\n",
    "\n",
    "re.sub(r'\\b([a-z]+)(\\d+)', r'\\2\\1:', s)\n",
    "\n",
    "\n"
   ]
  },
  {
   "cell_type": "code",
   "execution_count": 2,
   "metadata": {},
   "outputs": [
    {
     "name": "stdout",
     "output_type": "stream",
     "text": [
      "a\n"
     ]
    }
   ],
   "source": [
    "print(chr(ord(chr(97))))"
   ]
  },
  {
   "cell_type": "code",
   "execution_count": 4,
   "metadata": {},
   "outputs": [
    {
     "name": "stdout",
     "output_type": "stream",
     "text": [
      "Hello Hello Hello\n"
     ]
    }
   ],
   "source": [
    "n = re.sub(r'\\w+', 'Hello', 'Cats and dogs')\n",
    "\n",
    "print(n)"
   ]
  },
  {
   "cell_type": "code",
   "execution_count": 5,
   "metadata": {},
   "outputs": [
    {
     "name": "stdout",
     "output_type": "stream",
     "text": [
      "3\n",
      "7\n"
     ]
    }
   ],
   "source": [
    "class A:\n",
    "\n",
    "\n",
    "\n",
    "\tdef __init__(self,num):\n",
    "\n",
    "\n",
    "\n",
    "\t\tnum=3\n",
    "\n",
    "\n",
    "\n",
    "\t\tself.num=num\n",
    "\n",
    "\n",
    "\n",
    "\tdef change(self):\n",
    "\n",
    "\n",
    "\n",
    "\t\tself.num=7\n",
    "\n",
    "\n",
    "\n",
    "a=A(5)\n",
    "\n",
    "\n",
    "\n",
    "print(a.num)\n",
    "\n",
    "\n",
    "\n",
    "a.change()\n",
    "\n",
    "\n",
    "\n",
    "print(a.num)\n",
    "\n"
   ]
  },
  {
   "cell_type": "code",
   "execution_count": 9,
   "metadata": {},
   "outputs": [
    {
     "name": "stdout",
     "output_type": "stream",
     "text": [
      "3.141592653589793\n"
     ]
    }
   ],
   "source": [
    "from math import pi \n",
    "print(pi)"
   ]
  },
  {
   "cell_type": "code",
   "execution_count": 10,
   "metadata": {},
   "outputs": [
    {
     "name": "stdout",
     "output_type": "stream",
     "text": [
      "Received input is :  877\n"
     ]
    }
   ],
   "source": [
    "str = input(\"Enter your input: \");\n",
    "\n",
    "print (\"Received input is : \", str)\n"
   ]
  },
  {
   "cell_type": "code",
   "execution_count": null,
   "metadata": {},
   "outputs": [],
   "source": [
    "\n"
   ]
  }
 ],
 "metadata": {
  "kernelspec": {
   "display_name": "Python 3",
   "language": "python",
   "name": "python3"
  },
  "language_info": {
   "codemirror_mode": {
    "name": "ipython",
    "version": 3
   },
   "file_extension": ".py",
   "mimetype": "text/x-python",
   "name": "python",
   "nbconvert_exporter": "python",
   "pygments_lexer": "ipython3",
   "version": "3.11.7"
  }
 },
 "nbformat": 4,
 "nbformat_minor": 2
}
