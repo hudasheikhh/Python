{
 "cells": [
  {
   "cell_type": "markdown",
   "metadata": {},
   "source": [
    "# __Regular Expressions__"
   ]
  },
  {
   "cell_type": "code",
   "execution_count": 2,
   "metadata": {},
   "outputs": [],
   "source": [
    "import re"
   ]
  },
  {
   "cell_type": "code",
   "execution_count": 83,
   "metadata": {},
   "outputs": [
    {
     "name": "stdout",
     "output_type": "stream",
     "text": [
      "['Python', 'python']\n"
     ]
    }
   ],
   "source": [
    "p = re.compile('[Pp]ython')\n",
    "s = \"Python 3.10 was released on October 04, 2021,It's python\"\n",
    "result = p.findall(s)\n",
    "print(result)\n"
   ]
  },
  {
   "cell_type": "markdown",
   "metadata": {},
   "source": [
    "<table><thead><tr><th>Method</th><th>Purpose</th></tr></thead><tbody><tr><td><code>match()</a></code></td><td>Find the pattern at the beginning of a string</td></tr><tr><td><code>search()</code></td><td>Return the first match of a pattern in a string</td></tr><tr><td><code>findall()</code></td><td>Return all matches of a pattern in a string</td></tr><tr><td><code>finditer()</code></td><td>Return all matches of a pattern as an iterator</a></td></tr><tr><td><code>fullmatch()</code></td><td>Returns a Match object if the whole string matches a pattern or None otherwise</td></tr></tbody></table>"
   ]
  },
  {
   "cell_type": "code",
   "execution_count": 55,
   "metadata": {},
   "outputs": [
    {
     "name": "stdout",
     "output_type": "stream",
     "text": [
      "<class 're.Match'>\n",
      "<re.Match object; span=(9, 11), match='10'>\n"
     ]
    }
   ],
   "source": [
    "s = \"Python 3.10 was released on October 04, 2021.\"\n",
    "pattern = '\\d{2}'\n",
    "match = re.search(pattern, s) \n",
    "print(type(match))\n",
    "print(match)"
   ]
  },
  {
   "cell_type": "markdown",
   "metadata": {},
   "source": [
    "<table><thead><tr><th>Method</th><th>Description</th></tr></thead><tbody><tr><td><code>group()</code></td><td>Return the matched string</td></tr><tr><td><code>start()</code></td><td>Return the starting position of the match</td></tr><tr><td><code>end()</code></td><td>Return the ending position of the match</td></tr><tr><td><code>span()</code></td><td>Return a tuple (start, end) that specifies the positions of the match</td></tr></tbody></table>"
   ]
  },
  {
   "cell_type": "code",
   "execution_count": 57,
   "metadata": {},
   "outputs": [
    {
     "name": "stdout",
     "output_type": "stream",
     "text": [
      "<re.Match object; span=(7, 8), match='1'>\n",
      "Matched string: 1\n",
      "Starting position: 7\n",
      "Ending position: 8\n",
      "Positions: (7, 8)\n"
     ]
    }
   ],
   "source": [
    "s = \"Python 10:54 was 4 4.5 5.5released on October 04, 2021.\"\n",
    "result = re.search('\\d',s)\n",
    "print(result)\n",
    "\n",
    "print('Matched string:',result.group())\n",
    "print('Starting position:', result.start())\n",
    "print('Ending position:',result.end())\n",
    "print('Positions:',result.span())"
   ]
  },
  {
   "cell_type": "code",
   "execution_count": 60,
   "metadata": {},
   "outputs": [
    {
     "name": "stdout",
     "output_type": "stream",
     "text": [
      "1 0 5 4 4 4 5 5 5 0 4 2 0 2 1 \n",
      "12\n",
      "20\n"
     ]
    }
   ],
   "source": [
    "s = \"Python 10:54 was 4 4.5 5.5 released on October 04, 2021.\"\n",
    "result = re.finditer('\\d', s)\n",
    "for i in result:\n",
    "    print(i.group(),end=' ')\n",
    "print()\n",
    "time = '12:20'\n",
    "matches = re.finditer('\\d\\d', time)\n",
    "for match in matches:\n",
    "    print(match.group())"
   ]
  },
  {
   "cell_type": "code",
   "execution_count": 92,
   "metadata": {},
   "outputs": [
    {
     "name": "stdout",
     "output_type": "stream",
     "text": [
      "2008\n"
     ]
    }
   ],
   "source": [
    "s = 'Python 3.0 was released in 2008'\n",
    "matches = re.finditer('\\d{4}', s)\n",
    "for match in matches:\n",
    "    print(match.group())"
   ]
  },
  {
   "cell_type": "code",
   "execution_count": 93,
   "metadata": {},
   "outputs": [
    {
     "name": "stdout",
     "output_type": "stream",
     "text": [
      "P y t h o n 3 0 "
     ]
    }
   ],
   "source": [
    "s = 'Python 3.0'\n",
    "matches = re.finditer('\\w', s)\n",
    "for match in matches:\n",
    "    print(match.group(),end=' ')\n",
    "    "
   ]
  },
  {
   "cell_type": "code",
   "execution_count": 2,
   "metadata": {},
   "outputs": [
    {
     "name": "stdout",
     "output_type": "stream",
     "text": [
      "<re.Match object; span=(0, 6), match='Python'>\n",
      "None\n",
      "<re.Match object; span=(0, 6), match='Jython'>\n",
      "None\n"
     ]
    }
   ],
   "source": [
    "import re\n",
    "\n",
    "l = ['Python', \n",
    "    'CPython is an implementation of Python written in C', \n",
    "    'Jython is a Java implementation of Python',\n",
    "     'IronPython is Python on .NET framework']\n",
    "\n",
    "pattern = '\\wython'\n",
    "for s in l:\n",
    "    result = re.match(pattern,s)\n",
    "    print(result)"
   ]
  },
  {
   "cell_type": "code",
   "execution_count": 68,
   "metadata": {},
   "outputs": [
    {
     "name": "stdout",
     "output_type": "stream",
     "text": [
      "<re.Match object; span=(0, 4), match='2021'>\n"
     ]
    }
   ],
   "source": [
    "s = \"2021\"\n",
    "pattern = '\\d{4}'\n",
    "result = re.fullmatch(pattern, s)\n",
    "print(result)"
   ]
  },
  {
   "cell_type": "markdown",
   "metadata": {},
   "source": [
    "### __Regular expressions and raw strings__"
   ]
  },
  {
   "cell_type": "markdown",
   "metadata": {},
   "source": [
    "<pre>to match a literal backslash ('\\'), you have to write '\\\\\\\\' because \n",
    "the regular expression must be '\\\\' and each backslash must be expressed as \n",
    "'\\\\' inside a string literal in Python.</pre>"
   ]
  },
  {
   "cell_type": "code",
   "execution_count": 70,
   "metadata": {},
   "outputs": [
    {
     "name": "stdout",
     "output_type": "stream",
     "text": [
      "['\\\\3']\n"
     ]
    }
   ],
   "source": [
    "\n",
    "s='43/42\\\\32' # or r'43/34\\32'\n",
    "p='\\\\\\\\\\d'\n",
    "p=re.compile(p)\n",
    "print(p.findall(s))"
   ]
  },
  {
   "cell_type": "code",
   "execution_count": 104,
   "metadata": {},
   "outputs": [
    {
     "name": "stdout",
     "output_type": "stream",
     "text": [
      "<re.Match object; span=(0, 5), match='\\\\name'>\n"
     ]
    }
   ],
   "source": [
    "s=r'\\name' # or '\\\\name'\n",
    "p='\\\\\\\\name'\n",
    "print(re.fullmatch(p,s))"
   ]
  },
  {
   "cell_type": "code",
   "execution_count": 61,
   "metadata": {},
   "outputs": [
    {
     "name": "stdout",
     "output_type": "stream",
     "text": [
      "<class 're.Match'>\n",
      "<re.Match object; span=(0, 2), match='23'>\n"
     ]
    }
   ],
   "source": [
    "s = \"Python 3.10 was released on October 04, 2021.\"\n",
    "s='23'\n",
    "pattern = '\\d{2}'\n",
    "match = re.fullmatch(pattern, s) \n",
    "print(type(match))\n",
    "print(match)"
   ]
  },
  {
   "cell_type": "code",
   "execution_count": 72,
   "metadata": {},
   "outputs": [
    {
     "name": "stdout",
     "output_type": "stream",
     "text": [
      "True\n"
     ]
    }
   ],
   "source": [
    "p1 = '\\\\section'\n",
    "p2 = '\\section'\n",
    "\n",
    "print(p1==p2) # true"
   ]
  },
  {
   "cell_type": "markdown",
   "metadata": {},
   "source": [
    "### __Python Regex Character Set__\n",
    "<img src=\"https://itv-uploads.s3.ap-south-1.amazonaws.com/summernote_images/162e51c0c470b3.png\">\n",
    "<pre>\n",
    "The dot(.) character set\n",
    "The dot (.) character set matches any single character except the new line (\\n).\n",
    "The following example uses the dot (.) character set to match every single character but the new line:\n",
    "</pre>"
   ]
  },
  {
   "cell_type": "code",
   "execution_count": 80,
   "metadata": {},
   "outputs": [
    {
     "name": "stdout",
     "output_type": "stream",
     "text": [
      "16505130514\n",
      "P y t h o n 4 ['1', '650', '513', '051', '4']\n"
     ]
    }
   ],
   "source": [
    "phone_no = re.sub('\\D', '', '+1-(650)-513-0514')\n",
    "print(phone_no)\n",
    "# sub() function replaces the character that matches the pattern \\D \n",
    "# with the literal string '' in the formatted phone number.\n",
    "version = \"Python\\n4\"\n",
    "matches = re.finditer('.', version)\n",
    "for match in matches:\n",
    "    print(match.group(),end=\" \")\n",
    "phone_no = re.findall('\\d{1,3}', '+1-(650)-513-0514')\n",
    "print(phone_no)"
   ]
  },
  {
   "cell_type": "markdown",
   "metadata": {},
   "source": [
    "### Introduction to the regex anchors\n",
    "<pre>\n",
    "^ – the caret anchor matches at the beginning of a string.\n",
    "$ – the dollar anchor matches at the end of a string.\n",
    "</pre>"
   ]
  },
  {
   "cell_type": "code",
   "execution_count": 73,
   "metadata": {},
   "outputs": [
    {
     "name": "stdout",
     "output_type": "stream",
     "text": [
      "12\n",
      "20\n"
     ]
    }
   ],
   "source": [
    "import re\n",
    "\n",
    "time = '12:20'\n",
    "matches = re.finditer('^\\d\\d', time)\n",
    "for match in matches:\n",
    "    print(match.group())\n",
    "matches = re.finditer('\\d\\d$', time)\n",
    "for match in matches:\n",
    "    print(match.group())"
   ]
  },
  {
   "cell_type": "code",
   "execution_count": 10,
   "metadata": {},
   "outputs": [
    {
     "name": "stdout",
     "output_type": "stream",
     "text": [
      "12:20\n"
     ]
    }
   ],
   "source": [
    "time = '12:20'\n",
    "matches = re.finditer('^\\d\\d:\\d\\d$', time)\n",
    "for match in matches:\n",
    "    print(match.group())"
   ]
  },
  {
   "cell_type": "markdown",
   "metadata": {},
   "source": [
    "#### Word boundry \n",
    "\\b<br>\n",
    "<img src=\"https://www.pythontutorial.net/wp-content/uploads/2021/11/python-regex-word-boundary.svg\">"
   ]
  },
  {
   "cell_type": "code",
   "execution_count": 78,
   "metadata": {},
   "outputs": [
    {
     "name": "stdout",
     "output_type": "stream",
     "text": [
      "Python\n",
      "now without boundry\n",
      "Python\n",
      "Python\n"
     ]
    }
   ],
   "source": [
    "import re\n",
    "\n",
    "s = 'CPython is the implementation of Python in C'\n",
    "matches = re.finditer(r'\\bPython\\b', s)\n",
    "for match in matches:\n",
    "    print(match.group())\n",
    "\n",
    "print('now without boundry')\n",
    "matches = re.finditer('Python', s)\n",
    "for match in matches:\n",
    "    print(match.group())\n"
   ]
  },
  {
   "cell_type": "markdown",
   "metadata": {},
   "source": [
    "### Regex Quantifiers\n",
    "<table><thead><tr><th>Quantifier</th><th>Name</th><th>Meaning</th></tr></thead><tbody><tr><td><code>*</code></td><td>Asterisk</td><td>Match its preceding element zero or more times.</td></tr><tr><td><code>+</code></td><td>Plus</td><td>Match its preceding element one or more times.</td></tr><tr><td><code>?</code></td><td>Question Mark</td><td>Match its preceding element zero or one time.</td></tr><tr><td><code>{</code>&nbsp;<em>n</em>&nbsp;<code>}</code></td><td>Curly Braces</td><td>Match its preceding element exactly&nbsp;<code>n</code>&nbsp;times.</td></tr><tr><td><code>{</code>&nbsp;<em>n</em>&nbsp;<code>,}</code></td><td>Curly Braces</td><td>Match its preceding element at least&nbsp;<code>n</code>&nbsp;times.</td></tr><tr><td><code>{</code>&nbsp;<em>n</em>&nbsp;<code>,</code>&nbsp;<em>m</em>&nbsp;<code>}</code></td><td>Curly Braces</td><td>Match its preceding element  from&nbsp;<code>n</code>&nbsp;to&nbsp;<code>m</code> times.</td></tr></tbody></table>"
   ]
  },
  {
   "cell_type": "code",
   "execution_count": 87,
   "metadata": {},
   "outputs": [
    {
     "name": "stdout",
     "output_type": "stream",
     "text": [
      "<re.Match object; span=(0, 7), match='CPython'>\n",
      "<re.Match object; span=(9, 19), match='IronPython'>\n",
      "<re.Match object; span=(25, 32), match='JPython'>\n",
      "<re.Match object; span=(51, 57), match='Python'>\n"
     ]
    }
   ],
   "source": [
    "s = \"\"\"CPython, IronPython, and JPython \n",
    "       are major Python's implementation\"\"\"\n",
    "\n",
    "matches = re.finditer('\\w*Python', s)\n",
    "\n",
    "for match in matches:\n",
    "    print(match)"
   ]
  },
  {
   "cell_type": "code",
   "execution_count": 89,
   "metadata": {},
   "outputs": [
    {
     "name": "stdout",
     "output_type": "stream",
     "text": [
      "<re.Match object; span=(9, 11), match='10'>\n",
      "<re.Match object; span=(28, 32), match='2021'>\n"
     ]
    }
   ],
   "source": [
    "s = \"Python 3.10 was released in 2021\"\n",
    "\n",
    "matches = re.finditer('\\d+', s)\n",
    "\n",
    "for match in matches:\n",
    "    print(match)"
   ]
  },
  {
   "cell_type": "code",
   "execution_count": 92,
   "metadata": {},
   "outputs": [
    {
     "name": "stdout",
     "output_type": "stream",
     "text": [
      "<re.Match object; span=(5, 10), match='color'>\n",
      "<re.Match object; span=(13, 19), match='colour'>\n"
     ]
    }
   ],
   "source": [
    "s = \"What color / colour do you like?\"\n",
    "\n",
    "matches = re.finditer('colou?r', s)\n",
    "\n",
    "for match in matches:\n",
    "    print(match)"
   ]
  },
  {
   "cell_type": "code",
   "execution_count": 9,
   "metadata": {},
   "outputs": [
    {
     "name": "stdout",
     "output_type": "stream",
     "text": [
      "<re.Match object; span=(8, 13), match='11:05'>\n"
     ]
    }
   ],
   "source": [
    "s = \"It was 11:05 AM\"\n",
    "\n",
    "matches = re.finditer('\\d{2}:\\d{2}', s)\n",
    "\n",
    "for match in matches:\n",
    "    print(match)"
   ]
  },
  {
   "cell_type": "code",
   "execution_count": 21,
   "metadata": {},
   "outputs": [
    {
     "name": "stdout",
     "output_type": "stream",
     "text": [
      "<re.Match object; span=(0, 8), match='5-5-2021'>\n",
      "<re.Match object; span=(12, 22), match='05-05-2021'>\n"
     ]
    }
   ],
   "source": [
    "import re\n",
    "\n",
    "s = \"5-5-2021 or 05-05-2021 or 5/5/2021\"\n",
    "\n",
    "matches = re.finditer('\\d{1,}-\\d{1,}-\\d{4}', s)\n",
    "\n",
    "for match in matches:\n",
    "    print(match)"
   ]
  },
  {
   "cell_type": "code",
   "execution_count": 20,
   "metadata": {},
   "outputs": [
    {
     "name": "stdout",
     "output_type": "stream",
     "text": [
      "<re.Match object; span=(0, 8), match='5-5-2021'>\n",
      "<re.Match object; span=(12, 22), match='05-05-2021'>\n"
     ]
    }
   ],
   "source": [
    "s = \"5-5-2021 or 05-05-2021 or 5/5/2021\"\n",
    "\n",
    "matches = re.finditer('\\d{1,2}-\\d{1,2}-\\d{4}', s)\n",
    "\n",
    "for match in matches:\n",
    "    print(match)"
   ]
  },
  {
   "cell_type": "markdown",
   "metadata": {},
   "source": [
    "#### Python Regex Greedy \n",
    "By default, all quantifiers work in a greedy mode. It means that the quantifiers <br>will try to match their preceding elements as much as possible."
   ]
  },
  {
   "cell_type": "code",
   "execution_count": 93,
   "metadata": {},
   "outputs": [
    {
     "name": "stdout",
     "output_type": "stream",
     "text": [
      "\"submit\" class=\"btn\"\n"
     ]
    }
   ],
   "source": [
    "s = '<button type=\"submit\" class=\"btn\">Send</button>'\n",
    "\n",
    "pattern = '\".+\"'\n",
    "matches = re.finditer(pattern, s)\n",
    "\n",
    "for match in matches:\n",
    "    print(match.group())"
   ]
  },
  {
   "cell_type": "markdown",
   "metadata": {},
   "source": [
    "#### Introduction to the regex non-greedy (or lazy) quantifiers\n",
    "Quantifiers allow you to match their preceding elements a number of times.<br> Quantifiers work in one of two modes: greedy and non-greedy (lazy).<br>\n",
    "<br>\n",
    "When quantifiers work in the greedy mode, they are called greedy quantifiers.<br> Similarly, when quantifiers work in the non-greedy mode, <br>they’re called non-greedy quantifiers or lazy quantifiers."
   ]
  },
  {
   "cell_type": "markdown",
   "metadata": {},
   "source": [
    "<table><thead><tr><th>Greedy quantifier</th><th>Lazy quantifier</th><th>Meaning</th></tr></thead><tbody><tr><td><code>*</code></td><td><code>*?</code></td><td>Match its preceding element zero or more times.</td></tr><tr><td><code>+</code></td><td><code>+?</code></td><td>Match its preceding element one or more times.</td></tr><tr><td><code>?</code></td><td><code>??</code></td><td>Match its preceding element zero or one time.</td></tr><tr><td><code>{</code>&nbsp;<em>n</em>&nbsp;<code>}</code></td><td><code>{</code>&nbsp;<em>n</em>&nbsp;<code>}?</code></td><td>Match its preceding element exactly&nbsp;<em>n</em>&nbsp;times.</td></tr><tr><td><code>{</code>&nbsp;<em>n</em>&nbsp;<code>,}</code></td><td><code>{</code>&nbsp;<em>n</em>&nbsp;<code>,}?</code></td><td>Match its preceding element at least&nbsp;<em>n</em>&nbsp;times.</td></tr><tr><td><code>{</code>&nbsp;<em>n</em>&nbsp;<code>,</code>&nbsp;<em>m</em>&nbsp;<code>}</code></td><td><code>{</code>&nbsp;<em>n</em>&nbsp;<code>,</code>&nbsp;<em>m</em>&nbsp;<code>}?</code></td><td>Match its preceding element from&nbsp;<em>n</em>&nbsp;to&nbsp;<em>m</em>&nbsp;times.</td></tr></tbody></table>"
   ]
  },
  {
   "cell_type": "code",
   "execution_count": 51,
   "metadata": {},
   "outputs": [
    {
     "name": "stdout",
     "output_type": "stream",
     "text": [
      "\"submit\"\n",
      "\"btn\"\n"
     ]
    }
   ],
   "source": [
    "s = '<button type=\"submit\" class=\"btn\">Send</button>'\n",
    "\n",
    "pattern = '\".+?\"'\n",
    "matches = re.finditer(pattern, s)\n",
    "\n",
    "for match in matches:\n",
    "    print(match.group())"
   ]
  },
  {
   "cell_type": "markdown",
   "metadata": {},
   "source": [
    "### Python Regex Sets & Ranges\n",
    "#### Sets\n",
    "<br>\n",
    "For example, [abc] means any of three characters. 'a', 'b', or 'c'. The [abc] is called a set."
   ]
  },
  {
   "cell_type": "code",
   "execution_count": 99,
   "metadata": {},
   "outputs": [
    {
     "name": "stdout",
     "output_type": "stream",
     "text": [
      "licence\n",
      "license\n",
      "['I', 'P', 'L']"
     ]
    }
   ],
   "source": [
    "s = 'A licence or license'\n",
    "\n",
    "pattern = \"licen[cs]e\"\n",
    "matches = re.finditer(pattern, s)\n",
    "\n",
    "for match in matches:\n",
    "    print(match.group())\n",
    "s=\"python Is a Programming Language\"\n",
    "print(re.findall('[A-Z]',s),end='')"
   ]
  },
  {
   "cell_type": "markdown",
   "metadata": {},
   "source": [
    "#### Ranges\n",
    "<pre>\n",
    "When a set consists of many characters in e.g., \n",
    "from a to z or 1 to 9, it’ll tedious to list them in a set. \n",
    "Instead, you can use character ranges in square brackets. \n",
    "For example, [a-z] is a character in the range from a to z and [0-9] is a digit from 0 to 9.\n",
    "</pre>\n",
    "#### Excluding sets & ranges\n",
    "<pre>To negate a set or a range, you use the caret character (^) at the beginning of the set and range. \n",
    "For example, the range [^0-9] </pre>"
   ]
  },
  {
   "cell_type": "code",
   "execution_count": null,
   "metadata": {},
   "outputs": [],
   "source": [
    "[01]\\d|2[0-3] for valid hour  alternation  0-23      0-19 | 20-23\n",
    "[0-5]\\d       for minute                   0-59"
   ]
  },
  {
   "cell_type": "code",
   "execution_count": null,
   "metadata": {},
   "outputs": [],
   "source": [
    "import re\n",
    "#look a head\n",
    "\n",
    "s = '1 Python is about 4 feet long'\n",
    "pattern = '\\d+(?=\\s*feet)'\n",
    "\n",
    "matches = re.finditer(pattern,s)\n",
    "for match in matches:\n",
    "    print(match.group())"
   ]
  },
  {
   "cell_type": "code",
   "execution_count": null,
   "metadata": {},
   "outputs": [],
   "source": [
    "import re\n",
    "#negative  look ahead\n",
    "s = '1 Python is about 4 feet long'\n",
    "pattern = '\\d+(?!\\s*feet)'\n",
    "\n",
    "matches = re.finditer(pattern,s)\n",
    "for match in matches:\n",
    "    print(match.group())"
   ]
  },
  {
   "cell_type": "code",
   "execution_count": null,
   "metadata": {},
   "outputs": [],
   "source": [
    "#Look behind\n",
    "import re\n",
    "\n",
    "s = '1 phone costs $500'\n",
    "pattern = '(?<=\\$)\\d+'\n",
    "\n",
    "matches = re.finditer(pattern, s)\n",
    "for match in matches:\n",
    "    print(match.group())\n"
   ]
  },
  {
   "cell_type": "code",
   "execution_count": null,
   "metadata": {},
   "outputs": [],
   "source": [
    "import re\n",
    "#negative look behind\n",
    "s = '1 phone costs $500'\n",
    "pattern = r'\\b(?<!\\$)\\d+\\b'\n",
    "\n",
    "matches = re.finditer(pattern, s)\n",
    "for match in matches:\n",
    "    print(match.group())\n"
   ]
  }
 ],
 "metadata": {
  "kernelspec": {
   "display_name": "Python 3",
   "language": "python",
   "name": "python3"
  },
  "language_info": {
   "codemirror_mode": {
    "name": "ipython",
    "version": 3
   },
   "file_extension": ".py",
   "mimetype": "text/x-python",
   "name": "python",
   "nbconvert_exporter": "python",
   "pygments_lexer": "ipython3",
   "version": "3.11.6"
  }
 },
 "nbformat": 4,
 "nbformat_minor": 2
}
